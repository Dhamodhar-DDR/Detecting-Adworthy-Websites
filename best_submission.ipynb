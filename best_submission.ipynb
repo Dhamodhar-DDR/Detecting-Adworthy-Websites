{
 "cells": [
  {
   "cell_type": "markdown",
   "id": "46908dd4",
   "metadata": {},
   "source": [
    "# Help Boost Our Online Reach"
   ]
  },
  {
   "cell_type": "code",
   "execution_count": 1,
   "id": "7dbf7abb",
   "metadata": {
    "_cell_guid": "b1076dfc-b9ad-4769-8c92-a6c4dae69d19",
    "_kg_hide-output": true,
    "_uuid": "8f2839f25d086af736a60e9eeb907d3b93b6e0e5",
    "execution": {
     "iopub.execute_input": "2021-11-05T14:21:39.811324Z",
     "iopub.status.busy": "2021-11-05T14:21:39.810790Z",
     "iopub.status.idle": "2021-11-05T14:21:45.451036Z",
     "shell.execute_reply": "2021-11-05T14:21:45.450371Z",
     "shell.execute_reply.started": "2021-11-05T14:21:39.811228Z"
    },
    "jupyter": {
     "outputs_hidden": true
    }
   },
   "outputs": [],
   "source": [
    "#importing important libraries\n",
    "import pandas as pd\n",
    "import matplotlib.pyplot as plt\n",
    "import numpy as np\n",
    "import seaborn as sns\n",
    "import json\n",
    "import nltk"
   ]
  },
  {
   "cell_type": "code",
   "execution_count": 2,
   "id": "8f749c57",
   "metadata": {
    "execution": {
     "iopub.execute_input": "2021-11-05T14:21:45.453102Z",
     "iopub.status.busy": "2021-11-05T14:21:45.452835Z",
     "iopub.status.idle": "2021-11-05T14:21:45.797441Z",
     "shell.execute_reply": "2021-11-05T14:21:45.796703Z",
     "shell.execute_reply.started": "2021-11-05T14:21:45.453068Z"
    }
   },
   "outputs": [],
   "source": [
    "# Storing the given csv files into dataframes.\n",
    "train_data = pd.read_csv('train_data.csv')\n",
    "test_data = pd.read_csv('test_data.csv')"
   ]
  },
  {
   "cell_type": "code",
   "execution_count": 3,
   "id": "dc3113fa",
   "metadata": {
    "execution": {
     "iopub.execute_input": "2021-11-05T14:21:45.799148Z",
     "iopub.status.busy": "2021-11-05T14:21:45.798875Z",
     "iopub.status.idle": "2021-11-05T14:21:45.833769Z",
     "shell.execute_reply": "2021-11-05T14:21:45.833102Z",
     "shell.execute_reply.started": "2021-11-05T14:21:45.799114Z"
    }
   },
   "outputs": [
    {
     "data": {
      "text/html": [
       "<div>\n",
       "<style scoped>\n",
       "    .dataframe tbody tr th:only-of-type {\n",
       "        vertical-align: middle;\n",
       "    }\n",
       "\n",
       "    .dataframe tbody tr th {\n",
       "        vertical-align: top;\n",
       "    }\n",
       "\n",
       "    .dataframe thead th {\n",
       "        text-align: right;\n",
       "    }\n",
       "</style>\n",
       "<table border=\"1\" class=\"dataframe\">\n",
       "  <thead>\n",
       "    <tr style=\"text-align: right;\">\n",
       "      <th></th>\n",
       "      <th>url</th>\n",
       "      <th>webpageDescription</th>\n",
       "      <th>alchemy_category</th>\n",
       "      <th>alchemy_category_score</th>\n",
       "      <th>avgLinkWordLength</th>\n",
       "      <th>AvglinkWithOneCommonWord</th>\n",
       "      <th>AvglinkWithTwoCommonWord</th>\n",
       "      <th>AvglinkWithThreeCommonWord</th>\n",
       "      <th>AvglinkWithFourCommonWord</th>\n",
       "      <th>redundancyMeasure</th>\n",
       "      <th>...</th>\n",
       "      <th>lengthyDomain</th>\n",
       "      <th>hyperlinkToAllWordsRatio</th>\n",
       "      <th>isFrontPageNews</th>\n",
       "      <th>alphanumCharCount</th>\n",
       "      <th>linksCount</th>\n",
       "      <th>wordCount</th>\n",
       "      <th>parametrizedLinkRatio</th>\n",
       "      <th>spellingErrorsRatio</th>\n",
       "      <th>label</th>\n",
       "      <th>id</th>\n",
       "    </tr>\n",
       "  </thead>\n",
       "  <tbody>\n",
       "    <tr>\n",
       "      <th>0</th>\n",
       "      <td>http://www.polyvore.com/cgi/home?id=1389651</td>\n",
       "      <td>{\"title\":\"Join Polyvore and follow the latest ...</td>\n",
       "      <td>?</td>\n",
       "      <td>?</td>\n",
       "      <td>1.916667</td>\n",
       "      <td>0.047619</td>\n",
       "      <td>0.007937</td>\n",
       "      <td>0.000000</td>\n",
       "      <td>0.000000</td>\n",
       "      <td>0.803797</td>\n",
       "      <td>...</td>\n",
       "      <td>0</td>\n",
       "      <td>34</td>\n",
       "      <td>0</td>\n",
       "      <td>682</td>\n",
       "      <td>126</td>\n",
       "      <td>1</td>\n",
       "      <td>0.531746</td>\n",
       "      <td>0.142857</td>\n",
       "      <td>1</td>\n",
       "      <td>3711</td>\n",
       "    </tr>\n",
       "    <tr>\n",
       "      <th>1</th>\n",
       "      <td>http://www.youtube.com/watch?v=ippMPPu6gh4</td>\n",
       "      <td>{\"body\":\"Speed Air Man--David Belle david bell...</td>\n",
       "      <td>?</td>\n",
       "      <td>?</td>\n",
       "      <td>1.257576</td>\n",
       "      <td>0.141026</td>\n",
       "      <td>0.000000</td>\n",
       "      <td>0.000000</td>\n",
       "      <td>0.000000</td>\n",
       "      <td>1.142857</td>\n",
       "      <td>...</td>\n",
       "      <td>0</td>\n",
       "      <td>12</td>\n",
       "      <td>0</td>\n",
       "      <td>3008</td>\n",
       "      <td>78</td>\n",
       "      <td>1</td>\n",
       "      <td>0.628205</td>\n",
       "      <td>0.000000</td>\n",
       "      <td>1</td>\n",
       "      <td>7222</td>\n",
       "    </tr>\n",
       "    <tr>\n",
       "      <th>2</th>\n",
       "      <td>http://www.musingsofahousewife.com/2011/03/tri...</td>\n",
       "      <td>{\"title\":\"Chicken Gruyere Recipe \",\"body\":\"Chi...</td>\n",
       "      <td>science_technology</td>\n",
       "      <td>0.386685</td>\n",
       "      <td>2.024000</td>\n",
       "      <td>0.630350</td>\n",
       "      <td>0.284047</td>\n",
       "      <td>0.233463</td>\n",
       "      <td>0.202335</td>\n",
       "      <td>0.443409</td>\n",
       "      <td>...</td>\n",
       "      <td>1</td>\n",
       "      <td>17</td>\n",
       "      <td>0</td>\n",
       "      <td>11008</td>\n",
       "      <td>257</td>\n",
       "      <td>5</td>\n",
       "      <td>0.466926</td>\n",
       "      <td>0.062500</td>\n",
       "      <td>1</td>\n",
       "      <td>3964</td>\n",
       "    </tr>\n",
       "    <tr>\n",
       "      <th>3</th>\n",
       "      <td>http://www.thelittleteochew.com/2011/07/ikan-b...</td>\n",
       "      <td>{\"title\":\"Ikan Bilis With Tempeh Groundnuts \",...</td>\n",
       "      <td>recreation</td>\n",
       "      <td>0.475039</td>\n",
       "      <td>1.665254</td>\n",
       "      <td>0.419580</td>\n",
       "      <td>0.199301</td>\n",
       "      <td>0.097902</td>\n",
       "      <td>0.066434</td>\n",
       "      <td>0.472649</td>\n",
       "      <td>...</td>\n",
       "      <td>1</td>\n",
       "      <td>28</td>\n",
       "      <td>0</td>\n",
       "      <td>4585</td>\n",
       "      <td>286</td>\n",
       "      <td>5</td>\n",
       "      <td>0.244755</td>\n",
       "      <td>0.085868</td>\n",
       "      <td>1</td>\n",
       "      <td>3697</td>\n",
       "    </tr>\n",
       "    <tr>\n",
       "      <th>4</th>\n",
       "      <td>http://recipes.wuzzle.org/index.php/72</td>\n",
       "      <td>{\"url\":\"recipes wuzzle org index php 72\",\"titl...</td>\n",
       "      <td>computer_internet</td>\n",
       "      <td>0.535009</td>\n",
       "      <td>0.181818</td>\n",
       "      <td>0.036364</td>\n",
       "      <td>0.000000</td>\n",
       "      <td>0.000000</td>\n",
       "      <td>0.000000</td>\n",
       "      <td>0.292614</td>\n",
       "      <td>...</td>\n",
       "      <td>0</td>\n",
       "      <td>3</td>\n",
       "      <td>0</td>\n",
       "      <td>1745</td>\n",
       "      <td>55</td>\n",
       "      <td>1</td>\n",
       "      <td>0.072727</td>\n",
       "      <td>0.115044</td>\n",
       "      <td>1</td>\n",
       "      <td>4321</td>\n",
       "    </tr>\n",
       "  </tbody>\n",
       "</table>\n",
       "<p>5 rows × 27 columns</p>\n",
       "</div>"
      ],
      "text/plain": [
       "                                                 url  \\\n",
       "0        http://www.polyvore.com/cgi/home?id=1389651   \n",
       "1         http://www.youtube.com/watch?v=ippMPPu6gh4   \n",
       "2  http://www.musingsofahousewife.com/2011/03/tri...   \n",
       "3  http://www.thelittleteochew.com/2011/07/ikan-b...   \n",
       "4             http://recipes.wuzzle.org/index.php/72   \n",
       "\n",
       "                                  webpageDescription    alchemy_category  \\\n",
       "0  {\"title\":\"Join Polyvore and follow the latest ...                   ?   \n",
       "1  {\"body\":\"Speed Air Man--David Belle david bell...                   ?   \n",
       "2  {\"title\":\"Chicken Gruyere Recipe \",\"body\":\"Chi...  science_technology   \n",
       "3  {\"title\":\"Ikan Bilis With Tempeh Groundnuts \",...          recreation   \n",
       "4  {\"url\":\"recipes wuzzle org index php 72\",\"titl...   computer_internet   \n",
       "\n",
       "  alchemy_category_score  avgLinkWordLength  AvglinkWithOneCommonWord  \\\n",
       "0                      ?           1.916667                  0.047619   \n",
       "1                      ?           1.257576                  0.141026   \n",
       "2               0.386685           2.024000                  0.630350   \n",
       "3               0.475039           1.665254                  0.419580   \n",
       "4               0.535009           0.181818                  0.036364   \n",
       "\n",
       "   AvglinkWithTwoCommonWord  AvglinkWithThreeCommonWord  \\\n",
       "0                  0.007937                    0.000000   \n",
       "1                  0.000000                    0.000000   \n",
       "2                  0.284047                    0.233463   \n",
       "3                  0.199301                    0.097902   \n",
       "4                  0.000000                    0.000000   \n",
       "\n",
       "   AvglinkWithFourCommonWord  redundancyMeasure  ...  lengthyDomain  \\\n",
       "0                   0.000000           0.803797  ...              0   \n",
       "1                   0.000000           1.142857  ...              0   \n",
       "2                   0.202335           0.443409  ...              1   \n",
       "3                   0.066434           0.472649  ...              1   \n",
       "4                   0.000000           0.292614  ...              0   \n",
       "\n",
       "   hyperlinkToAllWordsRatio  isFrontPageNews  alphanumCharCount  linksCount  \\\n",
       "0                        34                0                682         126   \n",
       "1                        12                0               3008          78   \n",
       "2                        17                0              11008         257   \n",
       "3                        28                0               4585         286   \n",
       "4                         3                0               1745          55   \n",
       "\n",
       "   wordCount parametrizedLinkRatio  spellingErrorsRatio  label    id  \n",
       "0          1              0.531746             0.142857      1  3711  \n",
       "1          1              0.628205             0.000000      1  7222  \n",
       "2          5              0.466926             0.062500      1  3964  \n",
       "3          5              0.244755             0.085868      1  3697  \n",
       "4          1              0.072727             0.115044      1  4321  \n",
       "\n",
       "[5 rows x 27 columns]"
      ]
     },
     "execution_count": 3,
     "metadata": {},
     "output_type": "execute_result"
    }
   ],
   "source": [
    "train_data.head()"
   ]
  },
  {
   "cell_type": "code",
   "execution_count": 4,
   "id": "20900eda",
   "metadata": {
    "execution": {
     "iopub.execute_input": "2021-11-05T14:21:45.835521Z",
     "iopub.status.busy": "2021-11-05T14:21:45.835113Z",
     "iopub.status.idle": "2021-11-05T14:21:45.860450Z",
     "shell.execute_reply": "2021-11-05T14:21:45.859099Z",
     "shell.execute_reply.started": "2021-11-05T14:21:45.835483Z"
    }
   },
   "outputs": [
    {
     "name": "stdout",
     "output_type": "stream",
     "text": [
      "<class 'pandas.core.frame.DataFrame'>\n",
      "RangeIndex: 5916 entries, 0 to 5915\n",
      "Data columns (total 27 columns):\n",
      " #   Column                      Non-Null Count  Dtype  \n",
      "---  ------                      --------------  -----  \n",
      " 0   url                         5916 non-null   object \n",
      " 1   webpageDescription          5916 non-null   object \n",
      " 2   alchemy_category            5916 non-null   object \n",
      " 3   alchemy_category_score      5916 non-null   object \n",
      " 4   avgLinkWordLength           5916 non-null   float64\n",
      " 5   AvglinkWithOneCommonWord    5916 non-null   float64\n",
      " 6   AvglinkWithTwoCommonWord    5916 non-null   float64\n",
      " 7   AvglinkWithThreeCommonWord  5916 non-null   float64\n",
      " 8   AvglinkWithFourCommonWord   5916 non-null   float64\n",
      " 9   redundancyMeasure           5916 non-null   float64\n",
      " 10  embedRatio                  5916 non-null   float64\n",
      " 11  framebased                  5916 non-null   int64  \n",
      " 12  frameTagRatio               5916 non-null   float64\n",
      " 13  domainLink                  5916 non-null   int64  \n",
      " 14  tagRatio                    5916 non-null   float64\n",
      " 15  imageTagRatio               5916 non-null   float64\n",
      " 16  isNews                      5916 non-null   object \n",
      " 17  lengthyDomain               5916 non-null   int64  \n",
      " 18  hyperlinkToAllWordsRatio    5916 non-null   int64  \n",
      " 19  isFrontPageNews             5916 non-null   object \n",
      " 20  alphanumCharCount           5916 non-null   int64  \n",
      " 21  linksCount                  5916 non-null   int64  \n",
      " 22  wordCount                   5916 non-null   int64  \n",
      " 23  parametrizedLinkRatio       5916 non-null   float64\n",
      " 24  spellingErrorsRatio         5916 non-null   float64\n",
      " 25  label                       5916 non-null   int64  \n",
      " 26  id                          5916 non-null   int64  \n",
      "dtypes: float64(12), int64(9), object(6)\n",
      "memory usage: 1.2+ MB\n"
     ]
    }
   ],
   "source": [
    "train_data.info()"
   ]
  },
  {
   "cell_type": "markdown",
   "id": "df93c0ed",
   "metadata": {},
   "source": [
    "### Check whether the labels are biased or not "
   ]
  },
  {
   "cell_type": "code",
   "execution_count": 5,
   "id": "a1da158c",
   "metadata": {},
   "outputs": [
    {
     "data": {
      "text/plain": [
       "<seaborn.axisgrid.FacetGrid at 0x7fb63870a580>"
      ]
     },
     "execution_count": 5,
     "metadata": {},
     "output_type": "execute_result"
    },
    {
     "data": {
      "image/png": "[encoded data removed]",
      "text/plain": [
       "<Figure size 360x360 with 1 Axes>"
      ]
     },
     "metadata": {
      "needs_background": "light"
     },
     "output_type": "display_data"
    }
   ],
   "source": [
    "sns.displot(train_data['label'])"
   ]
  },
  {
   "cell_type": "markdown",
   "id": "a9954b77",
   "metadata": {},
   "source": [
    "#### There are around 48% 0's and 52% 1's. Hence the data is equally distributed"
   ]
  },
  {
   "cell_type": "markdown",
   "id": "a14cceef",
   "metadata": {},
   "source": [
    "### Extracting title and body as seperate features from webPageDescription feature"
   ]
  },
  {
   "cell_type": "code",
   "execution_count": 6,
   "id": "353db7d5",
   "metadata": {},
   "outputs": [],
   "source": [
    "# Helper function to seperate title from webPageDescription.\n",
    "def check_title(x):\n",
    "    dicti = json.loads(x)\n",
    "    if 'title' in dicti.keys():\n",
    "        return json.loads(x)['title']\n",
    "    else:\n",
    "        return np.nan"
   ]
  },
  {
   "cell_type": "code",
   "execution_count": 7,
   "id": "52420ec6",
   "metadata": {
    "execution": {
     "iopub.execute_input": "2021-11-05T14:21:45.863721Z",
     "iopub.status.busy": "2021-11-05T14:21:45.863497Z",
     "iopub.status.idle": "2021-11-05T14:21:45.998436Z",
     "shell.execute_reply": "2021-11-05T14:21:45.997774Z",
     "shell.execute_reply.started": "2021-11-05T14:21:45.863696Z"
    }
   },
   "outputs": [],
   "source": [
    "train_data['title'] = train_data['webpageDescription'].apply(lambda x: check_title(x)) \n",
    "train_data['body'] = train_data['webpageDescription'].apply(lambda x: json.loads(x)['body']) \n",
    "\n",
    "test_data['title'] = test_data['webpageDescription'].apply(lambda x: check_title(x))\n",
    "test_data['body'] = test_data['webpageDescription'].apply(lambda x: json.loads(x)['body']) "
   ]
  },
  {
   "cell_type": "code",
   "execution_count": 8,
   "id": "acd1c0a9",
   "metadata": {},
   "outputs": [
    {
     "name": "stdout",
     "output_type": "stream",
     "text": [
      "Number of unique values of each feature :\n",
      "url: 5916\n",
      "webpageDescription: 5915\n",
      "alchemy_category: 14\n",
      "alchemy_category_score: 3866\n",
      "avgLinkWordLength: 4688\n",
      "AvglinkWithOneCommonWord: 3785\n",
      "AvglinkWithTwoCommonWord: 3438\n",
      "AvglinkWithThreeCommonWord: 2774\n",
      "AvglinkWithFourCommonWord: 2309\n",
      "redundancyMeasure: 5185\n",
      "embedRatio: 313\n",
      "framebased: 1\n",
      "frameTagRatio: 4865\n",
      "domainLink: 2\n",
      "tagRatio: 5902\n",
      "imageTagRatio: 4449\n",
      "isNews: 2\n",
      "lengthyDomain: 2\n",
      "hyperlinkToAllWordsRatio: 101\n",
      "isFrontPageNews: 3\n",
      "alphanumCharCount: 4484\n",
      "linksCount: 662\n",
      "wordCount: 23\n",
      "parametrizedLinkRatio: 3327\n",
      "spellingErrorsRatio: 3533\n",
      "label: 2\n",
      "id: 5916\n",
      "title: 5477\n",
      "body: 5285\n"
     ]
    }
   ],
   "source": [
    "print('Number of unique values of each feature :')\n",
    "for i in train_data.columns:\n",
    "    print(str(i)+\": \"+str(train_data[i].nunique()))"
   ]
  },
  {
   "cell_type": "markdown",
   "id": "3f8c2938",
   "metadata": {},
   "source": [
    "### Dropping few unnecessary features"
   ]
  },
  {
   "cell_type": "code",
   "execution_count": 9,
   "id": "e5fda09b",
   "metadata": {},
   "outputs": [],
   "source": [
    "#Drop the old feature webpageDescription\n",
    "train_data.drop('webpageDescription',axis = 1,inplace=True)\n",
    "test_data.drop('webpageDescription',axis = 1,inplace=True)\n",
    "\n",
    "#Dropping the ID's since they do not provide any information about the website for classification. \n",
    "train_data.drop('id',axis = 1,inplace=True)\n",
    "test_data.drop('id',axis = 1,inplace=True)\n",
    "\n",
    "#Dropping the 'framebased' feature since the feature consists only one unique value for all data points.\n",
    "train_data.drop('framebased',axis = 1,inplace = True)\n",
    "test_data.drop('framebased',axis = 1,inplace = True)"
   ]
  },
  {
   "cell_type": "code",
   "execution_count": 10,
   "id": "17bd8c06",
   "metadata": {
    "execution": {
     "iopub.execute_input": "2021-11-05T14:21:46.000363Z",
     "iopub.status.busy": "2021-11-05T14:21:45.999852Z",
     "iopub.status.idle": "2021-11-05T14:21:46.022232Z",
     "shell.execute_reply": "2021-11-05T14:21:46.021564Z",
     "shell.execute_reply.started": "2021-11-05T14:21:46.000309Z"
    }
   },
   "outputs": [
    {
     "data": {
      "text/plain": [
       "url                              0\n",
       "alchemy_category              1883\n",
       "alchemy_category_score        1883\n",
       "avgLinkWordLength                0\n",
       "AvglinkWithOneCommonWord         0\n",
       "AvglinkWithTwoCommonWord         0\n",
       "AvglinkWithThreeCommonWord       0\n",
       "AvglinkWithFourCommonWord        0\n",
       "redundancyMeasure                0\n",
       "embedRatio                       0\n",
       "frameTagRatio                    0\n",
       "domainLink                       0\n",
       "tagRatio                         0\n",
       "imageTagRatio                    0\n",
       "isNews                        2269\n",
       "lengthyDomain                    0\n",
       "hyperlinkToAllWordsRatio         0\n",
       "isFrontPageNews               1006\n",
       "alphanumCharCount                0\n",
       "linksCount                       0\n",
       "wordCount                        0\n",
       "parametrizedLinkRatio            0\n",
       "spellingErrorsRatio              0\n",
       "label                            0\n",
       "title                            0\n",
       "body                             0\n",
       "dtype: int64"
      ]
     },
     "execution_count": 10,
     "metadata": {},
     "output_type": "execute_result"
    }
   ],
   "source": [
    "#Checking missing values\n",
    "(train_data=='?').sum()"
   ]
  },
  {
   "cell_type": "code",
   "execution_count": 11,
   "id": "6386b03d",
   "metadata": {},
   "outputs": [
    {
     "data": {
      "text/plain": [
       "url                             0\n",
       "alchemy_category              459\n",
       "alchemy_category_score        459\n",
       "avgLinkWordLength               0\n",
       "AvglinkWithOneCommonWord        0\n",
       "AvglinkWithTwoCommonWord        0\n",
       "AvglinkWithThreeCommonWord      0\n",
       "AvglinkWithFourCommonWord       0\n",
       "redundancyMeasure               0\n",
       "embedRatio                      0\n",
       "frameTagRatio                   0\n",
       "domainLink                      0\n",
       "tagRatio                        0\n",
       "imageTagRatio                   0\n",
       "isNews                        574\n",
       "lengthyDomain                   0\n",
       "hyperlinkToAllWordsRatio        0\n",
       "isFrontPageNews               242\n",
       "alphanumCharCount               0\n",
       "linksCount                      0\n",
       "wordCount                       0\n",
       "parametrizedLinkRatio           0\n",
       "spellingErrorsRatio             0\n",
       "title                           0\n",
       "body                            0\n",
       "dtype: int64"
      ]
     },
     "execution_count": 11,
     "metadata": {},
     "output_type": "execute_result"
    }
   ],
   "source": [
    "#Checking missing values\n",
    "(test_data=='?').sum()"
   ]
  },
  {
   "cell_type": "markdown",
   "id": "b9af47fe",
   "metadata": {},
   "source": [
    "### The feature alchemy_category is a categorical value."
   ]
  },
  {
   "cell_type": "code",
   "execution_count": 12,
   "id": "949c6b46",
   "metadata": {
    "execution": {
     "iopub.execute_input": "2021-11-05T14:21:46.023676Z",
     "iopub.status.busy": "2021-11-05T14:21:46.023349Z",
     "iopub.status.idle": "2021-11-05T14:21:46.030674Z",
     "shell.execute_reply": "2021-11-05T14:21:46.029963Z",
     "shell.execute_reply.started": "2021-11-05T14:21:46.023640Z"
    }
   },
   "outputs": [
    {
     "data": {
      "text/plain": [
       "array(['?', 'science_technology', 'recreation', 'computer_internet',\n",
       "       'health', 'arts_entertainment', 'culture_politics', 'business',\n",
       "       'sports', 'gaming', 'law_crime', 'weather', 'religion', 'unknown'],\n",
       "      dtype=object)"
      ]
     },
     "execution_count": 12,
     "metadata": {},
     "output_type": "execute_result"
    }
   ],
   "source": [
    "train_data['alchemy_category'].unique()"
   ]
  },
  {
   "cell_type": "code",
   "execution_count": 13,
   "id": "21cc9736",
   "metadata": {
    "execution": {
     "iopub.execute_input": "2021-11-05T14:21:46.032756Z",
     "iopub.status.busy": "2021-11-05T14:21:46.032253Z",
     "iopub.status.idle": "2021-11-05T14:21:46.061546Z",
     "shell.execute_reply": "2021-11-05T14:21:46.060767Z",
     "shell.execute_reply.started": "2021-11-05T14:21:46.032717Z"
    }
   },
   "outputs": [
    {
     "data": {
      "text/html": [
       "<div>\n",
       "<style scoped>\n",
       "    .dataframe tbody tr th:only-of-type {\n",
       "        vertical-align: middle;\n",
       "    }\n",
       "\n",
       "    .dataframe tbody tr th {\n",
       "        vertical-align: top;\n",
       "    }\n",
       "\n",
       "    .dataframe thead th {\n",
       "        text-align: right;\n",
       "    }\n",
       "</style>\n",
       "<table border=\"1\" class=\"dataframe\">\n",
       "  <thead>\n",
       "    <tr style=\"text-align: right;\">\n",
       "      <th></th>\n",
       "      <th>url</th>\n",
       "      <th>alchemy_category</th>\n",
       "      <th>alchemy_category_score</th>\n",
       "      <th>avgLinkWordLength</th>\n",
       "      <th>AvglinkWithOneCommonWord</th>\n",
       "      <th>AvglinkWithTwoCommonWord</th>\n",
       "      <th>AvglinkWithThreeCommonWord</th>\n",
       "      <th>AvglinkWithFourCommonWord</th>\n",
       "      <th>redundancyMeasure</th>\n",
       "      <th>embedRatio</th>\n",
       "      <th>...</th>\n",
       "      <th>hyperlinkToAllWordsRatio</th>\n",
       "      <th>isFrontPageNews</th>\n",
       "      <th>alphanumCharCount</th>\n",
       "      <th>linksCount</th>\n",
       "      <th>wordCount</th>\n",
       "      <th>parametrizedLinkRatio</th>\n",
       "      <th>spellingErrorsRatio</th>\n",
       "      <th>label</th>\n",
       "      <th>title</th>\n",
       "      <th>body</th>\n",
       "    </tr>\n",
       "  </thead>\n",
       "  <tbody>\n",
       "    <tr>\n",
       "      <th>1616</th>\n",
       "      <td>http://www.ivillage.com/better-beginnings/4-j-...</td>\n",
       "      <td>unknown</td>\n",
       "      <td>0.400001</td>\n",
       "      <td>2.269231</td>\n",
       "      <td>0.721622</td>\n",
       "      <td>0.370270</td>\n",
       "      <td>0.078378</td>\n",
       "      <td>0.021622</td>\n",
       "      <td>11.000000</td>\n",
       "      <td>-1.0</td>\n",
       "      <td>...</td>\n",
       "      <td>76</td>\n",
       "      <td>0</td>\n",
       "      <td>1329</td>\n",
       "      <td>370</td>\n",
       "      <td>6</td>\n",
       "      <td>0.127027</td>\n",
       "      <td>0.076923</td>\n",
       "      <td>1</td>\n",
       "      <td>Better Beginnings iVillage</td>\n",
       "      <td></td>\n",
       "    </tr>\n",
       "    <tr>\n",
       "      <th>1792</th>\n",
       "      <td>http://9gg.us/l4d/</td>\n",
       "      <td>unknown</td>\n",
       "      <td>0.400001</td>\n",
       "      <td>2.823529</td>\n",
       "      <td>0.000000</td>\n",
       "      <td>0.000000</td>\n",
       "      <td>0.000000</td>\n",
       "      <td>0.000000</td>\n",
       "      <td>0.670732</td>\n",
       "      <td>0.0</td>\n",
       "      <td>...</td>\n",
       "      <td>72</td>\n",
       "      <td>0</td>\n",
       "      <td>88</td>\n",
       "      <td>17</td>\n",
       "      <td>0</td>\n",
       "      <td>0.000000</td>\n",
       "      <td>0.117647</td>\n",
       "      <td>1</td>\n",
       "      <td>L4D</td>\n",
       "      <td>randompost float left text align center max wi...</td>\n",
       "    </tr>\n",
       "    <tr>\n",
       "      <th>3495</th>\n",
       "      <td>http://www.ascii-wm.net/</td>\n",
       "      <td>unknown</td>\n",
       "      <td>0.400001</td>\n",
       "      <td>2.571429</td>\n",
       "      <td>0.166667</td>\n",
       "      <td>0.000000</td>\n",
       "      <td>0.000000</td>\n",
       "      <td>0.000000</td>\n",
       "      <td>0.663300</td>\n",
       "      <td>0.0</td>\n",
       "      <td>...</td>\n",
       "      <td>13</td>\n",
       "      <td>0</td>\n",
       "      <td>359</td>\n",
       "      <td>12</td>\n",
       "      <td>0</td>\n",
       "      <td>0.083333</td>\n",
       "      <td>0.191489</td>\n",
       "      <td>0</td>\n",
       "      <td>ASCII WM 2006</td>\n",
       "      <td>documentation HOW TO stb Institute for Posttay...</td>\n",
       "    </tr>\n",
       "    <tr>\n",
       "      <th>3689</th>\n",
       "      <td>http://nymag.com/search/search.cgi?t=runway&amp;N=...</td>\n",
       "      <td>unknown</td>\n",
       "      <td>0.400001</td>\n",
       "      <td>1.705000</td>\n",
       "      <td>0.358423</td>\n",
       "      <td>0.093190</td>\n",
       "      <td>0.000000</td>\n",
       "      <td>0.000000</td>\n",
       "      <td>1.384615</td>\n",
       "      <td>0.0</td>\n",
       "      <td>...</td>\n",
       "      <td>51</td>\n",
       "      <td>0</td>\n",
       "      <td>1810</td>\n",
       "      <td>279</td>\n",
       "      <td>3</td>\n",
       "      <td>0.358423</td>\n",
       "      <td>0.037037</td>\n",
       "      <td>0</td>\n",
       "      <td>New York Fashion Search Barbie new york fashio...</td>\n",
       "      <td>new york magazine fashionbarbie barbie</td>\n",
       "    </tr>\n",
       "    <tr>\n",
       "      <th>4043</th>\n",
       "      <td>http://www.etsy.com/shop/simplicityisbliss</td>\n",
       "      <td>unknown</td>\n",
       "      <td>0.400001</td>\n",
       "      <td>3.006623</td>\n",
       "      <td>0.476684</td>\n",
       "      <td>0.227979</td>\n",
       "      <td>0.196891</td>\n",
       "      <td>0.196891</td>\n",
       "      <td>0.572464</td>\n",
       "      <td>0.0</td>\n",
       "      <td>...</td>\n",
       "      <td>68</td>\n",
       "      <td>0</td>\n",
       "      <td>1320</td>\n",
       "      <td>193</td>\n",
       "      <td>3</td>\n",
       "      <td>0.388601</td>\n",
       "      <td>0.127273</td>\n",
       "      <td>0</td>\n",
       "      <td>SIB Vintage Simplicity Is Bliss by simplicityi...</td>\n",
       "      <td>Sign Up Using Facebook It s fast and easy We l...</td>\n",
       "    </tr>\n",
       "  </tbody>\n",
       "</table>\n",
       "<p>5 rows × 26 columns</p>\n",
       "</div>"
      ],
      "text/plain": [
       "                                                    url alchemy_category  \\\n",
       "1616  http://www.ivillage.com/better-beginnings/4-j-...          unknown   \n",
       "1792                                 http://9gg.us/l4d/          unknown   \n",
       "3495                           http://www.ascii-wm.net/          unknown   \n",
       "3689  http://nymag.com/search/search.cgi?t=runway&N=...          unknown   \n",
       "4043         http://www.etsy.com/shop/simplicityisbliss          unknown   \n",
       "\n",
       "     alchemy_category_score  avgLinkWordLength  AvglinkWithOneCommonWord  \\\n",
       "1616               0.400001           2.269231                  0.721622   \n",
       "1792               0.400001           2.823529                  0.000000   \n",
       "3495               0.400001           2.571429                  0.166667   \n",
       "3689               0.400001           1.705000                  0.358423   \n",
       "4043               0.400001           3.006623                  0.476684   \n",
       "\n",
       "      AvglinkWithTwoCommonWord  AvglinkWithThreeCommonWord  \\\n",
       "1616                  0.370270                    0.078378   \n",
       "1792                  0.000000                    0.000000   \n",
       "3495                  0.000000                    0.000000   \n",
       "3689                  0.093190                    0.000000   \n",
       "4043                  0.227979                    0.196891   \n",
       "\n",
       "      AvglinkWithFourCommonWord  redundancyMeasure  embedRatio  ...  \\\n",
       "1616                   0.021622          11.000000        -1.0  ...   \n",
       "1792                   0.000000           0.670732         0.0  ...   \n",
       "3495                   0.000000           0.663300         0.0  ...   \n",
       "3689                   0.000000           1.384615         0.0  ...   \n",
       "4043                   0.196891           0.572464         0.0  ...   \n",
       "\n",
       "      hyperlinkToAllWordsRatio  isFrontPageNews  alphanumCharCount  \\\n",
       "1616                        76                0               1329   \n",
       "1792                        72                0                 88   \n",
       "3495                        13                0                359   \n",
       "3689                        51                0               1810   \n",
       "4043                        68                0               1320   \n",
       "\n",
       "      linksCount wordCount  parametrizedLinkRatio  spellingErrorsRatio label  \\\n",
       "1616         370         6               0.127027             0.076923     1   \n",
       "1792          17         0               0.000000             0.117647     1   \n",
       "3495          12         0               0.083333             0.191489     0   \n",
       "3689         279         3               0.358423             0.037037     0   \n",
       "4043         193         3               0.388601             0.127273     0   \n",
       "\n",
       "                                                  title  \\\n",
       "1616                        Better Beginnings iVillage    \n",
       "1792                                               L4D    \n",
       "3495                                     ASCII WM 2006    \n",
       "3689  New York Fashion Search Barbie new york fashio...   \n",
       "4043  SIB Vintage Simplicity Is Bliss by simplicityi...   \n",
       "\n",
       "                                                   body  \n",
       "1616                                                     \n",
       "1792  randompost float left text align center max wi...  \n",
       "3495  documentation HOW TO stb Institute for Posttay...  \n",
       "3689             new york magazine fashionbarbie barbie  \n",
       "4043  Sign Up Using Facebook It s fast and easy We l...  \n",
       "\n",
       "[5 rows x 26 columns]"
      ]
     },
     "execution_count": 13,
     "metadata": {},
     "output_type": "execute_result"
    }
   ],
   "source": [
    "train_data[train_data['alchemy_category'] == 'unknown'].head()"
   ]
  },
  {
   "cell_type": "markdown",
   "id": "2296d456",
   "metadata": {},
   "source": [
    "### Replacing the missing values of the alchemy_category with the already present category 'unknown'. Same goes for the alchemy_category_score."
   ]
  },
  {
   "cell_type": "code",
   "execution_count": 14,
   "id": "6360e756",
   "metadata": {
    "execution": {
     "iopub.execute_input": "2021-11-05T14:21:46.063189Z",
     "iopub.status.busy": "2021-11-05T14:21:46.062945Z",
     "iopub.status.idle": "2021-11-05T14:21:46.070343Z",
     "shell.execute_reply": "2021-11-05T14:21:46.069426Z",
     "shell.execute_reply.started": "2021-11-05T14:21:46.063157Z"
    }
   },
   "outputs": [
    {
     "data": {
      "text/plain": [
       "3866"
      ]
     },
     "execution_count": 14,
     "metadata": {},
     "output_type": "execute_result"
    }
   ],
   "source": [
    "train_data['alchemy_category_score'].nunique()"
   ]
  },
  {
   "cell_type": "code",
   "execution_count": 15,
   "id": "4411f430",
   "metadata": {
    "execution": {
     "iopub.execute_input": "2021-11-05T14:21:46.072245Z",
     "iopub.status.busy": "2021-11-05T14:21:46.071919Z",
     "iopub.status.idle": "2021-11-05T14:21:46.080229Z",
     "shell.execute_reply": "2021-11-05T14:21:46.079248Z",
     "shell.execute_reply.started": "2021-11-05T14:21:46.072204Z"
    }
   },
   "outputs": [],
   "source": [
    "train_data['alchemy_category'].replace('?','unknown',inplace=True)\n",
    "train_data['alchemy_category_score'].replace('?',0.400001,inplace=True)\n",
    "\n",
    "test_data['alchemy_category'].replace('?','unknown',inplace=True)\n",
    "test_data['alchemy_category_score'].replace('?',0.400001,inplace=True)"
   ]
  },
  {
   "cell_type": "markdown",
   "id": "90172349",
   "metadata": {},
   "source": [
    "### Categorizing the alchemy category using one hot encoding "
   ]
  },
  {
   "cell_type": "code",
   "execution_count": 16,
   "id": "777bce57",
   "metadata": {},
   "outputs": [],
   "source": [
    "one_hot_df_train = pd.get_dummies(train_data['alchemy_category'],prefix='category')\n",
    "train_data = train_data.join(one_hot_df_train)\n",
    "train_data.drop('alchemy_category',axis = 1,inplace = True)\n",
    "\n",
    "one_hot_df_test = pd.get_dummies(test_data['alchemy_category'],prefix='category')\n",
    "test_data = test_data.join(one_hot_df_test)\n",
    "test_data.drop('alchemy_category',axis = 1,inplace = True)"
   ]
  },
  {
   "cell_type": "markdown",
   "id": "1725ca1a",
   "metadata": {},
   "source": [
    "### isNews and isFrontPageNews also have few missing values.  "
   ]
  },
  {
   "cell_type": "code",
   "execution_count": 17,
   "id": "166e9820",
   "metadata": {
    "execution": {
     "iopub.execute_input": "2021-11-05T14:21:46.082171Z",
     "iopub.status.busy": "2021-11-05T14:21:46.081845Z",
     "iopub.status.idle": "2021-11-05T14:21:46.091684Z",
     "shell.execute_reply": "2021-11-05T14:21:46.090951Z",
     "shell.execute_reply.started": "2021-11-05T14:21:46.082137Z"
    }
   },
   "outputs": [
    {
     "data": {
      "text/plain": [
       "2269"
      ]
     },
     "execution_count": 17,
     "metadata": {},
     "output_type": "execute_result"
    }
   ],
   "source": [
    "(train_data['isNews']=='?').sum()"
   ]
  },
  {
   "cell_type": "markdown",
   "id": "77ca7b1d",
   "metadata": {},
   "source": [
    "### Filling the isNews with 1 if isFrontPageNews is 1. "
   ]
  },
  {
   "cell_type": "code",
   "execution_count": 18,
   "id": "a3146f02",
   "metadata": {
    "execution": {
     "iopub.execute_input": "2021-11-05T14:21:46.093684Z",
     "iopub.status.busy": "2021-11-05T14:21:46.092869Z",
     "iopub.status.idle": "2021-11-05T14:21:46.106557Z",
     "shell.execute_reply": "2021-11-05T14:21:46.105457Z",
     "shell.execute_reply.started": "2021-11-05T14:21:46.093640Z"
    }
   },
   "outputs": [
    {
     "name": "stderr",
     "output_type": "stream",
     "text": [
      "<ipython-input-18-82dfdba19be2>:2: SettingWithCopyWarning: \n",
      "A value is trying to be set on a copy of a slice from a DataFrame\n",
      "\n",
      "See the caveats in the documentation: https://pandas.pydata.org/pandas-docs/stable/user_guide/indexing.html#returning-a-view-versus-a-copy\n",
      "  train_data['isNews'][mask] = '1'\n",
      "<ipython-input-18-82dfdba19be2>:5: SettingWithCopyWarning: \n",
      "A value is trying to be set on a copy of a slice from a DataFrame\n",
      "\n",
      "See the caveats in the documentation: https://pandas.pydata.org/pandas-docs/stable/user_guide/indexing.html#returning-a-view-versus-a-copy\n",
      "  test_data['isNews'][mask] = '1'\n"
     ]
    }
   ],
   "source": [
    "mask = (train_data['isFrontPageNews'] == '1') & (train_data['isNews'] == '?')\n",
    "train_data['isNews'][mask] = '1'\n",
    "\n",
    "mask = (test_data['isFrontPageNews'] == '1') & (test_data['isNews'] == '?')\n",
    "test_data['isNews'][mask] = '1'"
   ]
  },
  {
   "cell_type": "markdown",
   "id": "7f633cb3",
   "metadata": {},
   "source": [
    "### Filling the remaining isNews with 0s"
   ]
  },
  {
   "cell_type": "code",
   "execution_count": 19,
   "id": "32a334d0",
   "metadata": {
    "execution": {
     "iopub.execute_input": "2021-11-05T14:21:46.109034Z",
     "iopub.status.busy": "2021-11-05T14:21:46.108685Z",
     "iopub.status.idle": "2021-11-05T14:21:46.116065Z",
     "shell.execute_reply": "2021-11-05T14:21:46.115350Z",
     "shell.execute_reply.started": "2021-11-05T14:21:46.108996Z"
    }
   },
   "outputs": [],
   "source": [
    "train_data['isNews'].replace('?','0',inplace=True)\n",
    "test_data['isNews'].replace('?','0',inplace=True)"
   ]
  },
  {
   "cell_type": "markdown",
   "id": "139fcbcb",
   "metadata": {},
   "source": [
    "### Filling the isFrontPageNews with 0's if isNews is 0"
   ]
  },
  {
   "cell_type": "code",
   "execution_count": 20,
   "id": "09f2cf76",
   "metadata": {
    "execution": {
     "iopub.execute_input": "2021-11-05T14:21:46.122606Z",
     "iopub.status.busy": "2021-11-05T14:21:46.120765Z",
     "iopub.status.idle": "2021-11-05T14:21:46.133363Z",
     "shell.execute_reply": "2021-11-05T14:21:46.132553Z",
     "shell.execute_reply.started": "2021-11-05T14:21:46.122559Z"
    }
   },
   "outputs": [
    {
     "name": "stderr",
     "output_type": "stream",
     "text": [
      "<ipython-input-20-bde2c4695354>:2: SettingWithCopyWarning: \n",
      "A value is trying to be set on a copy of a slice from a DataFrame\n",
      "\n",
      "See the caveats in the documentation: https://pandas.pydata.org/pandas-docs/stable/user_guide/indexing.html#returning-a-view-versus-a-copy\n",
      "  train_data['isFrontPageNews'][mask] = '0'\n",
      "<ipython-input-20-bde2c4695354>:5: SettingWithCopyWarning: \n",
      "A value is trying to be set on a copy of a slice from a DataFrame\n",
      "\n",
      "See the caveats in the documentation: https://pandas.pydata.org/pandas-docs/stable/user_guide/indexing.html#returning-a-view-versus-a-copy\n",
      "  test_data['isFrontPageNews'][mask] = '0'\n"
     ]
    }
   ],
   "source": [
    "mask = (train_data['isFrontPageNews'] == '?') & (train_data['isNews'] == '0')\n",
    "train_data['isFrontPageNews'][mask] = '0'\n",
    "\n",
    "mask = (test_data['isFrontPageNews'] == '?') & (test_data['isNews'] == '0')\n",
    "test_data['isFrontPageNews'][mask] = '0'"
   ]
  },
  {
   "cell_type": "markdown",
   "id": "7dd09a4d",
   "metadata": {},
   "source": [
    "### Converting isNews and is FrontPageNews types to float from string object "
   ]
  },
  {
   "cell_type": "code",
   "execution_count": 21,
   "id": "903efcd8",
   "metadata": {
    "execution": {
     "iopub.execute_input": "2021-11-05T14:21:46.135514Z",
     "iopub.status.busy": "2021-11-05T14:21:46.134824Z",
     "iopub.status.idle": "2021-11-05T14:21:46.149720Z",
     "shell.execute_reply": "2021-11-05T14:21:46.148933Z",
     "shell.execute_reply.started": "2021-11-05T14:21:46.135477Z"
    }
   },
   "outputs": [],
   "source": [
    "train_data['isNews'].replace('0',0,inplace=True)\n",
    "train_data['isNews'].replace('1',1,inplace=True)\n",
    "train_data['isFrontPageNews'].replace('0',0,inplace=True)\n",
    "train_data['isFrontPageNews'].replace('1',1,inplace=True)\n",
    "\n",
    "test_data['isNews'].replace('0',0,inplace=True)\n",
    "test_data['isNews'].replace('1',1,inplace=True)\n",
    "test_data['isFrontPageNews'].replace('0',0,inplace=True)\n",
    "test_data['isFrontPageNews'].replace('1',1,inplace=True)"
   ]
  },
  {
   "cell_type": "markdown",
   "id": "de27b85c",
   "metadata": {},
   "source": [
    "### Converting alchemy_category_score from string to float"
   ]
  },
  {
   "cell_type": "code",
   "execution_count": 22,
   "id": "89afe5f2",
   "metadata": {
    "execution": {
     "iopub.execute_input": "2021-11-05T14:21:46.151679Z",
     "iopub.status.busy": "2021-11-05T14:21:46.151335Z",
     "iopub.status.idle": "2021-11-05T14:21:46.157246Z",
     "shell.execute_reply": "2021-11-05T14:21:46.156439Z",
     "shell.execute_reply.started": "2021-11-05T14:21:46.151645Z"
    }
   },
   "outputs": [],
   "source": [
    "train_data['alchemy_category_score'] = train_data['alchemy_category_score'].astype(float)\n",
    "test_data['alchemy_category_score'] = test_data['alchemy_category_score'].astype(float)"
   ]
  },
  {
   "cell_type": "code",
   "execution_count": 23,
   "id": "d75ea4f8",
   "metadata": {
    "execution": {
     "iopub.execute_input": "2021-11-05T14:21:46.159137Z",
     "iopub.status.busy": "2021-11-05T14:21:46.158872Z",
     "iopub.status.idle": "2021-11-05T14:21:46.178433Z",
     "shell.execute_reply": "2021-11-05T14:21:46.177571Z",
     "shell.execute_reply.started": "2021-11-05T14:21:46.159104Z"
    },
    "scrolled": true
   },
   "outputs": [
    {
     "name": "stdout",
     "output_type": "stream",
     "text": [
      "<class 'pandas.core.frame.DataFrame'>\n",
      "RangeIndex: 5916 entries, 0 to 5915\n",
      "Data columns (total 38 columns):\n",
      " #   Column                       Non-Null Count  Dtype  \n",
      "---  ------                       --------------  -----  \n",
      " 0   url                          5916 non-null   object \n",
      " 1   alchemy_category_score       5916 non-null   float64\n",
      " 2   avgLinkWordLength            5916 non-null   float64\n",
      " 3   AvglinkWithOneCommonWord     5916 non-null   float64\n",
      " 4   AvglinkWithTwoCommonWord     5916 non-null   float64\n",
      " 5   AvglinkWithThreeCommonWord   5916 non-null   float64\n",
      " 6   AvglinkWithFourCommonWord    5916 non-null   float64\n",
      " 7   redundancyMeasure            5916 non-null   float64\n",
      " 8   embedRatio                   5916 non-null   float64\n",
      " 9   frameTagRatio                5916 non-null   float64\n",
      " 10  domainLink                   5916 non-null   int64  \n",
      " 11  tagRatio                     5916 non-null   float64\n",
      " 12  imageTagRatio                5916 non-null   float64\n",
      " 13  isNews                       5916 non-null   int64  \n",
      " 14  lengthyDomain                5916 non-null   int64  \n",
      " 15  hyperlinkToAllWordsRatio     5916 non-null   int64  \n",
      " 16  isFrontPageNews              5916 non-null   int64  \n",
      " 17  alphanumCharCount            5916 non-null   int64  \n",
      " 18  linksCount                   5916 non-null   int64  \n",
      " 19  wordCount                    5916 non-null   int64  \n",
      " 20  parametrizedLinkRatio        5916 non-null   float64\n",
      " 21  spellingErrorsRatio          5916 non-null   float64\n",
      " 22  label                        5916 non-null   int64  \n",
      " 23  title                        5905 non-null   object \n",
      " 24  body                         5865 non-null   object \n",
      " 25  category_arts_entertainment  5916 non-null   uint8  \n",
      " 26  category_business            5916 non-null   uint8  \n",
      " 27  category_computer_internet   5916 non-null   uint8  \n",
      " 28  category_culture_politics    5916 non-null   uint8  \n",
      " 29  category_gaming              5916 non-null   uint8  \n",
      " 30  category_health              5916 non-null   uint8  \n",
      " 31  category_law_crime           5916 non-null   uint8  \n",
      " 32  category_recreation          5916 non-null   uint8  \n",
      " 33  category_religion            5916 non-null   uint8  \n",
      " 34  category_science_technology  5916 non-null   uint8  \n",
      " 35  category_sports              5916 non-null   uint8  \n",
      " 36  category_unknown             5916 non-null   uint8  \n",
      " 37  category_weather             5916 non-null   uint8  \n",
      "dtypes: float64(13), int64(9), object(3), uint8(13)\n",
      "memory usage: 1.2+ MB\n"
     ]
    }
   ],
   "source": [
    "train_data.info()"
   ]
  },
  {
   "cell_type": "markdown",
   "id": "198683ac",
   "metadata": {},
   "source": [
    "### Fill null values of title and body features with empty string. "
   ]
  },
  {
   "cell_type": "code",
   "execution_count": 24,
   "id": "98a98575",
   "metadata": {
    "execution": {
     "iopub.execute_input": "2021-11-05T14:21:46.180012Z",
     "iopub.status.busy": "2021-11-05T14:21:46.179754Z",
     "iopub.status.idle": "2021-11-05T14:21:46.186540Z",
     "shell.execute_reply": "2021-11-05T14:21:46.185641Z",
     "shell.execute_reply.started": "2021-11-05T14:21:46.179981Z"
    }
   },
   "outputs": [],
   "source": [
    "# train_data['title'].fillna('',inplace=True)\n",
    "# train_data['body'].fillna('',inplace=True)\n",
    "# test_data['title'].fillna('',inplace=True)\n",
    "# test_data['body'].fillna('',inplace=True)"
   ]
  },
  {
   "cell_type": "code",
   "execution_count": 25,
   "id": "d30059d9",
   "metadata": {},
   "outputs": [
    {
     "name": "stderr",
     "output_type": "stream",
     "text": [
      "<ipython-input-25-bc96c27d3bfd>:17: SettingWithCopyWarning: \n",
      "A value is trying to be set on a copy of a slice from a DataFrame\n",
      "\n",
      "See the caveats in the documentation: https://pandas.pydata.org/pandas-docs/stable/user_guide/indexing.html#returning-a-view-versus-a-copy\n",
      "  train_data['title'][mask] = ans\n",
      "<ipython-input-25-bc96c27d3bfd>:26: SettingWithCopyWarning: \n",
      "A value is trying to be set on a copy of a slice from a DataFrame\n",
      "\n",
      "See the caveats in the documentation: https://pandas.pydata.org/pandas-docs/stable/user_guide/indexing.html#returning-a-view-versus-a-copy\n",
      "  train_data['body'][mask] = ans\n",
      "<ipython-input-25-bc96c27d3bfd>:35: SettingWithCopyWarning: \n",
      "A value is trying to be set on a copy of a slice from a DataFrame\n",
      "\n",
      "See the caveats in the documentation: https://pandas.pydata.org/pandas-docs/stable/user_guide/indexing.html#returning-a-view-versus-a-copy\n",
      "  test_data['title'][mask] = ans\n",
      "<ipython-input-25-bc96c27d3bfd>:44: SettingWithCopyWarning: \n",
      "A value is trying to be set on a copy of a slice from a DataFrame\n",
      "\n",
      "See the caveats in the documentation: https://pandas.pydata.org/pandas-docs/stable/user_guide/indexing.html#returning-a-view-versus-a-copy\n",
      "  test_data['body'][mask] = ans\n"
     ]
    }
   ],
   "source": [
    "def slice_domain(x):\n",
    "    for i in range(len(x)):\n",
    "        if(x[i] == '/' ):\n",
    "            if(x[i+1:i+4]=='www' ):\n",
    "                return x[i+5:-1].split('.')[0]\n",
    "            elif(x[i+1]!='/'):\n",
    "                return x[i+1:-1].split('.')[0]\n",
    "    return ''\n",
    "\n",
    "######################################\n",
    "mask = train_data['title'].isna()\n",
    "ans = []\n",
    "\n",
    "for x in train_data['url'][mask]:\n",
    "    ans.append(slice_domain(x))\n",
    "    \n",
    "train_data['title'][mask] = ans\n",
    "\n",
    "######################################\n",
    "mask = train_data['body'].isna()\n",
    "ans = []\n",
    "\n",
    "for x in train_data['url'][mask]:\n",
    "    ans.append(slice_domain(x))\n",
    "\n",
    "train_data['body'][mask] = ans\n",
    "\n",
    "######################################\n",
    "mask = test_data['title'].isna()\n",
    "ans = []\n",
    "\n",
    "for x in test_data['url'][mask]:\n",
    "    ans.append(slice_domain(x))\n",
    "\n",
    "test_data['title'][mask] = ans\n",
    "\n",
    "###################################### \n",
    "mask = test_data['body'].isna()\n",
    "ans = []\n",
    "\n",
    "for x in test_data['url'][mask]:\n",
    "    ans.append(slice_domain(x))\n",
    "\n",
    "test_data['body'][mask] = ans"
   ]
  },
  {
   "cell_type": "code",
   "execution_count": 26,
   "id": "76ca880c",
   "metadata": {
    "execution": {
     "iopub.execute_input": "2021-11-05T14:21:46.188369Z",
     "iopub.status.busy": "2021-11-05T14:21:46.188097Z",
     "iopub.status.idle": "2021-11-05T14:21:46.203567Z",
     "shell.execute_reply": "2021-11-05T14:21:46.202452Z",
     "shell.execute_reply.started": "2021-11-05T14:21:46.188335Z"
    }
   },
   "outputs": [
    {
     "data": {
      "text/plain": [
       "url                            0\n",
       "alchemy_category_score         0\n",
       "avgLinkWordLength              0\n",
       "AvglinkWithOneCommonWord       0\n",
       "AvglinkWithTwoCommonWord       0\n",
       "AvglinkWithThreeCommonWord     0\n",
       "AvglinkWithFourCommonWord      0\n",
       "redundancyMeasure              0\n",
       "embedRatio                     0\n",
       "frameTagRatio                  0\n",
       "domainLink                     0\n",
       "tagRatio                       0\n",
       "imageTagRatio                  0\n",
       "isNews                         0\n",
       "lengthyDomain                  0\n",
       "hyperlinkToAllWordsRatio       0\n",
       "isFrontPageNews                0\n",
       "alphanumCharCount              0\n",
       "linksCount                     0\n",
       "wordCount                      0\n",
       "parametrizedLinkRatio          0\n",
       "spellingErrorsRatio            0\n",
       "label                          0\n",
       "title                          0\n",
       "body                           0\n",
       "category_arts_entertainment    0\n",
       "category_business              0\n",
       "category_computer_internet     0\n",
       "category_culture_politics      0\n",
       "category_gaming                0\n",
       "category_health                0\n",
       "category_law_crime             0\n",
       "category_recreation            0\n",
       "category_religion              0\n",
       "category_science_technology    0\n",
       "category_sports                0\n",
       "category_unknown               0\n",
       "category_weather               0\n",
       "dtype: int64"
      ]
     },
     "execution_count": 26,
     "metadata": {},
     "output_type": "execute_result"
    }
   ],
   "source": [
    "train_data.isna().sum()"
   ]
  },
  {
   "cell_type": "code",
   "execution_count": 27,
   "id": "0cb20bcb",
   "metadata": {
    "execution": {
     "iopub.execute_input": "2021-11-05T14:21:46.205794Z",
     "iopub.status.busy": "2021-11-05T14:21:46.205522Z",
     "iopub.status.idle": "2021-11-05T14:21:46.221047Z",
     "shell.execute_reply": "2021-11-05T14:21:46.220021Z",
     "shell.execute_reply.started": "2021-11-05T14:21:46.205761Z"
    }
   },
   "outputs": [
    {
     "data": {
      "text/plain": [
       "url                            0\n",
       "alchemy_category_score         0\n",
       "avgLinkWordLength              0\n",
       "AvglinkWithOneCommonWord       0\n",
       "AvglinkWithTwoCommonWord       0\n",
       "AvglinkWithThreeCommonWord     0\n",
       "AvglinkWithFourCommonWord      0\n",
       "redundancyMeasure              0\n",
       "embedRatio                     0\n",
       "frameTagRatio                  0\n",
       "domainLink                     0\n",
       "tagRatio                       0\n",
       "imageTagRatio                  0\n",
       "isNews                         0\n",
       "lengthyDomain                  0\n",
       "hyperlinkToAllWordsRatio       0\n",
       "isFrontPageNews                0\n",
       "alphanumCharCount              0\n",
       "linksCount                     0\n",
       "wordCount                      0\n",
       "parametrizedLinkRatio          0\n",
       "spellingErrorsRatio            0\n",
       "label                          0\n",
       "title                          0\n",
       "body                           0\n",
       "category_arts_entertainment    0\n",
       "category_business              0\n",
       "category_computer_internet     0\n",
       "category_culture_politics      0\n",
       "category_gaming                0\n",
       "category_health                0\n",
       "category_law_crime             0\n",
       "category_recreation            0\n",
       "category_religion              0\n",
       "category_science_technology    0\n",
       "category_sports                0\n",
       "category_unknown               0\n",
       "category_weather               0\n",
       "dtype: int64"
      ]
     },
     "execution_count": 27,
     "metadata": {},
     "output_type": "execute_result"
    }
   ],
   "source": [
    "(train_data=='?').sum()"
   ]
  },
  {
   "cell_type": "markdown",
   "id": "ee726f78",
   "metadata": {},
   "source": [
    "### Check for outliers"
   ]
  },
  {
   "cell_type": "code",
   "execution_count": 28,
   "id": "e3c0df8c",
   "metadata": {},
   "outputs": [
    {
     "data": {
      "text/plain": [
       "<AxesSubplot:xlabel='AvglinkWithOneCommonWord'>"
      ]
     },
     "execution_count": 28,
     "metadata": {},
     "output_type": "execute_result"
    },
    {
     "data": {
      "image/png": "[encoded data removed]",
      "text/plain": [
       "<Figure size 432x288 with 1 Axes>"
      ]
     },
     "metadata": {
      "needs_background": "light"
     },
     "output_type": "display_data"
    }
   ],
   "source": [
    "sns.boxplot(x=train_data[\"AvglinkWithOneCommonWord\"])"
   ]
  },
  {
   "cell_type": "code",
   "execution_count": 29,
   "id": "7f3a6f3b",
   "metadata": {},
   "outputs": [
    {
     "name": "stderr",
     "output_type": "stream",
     "text": [
      "/home/dhamodhar/anaconda3/lib/python3.8/site-packages/seaborn/_decorators.py:36: FutureWarning: Pass the following variable as a keyword arg: x. From version 0.12, the only valid positional argument will be `data`, and passing other arguments without an explicit keyword will result in an error or misinterpretation.\n",
      "  warnings.warn(\n"
     ]
    },
    {
     "data": {
      "text/plain": [
       "<AxesSubplot:xlabel='AvglinkWithTwoCommonWord'>"
      ]
     },
     "execution_count": 29,
     "metadata": {},
     "output_type": "execute_result"
    },
    {
     "data": {
      "image/png": "[encoded data removed]",
      "text/plain": [
       "<Figure size 432x288 with 1 Axes>"
      ]
     },
     "metadata": {
      "needs_background": "light"
     },
     "output_type": "display_data"
    }
   ],
   "source": [
    "sns.boxplot(train_data['AvglinkWithTwoCommonWord'])"
   ]
  },
  {
   "cell_type": "code",
   "execution_count": 30,
   "id": "3971d380",
   "metadata": {},
   "outputs": [
    {
     "data": {
      "text/plain": [
       "0.6562210032759818"
      ]
     },
     "execution_count": 30,
     "metadata": {},
     "output_type": "execute_result"
    }
   ],
   "source": [
    "train_data['AvglinkWithTwoCommonWord'].mean() + 3*train_data['AvglinkWithTwoCommonWord'].std()"
   ]
  },
  {
   "cell_type": "code",
   "execution_count": 31,
   "id": "02543705",
   "metadata": {},
   "outputs": [],
   "source": [
    "train_data = train_data[(train_data['AvglinkWithTwoCommonWord']<0.654)]"
   ]
  },
  {
   "cell_type": "code",
   "execution_count": 32,
   "id": "e3732bf2",
   "metadata": {},
   "outputs": [
    {
     "data": {
      "text/plain": [
       "<AxesSubplot:xlabel='AvglinkWithThreeCommonWord'>"
      ]
     },
     "execution_count": 32,
     "metadata": {},
     "output_type": "execute_result"
    },
    {
     "data": {
      "image/png": "[encoded data removed]",
      "text/plain": [
       "<Figure size 432x288 with 1 Axes>"
      ]
     },
     "metadata": {
      "needs_background": "light"
     },
     "output_type": "display_data"
    }
   ],
   "source": [
    "sns.boxplot(x = train_data['AvglinkWithThreeCommonWord'])"
   ]
  },
  {
   "cell_type": "code",
   "execution_count": 33,
   "id": "515cf272",
   "metadata": {},
   "outputs": [
    {
     "data": {
      "text/plain": [
       "<AxesSubplot:xlabel='AvglinkWithFourCommonWord'>"
      ]
     },
     "execution_count": 33,
     "metadata": {},
     "output_type": "execute_result"
    },
    {
     "data": {
      "image/png": "[encoded data removed]",
      "text/plain": [
       "<Figure size 432x288 with 1 Axes>"
      ]
     },
     "metadata": {
      "needs_background": "light"
     },
     "output_type": "display_data"
    }
   ],
   "source": [
    "sns.boxplot(x = train_data['AvglinkWithFourCommonWord'])"
   ]
  },
  {
   "cell_type": "code",
   "execution_count": 34,
   "id": "28c937e2",
   "metadata": {},
   "outputs": [
    {
     "data": {
      "text/plain": [
       "<AxesSubplot:xlabel='avgLinkWordLength'>"
      ]
     },
     "execution_count": 34,
     "metadata": {},
     "output_type": "execute_result"
    },
    {
     "data": {
      "image/png": "[encoded data removed]",
      "text/plain": [
       "<Figure size 432x288 with 1 Axes>"
      ]
     },
     "metadata": {
      "needs_background": "light"
     },
     "output_type": "display_data"
    }
   ],
   "source": [
    "sns.boxplot(x = train_data['avgLinkWordLength'])"
   ]
  },
  {
   "cell_type": "code",
   "execution_count": 35,
   "id": "f764ce7e",
   "metadata": {},
   "outputs": [
    {
     "name": "stdout",
     "output_type": "stream",
     "text": [
      "34\n",
      "0\n"
     ]
    }
   ],
   "source": [
    "upper_lim = (train_data['avgLinkWordLength'].mean() + 3*train_data['avgLinkWordLength'].std())\n",
    "lower_lim = (train_data['avgLinkWordLength'].mean() - 3*train_data['avgLinkWordLength'].std())\n",
    "print((train_data['avgLinkWordLength']>upper_lim).sum())\n",
    "print((train_data['avgLinkWordLength']<lower_lim).sum())\n",
    "train_data = train_data[(train_data['avgLinkWordLength']<upper_lim)]"
   ]
  },
  {
   "cell_type": "code",
   "execution_count": 36,
   "id": "ee3be13b",
   "metadata": {},
   "outputs": [
    {
     "data": {
      "text/plain": [
       "<AxesSubplot:xlabel='alchemy_category_score'>"
      ]
     },
     "execution_count": 36,
     "metadata": {},
     "output_type": "execute_result"
    },
    {
     "data": {
      "image/png": "[encoded data removed]",
      "text/plain": [
       "<Figure size 432x288 with 1 Axes>"
      ]
     },
     "metadata": {
      "needs_background": "light"
     },
     "output_type": "display_data"
    }
   ],
   "source": [
    "sns.boxplot(x = train_data['alchemy_category_score'])"
   ]
  },
  {
   "cell_type": "code",
   "execution_count": 37,
   "id": "019cc4e3",
   "metadata": {},
   "outputs": [
    {
     "data": {
      "text/plain": [
       "<AxesSubplot:xlabel='frameTagRatio'>"
      ]
     },
     "execution_count": 37,
     "metadata": {},
     "output_type": "execute_result"
    },
    {
     "data": {
      "image/png": "[encoded data removed]",
      "text/plain": [
       "<Figure size 432x288 with 1 Axes>"
      ]
     },
     "metadata": {
      "needs_background": "light"
     },
     "output_type": "display_data"
    }
   ],
   "source": [
    "sns.boxplot(x = train_data['frameTagRatio'])"
   ]
  },
  {
   "cell_type": "code",
   "execution_count": 38,
   "id": "b45c7a34",
   "metadata": {},
   "outputs": [
    {
     "data": {
      "text/plain": [
       "<AxesSubplot:xlabel='alphanumCharCount'>"
      ]
     },
     "execution_count": 38,
     "metadata": {},
     "output_type": "execute_result"
    },
    {
     "data": {
      "image/png": "[encoded data removed]",
      "text/plain": [
       "<Figure size 432x288 with 1 Axes>"
      ]
     },
     "metadata": {
      "needs_background": "light"
     },
     "output_type": "display_data"
    }
   ],
   "source": [
    "sns.boxplot(x = train_data['alphanumCharCount'])"
   ]
  },
  {
   "cell_type": "code",
   "execution_count": 39,
   "id": "029eb6e2",
   "metadata": {},
   "outputs": [
    {
     "name": "stdout",
     "output_type": "stream",
     "text": [
      "115\n",
      "0\n"
     ]
    }
   ],
   "source": [
    "upper_lim = (train_data['alphanumCharCount'].mean() + 3*train_data['alphanumCharCount'].std())\n",
    "lower_lim = (train_data['alphanumCharCount'].mean() - 3*train_data['alphanumCharCount'].std())\n",
    "print((train_data['alphanumCharCount']>upper_lim).sum())\n",
    "print((train_data['alphanumCharCount']<lower_lim).sum())\n",
    "train_data = train_data[(train_data['alphanumCharCount']<upper_lim)]"
   ]
  },
  {
   "cell_type": "code",
   "execution_count": 40,
   "id": "a5054555",
   "metadata": {},
   "outputs": [
    {
     "data": {
      "text/plain": [
       "<AxesSubplot:xlabel='embedRatio'>"
      ]
     },
     "execution_count": 40,
     "metadata": {},
     "output_type": "execute_result"
    },
    {
     "data": {
      "image/png": "[encoded data removed]",
      "text/plain": [
       "<Figure size 432x288 with 1 Axes>"
      ]
     },
     "metadata": {
      "needs_background": "light"
     },
     "output_type": "display_data"
    }
   ],
   "source": [
    "sns.boxplot(x = train_data['embedRatio'])"
   ]
  },
  {
   "cell_type": "code",
   "execution_count": 41,
   "id": "cdd1ee2e",
   "metadata": {},
   "outputs": [
    {
     "name": "stdout",
     "output_type": "stream",
     "text": [
      "0\n",
      "0\n"
     ]
    }
   ],
   "source": [
    "upper_lim = (train_data['embedRatio'].mean() + 3*train_data['embedRatio'].std())\n",
    "lower_lim = (train_data['embedRatio'].mean() - 3*train_data['embedRatio'].std())\n",
    "print((train_data['embedRatio']>upper_lim).sum())\n",
    "print((train_data['embedRatio']<lower_lim).sum())\n",
    "# train_data = train_data[(train_data['embedRatio']<upper_lim)]"
   ]
  },
  {
   "cell_type": "code",
   "execution_count": 42,
   "id": "1786b6c7",
   "metadata": {},
   "outputs": [
    {
     "data": {
      "text/plain": [
       "<AxesSubplot:xlabel='tagRatio'>"
      ]
     },
     "execution_count": 42,
     "metadata": {},
     "output_type": "execute_result"
    },
    {
     "data": {
      "image/png": "[encoded data removed]",
      "text/plain": [
       "<Figure size 432x288 with 1 Axes>"
      ]
     },
     "metadata": {
      "needs_background": "light"
     },
     "output_type": "display_data"
    }
   ],
   "source": [
    "sns.boxplot(x = train_data['tagRatio'])"
   ]
  },
  {
   "cell_type": "code",
   "execution_count": 43,
   "id": "2ff694d1",
   "metadata": {},
   "outputs": [
    {
     "name": "stdout",
     "output_type": "stream",
     "text": [
      "75\n",
      "5\n"
     ]
    }
   ],
   "source": [
    "upper_lim = (train_data['tagRatio'].mean() + 3*train_data['tagRatio'].std())\n",
    "lower_lim = (train_data['tagRatio'].mean() - 3*train_data['tagRatio'].std())\n",
    "print((train_data['tagRatio']>upper_lim).sum())\n",
    "print((train_data['tagRatio']<lower_lim).sum())\n",
    "train_data = train_data[(train_data['tagRatio']<upper_lim)]"
   ]
  },
  {
   "cell_type": "code",
   "execution_count": 44,
   "id": "ba1dc4bf",
   "metadata": {},
   "outputs": [
    {
     "data": {
      "text/plain": [
       "<AxesSubplot:xlabel='hyperlinkToAllWordsRatio'>"
      ]
     },
     "execution_count": 44,
     "metadata": {},
     "output_type": "execute_result"
    },
    {
     "data": {
      "image/png": "[encoded data removed]",
      "text/plain": [
       "<Figure size 432x288 with 1 Axes>"
      ]
     },
     "metadata": {
      "needs_background": "light"
     },
     "output_type": "display_data"
    }
   ],
   "source": [
    "sns.boxplot(x = train_data['hyperlinkToAllWordsRatio'])"
   ]
  },
  {
   "cell_type": "code",
   "execution_count": 45,
   "id": "2d1342ec",
   "metadata": {},
   "outputs": [
    {
     "name": "stdout",
     "output_type": "stream",
     "text": [
      "22\n",
      "0\n"
     ]
    }
   ],
   "source": [
    "upper_lim = (train_data['hyperlinkToAllWordsRatio'].mean() + 3*train_data['hyperlinkToAllWordsRatio'].std())\n",
    "lower_lim = (train_data['hyperlinkToAllWordsRatio'].mean() - 3*train_data['hyperlinkToAllWordsRatio'].std())\n",
    "print((train_data['hyperlinkToAllWordsRatio']>upper_lim).sum())\n",
    "print((train_data['hyperlinkToAllWordsRatio']<lower_lim).sum())\n",
    "train_data = train_data[(train_data['hyperlinkToAllWordsRatio']<upper_lim)]"
   ]
  },
  {
   "cell_type": "code",
   "execution_count": 46,
   "id": "0886beee",
   "metadata": {},
   "outputs": [
    {
     "data": {
      "text/plain": [
       "<AxesSubplot:xlabel='linksCount'>"
      ]
     },
     "execution_count": 46,
     "metadata": {},
     "output_type": "execute_result"
    },
    {
     "data": {
      "image/png": "[encoded data removed]",
      "text/plain": [
       "<Figure size 432x288 with 1 Axes>"
      ]
     },
     "metadata": {
      "needs_background": "light"
     },
     "output_type": "display_data"
    }
   ],
   "source": [
    "sns.boxplot(x = train_data['linksCount'])"
   ]
  },
  {
   "cell_type": "code",
   "execution_count": 47,
   "id": "dd2e6572",
   "metadata": {},
   "outputs": [
    {
     "name": "stdout",
     "output_type": "stream",
     "text": [
      "87\n",
      "0\n"
     ]
    }
   ],
   "source": [
    "upper_lim = (train_data['linksCount'].mean() + 3*train_data['linksCount'].std())\n",
    "lower_lim = (train_data['linksCount'].mean() - 3*train_data['linksCount'].std())\n",
    "print((train_data['linksCount']>upper_lim).sum())\n",
    "print((train_data['linksCount']<lower_lim).sum())\n",
    "train_data = train_data[(train_data['linksCount']<upper_lim)]"
   ]
  },
  {
   "cell_type": "code",
   "execution_count": 48,
   "id": "6d78a01a",
   "metadata": {},
   "outputs": [
    {
     "data": {
      "text/plain": [
       "<AxesSubplot:xlabel='parametrizedLinkRatio'>"
      ]
     },
     "execution_count": 48,
     "metadata": {},
     "output_type": "execute_result"
    },
    {
     "data": {
      "image/png": "[encoded data removed]",
      "text/plain": [
       "<Figure size 432x288 with 1 Axes>"
      ]
     },
     "metadata": {
      "needs_background": "light"
     },
     "output_type": "display_data"
    }
   ],
   "source": [
    "sns.boxplot(x = train_data['parametrizedLinkRatio'])"
   ]
  },
  {
   "cell_type": "code",
   "execution_count": 49,
   "id": "63710a68",
   "metadata": {},
   "outputs": [
    {
     "data": {
      "text/plain": [
       "<AxesSubplot:xlabel='spellingErrorsRatio'>"
      ]
     },
     "execution_count": 49,
     "metadata": {},
     "output_type": "execute_result"
    },
    {
     "data": {
      "image/png": "[encoded data removed]",
      "text/plain": [
       "<Figure size 432x288 with 1 Axes>"
      ]
     },
     "metadata": {
      "needs_background": "light"
     },
     "output_type": "display_data"
    }
   ],
   "source": [
    "sns.boxplot(x = train_data['spellingErrorsRatio'])"
   ]
  },
  {
   "cell_type": "code",
   "execution_count": 50,
   "id": "7c3b4437",
   "metadata": {},
   "outputs": [
    {
     "name": "stdout",
     "output_type": "stream",
     "text": [
      "108\n",
      "0\n"
     ]
    }
   ],
   "source": [
    "upper_lim = (train_data['spellingErrorsRatio'].mean() + 3*train_data['spellingErrorsRatio'].std())\n",
    "lower_lim = (train_data['spellingErrorsRatio'].mean() - 3*train_data['spellingErrorsRatio'].std())\n",
    "print((train_data['spellingErrorsRatio']>upper_lim).sum())\n",
    "print((train_data['spellingErrorsRatio']<lower_lim).sum())\n",
    "train_data = train_data[(train_data['spellingErrorsRatio']<upper_lim)]"
   ]
  },
  {
   "cell_type": "code",
   "execution_count": 51,
   "id": "372a4f61",
   "metadata": {},
   "outputs": [
    {
     "data": {
      "text/plain": [
       "(5412, 38)"
      ]
     },
     "execution_count": 51,
     "metadata": {},
     "output_type": "execute_result"
    }
   ],
   "source": [
    "train_data.shape"
   ]
  },
  {
   "cell_type": "markdown",
   "id": "79a5ebbb",
   "metadata": {},
   "source": [
    "### Removing skewness in few features "
   ]
  },
  {
   "cell_type": "code",
   "execution_count": 52,
   "id": "67c810d5",
   "metadata": {},
   "outputs": [],
   "source": [
    "from sklearn.preprocessing import power_transform"
   ]
  },
  {
   "cell_type": "code",
   "execution_count": 53,
   "id": "6974a9e4",
   "metadata": {},
   "outputs": [
    {
     "data": {
      "text/plain": [
       "<seaborn.axisgrid.FacetGrid at 0x7fb601158e20>"
      ]
     },
     "execution_count": 53,
     "metadata": {},
     "output_type": "execute_result"
    },
    {
     "data": {
      "image/png": "[encoded data removed]",
      "text/plain": [
       "<Figure size 360x360 with 1 Axes>"
      ]
     },
     "metadata": {
      "needs_background": "light"
     },
     "output_type": "display_data"
    }
   ],
   "source": [
    "sns.displot(train_data['AvglinkWithOneCommonWord'],bins = 30,kde=True)"
   ]
  },
  {
   "cell_type": "code",
   "execution_count": 54,
   "id": "0c541f26",
   "metadata": {
    "scrolled": true
   },
   "outputs": [
    {
     "data": {
      "text/plain": [
       "<seaborn.axisgrid.FacetGrid at 0x7fb600fea880>"
      ]
     },
     "execution_count": 54,
     "metadata": {},
     "output_type": "execute_result"
    },
    {
     "data": {
      "image/png": "[encoded data removed]",
      "text/plain": [
       "<Figure size 432x288 with 1 Axes>"
      ]
     },
     "metadata": {
      "needs_background": "light"
     },
     "output_type": "display_data"
    },
    {
     "data": {
      "image/png": "[encoded data removed]",
      "text/plain": [
       "<Figure size 432x288 with 1 Axes>"
      ]
     },
     "metadata": {
      "needs_background": "light"
     },
     "output_type": "display_data"
    }
   ],
   "source": [
    "sns.displot(train_data['AvglinkWithTwoCommonWord'],bins = 30,kde=True,height=4, aspect=1.5)\n",
    "train_data['AvglinkWithTwoCommonWord'] = power_transform(train_data[['AvglinkWithTwoCommonWord']],method='yeo-johnson')[:,0]\n",
    "sns.displot(train_data['AvglinkWithTwoCommonWord'],kde=True,bins = 30,height=4, aspect=1.5)"
   ]
  },
  {
   "cell_type": "code",
   "execution_count": 55,
   "id": "da21afdd",
   "metadata": {
    "scrolled": true
   },
   "outputs": [
    {
     "data": {
      "text/plain": [
       "<seaborn.axisgrid.FacetGrid at 0x7fb601253820>"
      ]
     },
     "execution_count": 55,
     "metadata": {},
     "output_type": "execute_result"
    },
    {
     "data": {
      "image/png": "[encoded data removed]",
      "text/plain": [
       "<Figure size 432x288 with 1 Axes>"
      ]
     },
     "metadata": {
      "needs_background": "light"
     },
     "output_type": "display_data"
    },
    {
     "data": {
      "image/png": "[encoded data removed]",
      "text/plain": [
       "<Figure size 432x288 with 1 Axes>"
      ]
     },
     "metadata": {
      "needs_background": "light"
     },
     "output_type": "display_data"
    }
   ],
   "source": [
    "sns.displot(train_data['AvglinkWithThreeCommonWord'],bins = 30,kde=True,height=4, aspect=1.5)\n",
    "train_data['AvglinkWithThreeCommonWord'] = power_transform(train_data[['AvglinkWithThreeCommonWord']],method='yeo-johnson')[:,0]\n",
    "sns.displot(train_data['AvglinkWithThreeCommonWord'],kde=True,bins = 30,height=4, aspect=1.5)"
   ]
  },
  {
   "cell_type": "code",
   "execution_count": 56,
   "id": "afeb0cb3",
   "metadata": {},
   "outputs": [
    {
     "data": {
      "text/plain": [
       "<seaborn.axisgrid.FacetGrid at 0x7fb600688250>"
      ]
     },
     "execution_count": 56,
     "metadata": {},
     "output_type": "execute_result"
    },
    {
     "data": {
      "image/png": "[encoded data removed]",
      "text/plain": [
       "<Figure size 432x288 with 1 Axes>"
      ]
     },
     "metadata": {
      "needs_background": "light"
     },
     "output_type": "display_data"
    },
    {
     "data": {
      "image/png": "[encoded data removed]",
      "text/plain": [
       "<Figure size 432x288 with 1 Axes>"
      ]
     },
     "metadata": {
      "needs_background": "light"
     },
     "output_type": "display_data"
    }
   ],
   "source": [
    "sns.displot(train_data['AvglinkWithFourCommonWord'],bins = 30,kde=True,height=4, aspect=1.5)\n",
    "train_data['AvglinkWithFourCommonWord'] = power_transform(train_data[['AvglinkWithFourCommonWord']],method='yeo-johnson')[:,0]\n",
    "sns.displot(train_data['AvglinkWithFourCommonWord'],kde=True,bins = 30,height=4, aspect=1.5)"
   ]
  },
  {
   "cell_type": "code",
   "execution_count": 57,
   "id": "2610df6e",
   "metadata": {},
   "outputs": [
    {
     "data": {
      "text/plain": [
       "<seaborn.axisgrid.FacetGrid at 0x7fb60035a730>"
      ]
     },
     "execution_count": 57,
     "metadata": {},
     "output_type": "execute_result"
    },
    {
     "data": {
      "image/png": "[encoded data removed]",
      "text/plain": [
       "<Figure size 432x288 with 1 Axes>"
      ]
     },
     "metadata": {
      "needs_background": "light"
     },
     "output_type": "display_data"
    }
   ],
   "source": [
    "sns.displot(train_data['alchemy_category_score'],bins = 30,kde=True,height=4, aspect=1.5)"
   ]
  },
  {
   "cell_type": "code",
   "execution_count": 58,
   "id": "b6247bdd",
   "metadata": {},
   "outputs": [
    {
     "data": {
      "text/plain": [
       "<seaborn.axisgrid.FacetGrid at 0x7fb600272d90>"
      ]
     },
     "execution_count": 58,
     "metadata": {},
     "output_type": "execute_result"
    },
    {
     "data": {
      "image/png": "[encoded data removed]",
      "text/plain": [
       "<Figure size 432x288 with 1 Axes>"
      ]
     },
     "metadata": {
      "needs_background": "light"
     },
     "output_type": "display_data"
    }
   ],
   "source": [
    "sns.displot(train_data['avgLinkWordLength'],bins = 30,kde=True,height=4, aspect=1.5)"
   ]
  },
  {
   "cell_type": "code",
   "execution_count": 59,
   "id": "04ee47ff",
   "metadata": {},
   "outputs": [
    {
     "data": {
      "text/plain": [
       "<seaborn.axisgrid.FacetGrid at 0x7fb600151ee0>"
      ]
     },
     "execution_count": 59,
     "metadata": {},
     "output_type": "execute_result"
    },
    {
     "data": {
      "image/png": "[encoded data removed]",
      "text/plain": [
       "<Figure size 432x288 with 1 Axes>"
      ]
     },
     "metadata": {
      "needs_background": "light"
     },
     "output_type": "display_data"
    },
    {
     "data": {
      "image/png": "[encoded data removed]",
      "text/plain": [
       "<Figure size 432x288 with 1 Axes>"
      ]
     },
     "metadata": {
      "needs_background": "light"
     },
     "output_type": "display_data"
    }
   ],
   "source": [
    "sns.displot(train_data['redundancyMeasure'],bins = 30,kde=True,height=4, aspect=1.5)\n",
    "train_data['redundancyMeasure'] = power_transform(train_data[['redundancyMeasure']],method='yeo-johnson')[:,0]\n",
    "sns.displot(train_data['redundancyMeasure'],kde=True,bins = 30,height=4, aspect=1.5)"
   ]
  },
  {
   "cell_type": "code",
   "execution_count": 60,
   "id": "5a385344",
   "metadata": {},
   "outputs": [
    {
     "data": {
      "text/plain": [
       "<seaborn.axisgrid.FacetGrid at 0x7fb601505910>"
      ]
     },
     "execution_count": 60,
     "metadata": {},
     "output_type": "execute_result"
    },
    {
     "data": {
      "image/png": "[encoded data removed]",
      "text/plain": [
       "<Figure size 432x288 with 1 Axes>"
      ]
     },
     "metadata": {
      "needs_background": "light"
     },
     "output_type": "display_data"
    }
   ],
   "source": [
    "sns.displot(train_data['alphanumCharCount'],kde=True,bins = 30,height=4, aspect=1.5)"
   ]
  },
  {
   "cell_type": "code",
   "execution_count": 61,
   "id": "4a99005a",
   "metadata": {},
   "outputs": [
    {
     "data": {
      "text/plain": [
       "<seaborn.axisgrid.FacetGrid at 0x7fb60024ab50>"
      ]
     },
     "execution_count": 61,
     "metadata": {},
     "output_type": "execute_result"
    },
    {
     "data": {
      "image/png": "[encoded data removed]",
      "text/plain": [
       "<Figure size 432x288 with 1 Axes>"
      ]
     },
     "metadata": {
      "needs_background": "light"
     },
     "output_type": "display_data"
    }
   ],
   "source": [
    "sns.displot(train_data['embedRatio'],kde=True,bins = 40,height = 4, aspect=1.5)"
   ]
  },
  {
   "cell_type": "code",
   "execution_count": 62,
   "id": "4242bf15",
   "metadata": {},
   "outputs": [
    {
     "data": {
      "text/plain": [
       "<seaborn.axisgrid.FacetGrid at 0x7fb60035ddf0>"
      ]
     },
     "execution_count": 62,
     "metadata": {},
     "output_type": "execute_result"
    },
    {
     "data": {
      "image/png": "[encoded data removed]",
      "text/plain": [
       "<Figure size 432x288 with 1 Axes>"
      ]
     },
     "metadata": {
      "needs_background": "light"
     },
     "output_type": "display_data"
    },
    {
     "data": {
      "image/png": "[encoded data removed]",
      "text/plain": [
       "<Figure size 432x288 with 1 Axes>"
      ]
     },
     "metadata": {
      "needs_background": "light"
     },
     "output_type": "display_data"
    }
   ],
   "source": [
    "sns.displot(train_data['frameTagRatio'],kde=True,bins = 40,height = 4, aspect=1.5)\n",
    "train_data['frameTagRatio'] = power_transform(train_data[['frameTagRatio']],method='yeo-johnson')[:,0]\n",
    "sns.displot(train_data['frameTagRatio'],kde=True,bins = 30,height=4, aspect=1.5)"
   ]
  },
  {
   "cell_type": "code",
   "execution_count": 63,
   "id": "0f50caf3",
   "metadata": {},
   "outputs": [
    {
     "data": {
      "text/plain": [
       "<seaborn.axisgrid.FacetGrid at 0x7fb600493430>"
      ]
     },
     "execution_count": 63,
     "metadata": {},
     "output_type": "execute_result"
    },
    {
     "data": {
      "image/png": "[encoded data removed]",
      "text/plain": [
       "<Figure size 432x288 with 1 Axes>"
      ]
     },
     "metadata": {
      "needs_background": "light"
     },
     "output_type": "display_data"
    }
   ],
   "source": [
    "sns.displot(train_data['tagRatio'],kde=True,bins = 40,height = 4, aspect=1.5)"
   ]
  },
  {
   "cell_type": "code",
   "execution_count": 64,
   "id": "fc19e7a1",
   "metadata": {},
   "outputs": [
    {
     "data": {
      "text/plain": [
       "<seaborn.axisgrid.FacetGrid at 0x7fb5fb7a9ac0>"
      ]
     },
     "execution_count": 64,
     "metadata": {},
     "output_type": "execute_result"
    },
    {
     "data": {
      "image/png": "[encoded data removed]",
      "text/plain": [
       "<Figure size 432x288 with 1 Axes>"
      ]
     },
     "metadata": {
      "needs_background": "light"
     },
     "output_type": "display_data"
    }
   ],
   "source": [
    "sns.displot(train_data['hyperlinkToAllWordsRatio'],kde=True,bins = 40,height = 4, aspect=1.5)"
   ]
  },
  {
   "cell_type": "code",
   "execution_count": 65,
   "id": "6644a495",
   "metadata": {},
   "outputs": [
    {
     "data": {
      "text/plain": [
       "<seaborn.axisgrid.FacetGrid at 0x7fb5fb733b50>"
      ]
     },
     "execution_count": 65,
     "metadata": {},
     "output_type": "execute_result"
    },
    {
     "data": {
      "image/png": "[encoded data removed]",
      "text/plain": [
       "<Figure size 432x288 with 1 Axes>"
      ]
     },
     "metadata": {
      "needs_background": "light"
     },
     "output_type": "display_data"
    }
   ],
   "source": [
    "sns.displot(train_data['linksCount'],kde=True,bins = 40,height = 4, aspect=1.5)"
   ]
  },
  {
   "cell_type": "code",
   "execution_count": 66,
   "id": "c298d43d",
   "metadata": {},
   "outputs": [
    {
     "data": {
      "text/plain": [
       "<seaborn.axisgrid.FacetGrid at 0x7fb6010ad220>"
      ]
     },
     "execution_count": 66,
     "metadata": {},
     "output_type": "execute_result"
    },
    {
     "data": {
      "image/png": "[encoded data removed]",
      "text/plain": [
       "<Figure size 432x288 with 1 Axes>"
      ]
     },
     "metadata": {
      "needs_background": "light"
     },
     "output_type": "display_data"
    },
    {
     "data": {
      "image/png": "[encoded data removed]",
      "text/plain": [
       "<Figure size 432x288 with 1 Axes>"
      ]
     },
     "metadata": {
      "needs_background": "light"
     },
     "output_type": "display_data"
    }
   ],
   "source": [
    "sns.displot(train_data['parametrizedLinkRatio'],kde=True,bins = 40,height = 4, aspect=1.5)\n",
    "train_data['parametrizedLinkRatio'] = power_transform(train_data[['parametrizedLinkRatio']],method='yeo-johnson')[:,0]\n",
    "sns.displot(train_data['parametrizedLinkRatio'],kde=True,bins = 30,height=4, aspect=1.5)"
   ]
  },
  {
   "cell_type": "code",
   "execution_count": 67,
   "id": "2f67a6ee",
   "metadata": {},
   "outputs": [
    {
     "data": {
      "text/plain": [
       "<seaborn.axisgrid.FacetGrid at 0x7fb5fb590c40>"
      ]
     },
     "execution_count": 67,
     "metadata": {},
     "output_type": "execute_result"
    },
    {
     "data": {
      "image/png": "[encoded data removed]",
      "text/plain": [
       "<Figure size 432x288 with 1 Axes>"
      ]
     },
     "metadata": {
      "needs_background": "light"
     },
     "output_type": "display_data"
    }
   ],
   "source": [
    "sns.displot(train_data['spellingErrorsRatio'],kde=True,bins = 30,height = 4, aspect=1.5)"
   ]
  },
  {
   "cell_type": "markdown",
   "id": "68df9c99",
   "metadata": {},
   "source": [
    "### Normalization of the Numerical Data"
   ]
  },
  {
   "cell_type": "code",
   "execution_count": 68,
   "id": "dfd88d80",
   "metadata": {},
   "outputs": [],
   "source": [
    "from sklearn.preprocessing import StandardScaler\n",
    "\n",
    "scaler = StandardScaler()\n",
    "\n",
    "numer_train_data = train_data.drop(['url','body','title','label'],axis = 1)\n",
    "numer_test_data = test_data.drop(['url','body','title'],axis = 1)\n",
    "\n",
    "numer_train_data = scaler.fit_transform(numer_train_data)\n",
    "numer_test_data = scaler.transform(numer_test_data)"
   ]
  },
  {
   "cell_type": "markdown",
   "id": "92b6bcdb",
   "metadata": {},
   "source": [
    "# NLP"
   ]
  },
  {
   "cell_type": "code",
   "execution_count": 69,
   "id": "007c9af0",
   "metadata": {
    "execution": {
     "iopub.execute_input": "2021-11-05T14:21:46.222957Z",
     "iopub.status.busy": "2021-11-05T14:21:46.222626Z",
     "iopub.status.idle": "2021-11-05T14:21:46.844349Z",
     "shell.execute_reply": "2021-11-05T14:21:46.843645Z",
     "shell.execute_reply.started": "2021-11-05T14:21:46.222850Z"
    }
   },
   "outputs": [],
   "source": [
    "import nltk\n",
    "import string\n",
    "import re"
   ]
  },
  {
   "cell_type": "markdown",
   "id": "daf9f064",
   "metadata": {},
   "source": [
    "### Remove punctuation, convert the characters to lowercase and seperate alphanumeric words"
   ]
  },
  {
   "cell_type": "markdown",
   "id": "66f50093",
   "metadata": {},
   "source": [
    "### Remove Stopwords"
   ]
  },
  {
   "cell_type": "code",
   "execution_count": 70,
   "id": "79c6479f",
   "metadata": {
    "execution": {
     "iopub.execute_input": "2021-11-05T14:21:46.852825Z",
     "iopub.status.busy": "2021-11-05T14:21:46.852526Z",
     "iopub.status.idle": "2021-11-05T14:21:46.859679Z",
     "shell.execute_reply": "2021-11-05T14:21:46.858832Z",
     "shell.execute_reply.started": "2021-11-05T14:21:46.852789Z"
    }
   },
   "outputs": [],
   "source": [
    "def punc_helper(ch):\n",
    "    if(ch not in string.punctuation):\n",
    "        return ch.lower()\n",
    "    else:\n",
    "        return ' '\n",
    "\n",
    "def remove_punc_and_lower(s):\n",
    "    without_punc = \"\".join([punc_helper(ch) for ch in s])\n",
    "    return without_punc\n",
    "\n",
    "def seperate_alphanum(s):\n",
    "    return re.findall(r\"[^\\W\\d_]+|\\d+\", s)\n",
    "\n",
    "stopwords = nltk.corpus.stopwords.words('english')\n",
    "def remove_stopwords(tokens):\n",
    "    txt = [word for word in tokens if word not in stopwords]\n",
    "    return txt"
   ]
  },
  {
   "cell_type": "code",
   "execution_count": 71,
   "id": "2b48feff",
   "metadata": {
    "execution": {
     "iopub.execute_input": "2021-11-05T14:22:12.959809Z",
     "iopub.status.busy": "2021-11-05T14:22:12.959480Z",
     "iopub.status.idle": "2021-11-05T14:22:12.967705Z",
     "shell.execute_reply": "2021-11-05T14:22:12.966828Z",
     "shell.execute_reply.started": "2021-11-05T14:22:12.959770Z"
    }
   },
   "outputs": [],
   "source": [
    "############ Basic Lemmatization with nltk ############\n",
    "# wn = nltk.WordNetLemmatizer()\n",
    "\n",
    "# def lemmatization(txt): (Basic)\n",
    "#     lemmatized_txt = [wn.lemmatize(word) for word in txt]\n",
    "#     return lemmatized_txt\n",
    "\n",
    "############ Stemming ########### (Not efficient)\n",
    "# ps = nltk.PorterStemmer()\n",
    "\n",
    "# def stemmer(txt):\n",
    "#     lemmatized_txt = [ps.stem(word) for word in txt]\n",
    "#     return lemmatized_txt\n",
    "\n",
    "\n",
    "############# Lemmetization using Spacy library ############## (Taking a lot of time to execute)\n",
    "# import spacy\n",
    "# def spacy_lemmetizer(s):\n",
    "#     s = \" \".join(s) \n",
    "#     nlp = spacy.load('en_core_web_sm')\n",
    "#     doc = nlp(s)\n",
    "#     tokens = []\n",
    "    \n",
    "#     for token in doc:\n",
    "#         tokens.append(token)\n",
    "    \n",
    "#     lemmatized_sentence = \" \".join([token.lemma_ for token in doc])\n",
    "#     return lemmatized_sentence"
   ]
  },
  {
   "cell_type": "markdown",
   "id": "b289df2c",
   "metadata": {},
   "source": [
    "### Lemmatizing each parts of speech with its own lemmatizer"
   ]
  },
  {
   "cell_type": "code",
   "execution_count": 72,
   "id": "43ac3af9",
   "metadata": {
    "execution": {
     "iopub.execute_input": "2021-11-05T14:27:56.818125Z",
     "iopub.status.busy": "2021-11-05T14:27:56.817756Z",
     "iopub.status.idle": "2021-11-05T14:27:56.833268Z",
     "shell.execute_reply": "2021-11-05T14:27:56.832579Z",
     "shell.execute_reply.started": "2021-11-05T14:27:56.818087Z"
    }
   },
   "outputs": [],
   "source": [
    "from nltk.corpus import wordnet\n",
    " \n",
    "lemmatizer = nltk.WordNetLemmatizer()\n",
    " \n",
    "def pos_tagger(nltk_tag):\n",
    "    if nltk_tag.startswith('J'):\n",
    "        return wordnet.ADJ\n",
    "    elif nltk_tag.startswith('V'):\n",
    "        return wordnet.VERB\n",
    "    elif nltk_tag.startswith('N'):\n",
    "        return wordnet.NOUN\n",
    "    elif nltk_tag.startswith('R'):\n",
    "        return wordnet.ADV\n",
    "    else:         \n",
    "        return None\n",
    "\n",
    "def word_net_lemmatizer(sentence):\n",
    "    sentence = \" \".join(sentence)\n",
    "    pos_tagged = nltk.pos_tag(nltk.word_tokenize(sentence)) \n",
    "    wordnet_tagged = list(map(lambda x: (x[0], pos_tagger(x[1])), pos_tagged))\n",
    "    lemmatized_sentence = []\n",
    "    \n",
    "    for word, tag in wordnet_tagged:\n",
    "        if tag is None:\n",
    "            lemmatized_sentence.append(word)\n",
    "        else:       \n",
    "            lemmatized_sentence.append(lemmatizer.lemmatize(word, tag))\n",
    "    lemmatized_sentence = \" \".join(lemmatized_sentence)\n",
    "    \n",
    "    return lemmatized_sentence"
   ]
  },
  {
   "cell_type": "code",
   "execution_count": 73,
   "id": "2695e01a",
   "metadata": {},
   "outputs": [],
   "source": [
    "# Helper function to use all the preprocessing techniques at once.\n",
    "def preprocess_text(train_data,feature):\n",
    "    \n",
    "    new_feature = train_data[feature].apply(lambda x : remove_punc_and_lower(x))\n",
    "    \n",
    "    new_feature = new_feature.apply(lambda x : seperate_alphanum(x))\n",
    "    \n",
    "    new_feature = new_feature.apply(lambda x : remove_stopwords(x))\n",
    "\n",
    "    new_feature = new_feature.apply(lambda x : word_net_lemmatizer(x))\n",
    "    \n",
    "    return new_feature"
   ]
  },
  {
   "cell_type": "code",
   "execution_count": 74,
   "id": "606005f2",
   "metadata": {
    "scrolled": true
   },
   "outputs": [],
   "source": [
    "train_data['body_new'] = preprocess_text(train_data,'body')\n",
    "test_data['body_new'] = preprocess_text(test_data,'body')\n",
    "\n",
    "train_data['url_new'] = preprocess_text(train_data,'url')\n",
    "test_data['url_new'] = preprocess_text(test_data,'url')\n",
    "\n",
    "train_data['title_new'] = preprocess_text(train_data,'title')\n",
    "test_data['title_new'] = preprocess_text(test_data,'title')\n",
    "\n",
    "# train_data.to_csv('train_data_vectors.csv')\n",
    "# test_data.to_csv('test_data_vectors.csv')"
   ]
  },
  {
   "cell_type": "code",
   "execution_count": 75,
   "id": "71f1f546",
   "metadata": {},
   "outputs": [],
   "source": [
    "\n",
    "# train_data_new = pd.read_csv('train_data_vectors.csv')\n",
    "# test_data_new = pd.read_csv('test_data_vectors.csv')"
   ]
  },
  {
   "cell_type": "code",
   "execution_count": 76,
   "id": "b919b1e6",
   "metadata": {},
   "outputs": [],
   "source": [
    "######## Bag of Words #######\n",
    "\n",
    "# from sklearn.feature_extraction.text import CountVectorizer\n",
    "\n",
    "# count_vect = CountVectorizer()\n",
    "\n",
    "# # Ignore words that are in more than half of the documents.\n",
    "# count_vect.set_params(max_df=0.5)\n",
    "\n",
    "# # Ignore words that are not in atleast 2 documents.\n",
    "# count_vect.set_params(min_df=2)\n",
    "\n",
    "# X_counts = count_vect.fit_transform(data['body_new'])"
   ]
  },
  {
   "cell_type": "markdown",
   "id": "bfef3df8",
   "metadata": {},
   "source": [
    "### Using word_net_lemmatizer, no of features = 69786"
   ]
  },
  {
   "cell_type": "markdown",
   "id": "89aa4098",
   "metadata": {},
   "source": [
    "### Using word_net_lemmatizer + RE for seperation of alphanum, no of features = 66736"
   ]
  },
  {
   "cell_type": "markdown",
   "id": "36944349",
   "metadata": {},
   "source": [
    "### Using above 2 + setting min and max params, no of features = 27365"
   ]
  },
  {
   "cell_type": "code",
   "execution_count": 77,
   "id": "9d2c8351",
   "metadata": {},
   "outputs": [],
   "source": [
    "# Joining all the three text columns to fit in the tfidf vector\n",
    "join_train = train_data['body_new']+' '+train_data['title_new']+' '+train_data['url_new']\n",
    "join_test = test_data['body_new']+' '+test_data['title_new']+' '+test_data['url_new']"
   ]
  },
  {
   "cell_type": "code",
   "execution_count": 78,
   "id": "1daf5ca9",
   "metadata": {},
   "outputs": [],
   "source": [
    "######## TFIDF vectorization #######\n",
    "from sklearn.feature_extraction.text import TfidfVectorizer\n",
    "tfidf_vectorizer = TfidfVectorizer()\n",
    "\n",
    "# Ignore words that are in more than half of the documents.\n",
    "tfidf_vectorizer.set_params(max_df=0.5)\n",
    "\n",
    "# Ignore words that are not in atleast 2 documents.\n",
    "tfidf_vectorizer.set_params(min_df=2)\n",
    "\n",
    "tfvec = tfidf_vectorizer.fit(pd.concat([join_train,join_test]))\n",
    "\n",
    "train_vector_body = pd.DataFrame(tfvec.transform(train_data['body_new']).todense(),columns = tfvec.get_feature_names())\n",
    "test_vector_body = pd.DataFrame(tfvec.transform(test_data['body_new']).todense(),columns = tfvec.get_feature_names())\n",
    "\n",
    "# tfvec = tfidf_vectorizer.fit(pd.concat([train_data['title_new'],test_data['title_new']]))\n",
    "train_vector_title = pd.DataFrame(tfvec.transform(train_data['title_new']).todense(),columns = tfvec.get_feature_names())\n",
    "test_vector_title = pd.DataFrame(tfvec.transform(test_data['title_new']).todense(),columns = tfvec.get_feature_names())\n",
    "\n",
    "# tfvec = tfidf_vectorizer.fit(pd.concat([train_data['url_new'],test_data['url_new']]))\n",
    "train_vector_url = pd.DataFrame(tfvec.transform(train_data['url_new']).todense(),columns = tfvec.get_feature_names())\n",
    "test_vector_url = pd.DataFrame(tfvec.transform(test_data['url_new']).todense(),columns = tfvec.get_feature_names())"
   ]
  },
  {
   "cell_type": "markdown",
   "id": "1fe925ac",
   "metadata": {},
   "source": [
    "### Decompose the 30000 features space dimension to lower dimensions"
   ]
  },
  {
   "cell_type": "code",
   "execution_count": 79,
   "id": "2776c38a",
   "metadata": {},
   "outputs": [],
   "source": [
    "from sklearn.decomposition import PCA"
   ]
  },
  {
   "cell_type": "markdown",
   "id": "77066639",
   "metadata": {},
   "source": [
    "### Decompose to 300 features each for body,title and url"
   ]
  },
  {
   "cell_type": "code",
   "execution_count": 80,
   "id": "c95aba64",
   "metadata": {},
   "outputs": [],
   "source": [
    "pca = PCA(n_components=300)\n",
    "\n",
    "train_pca1 = pca.fit_transform(train_vector_body)\n",
    "test_pca1 = pca.transform(test_vector_body)\n",
    "\n",
    "pca = PCA(n_components=300)\n",
    "train_pca2 = pca.fit_transform(train_vector_title)\n",
    "test_pca2 = pca.transform(test_vector_title)\n",
    "\n",
    "pca = PCA(n_components=300)\n",
    "train_pca3 = pca.fit_transform(train_vector_url)\n",
    "test_pca3 = pca.transform(test_vector_url)"
   ]
  },
  {
   "cell_type": "code",
   "execution_count": 81,
   "id": "2b3e88ee",
   "metadata": {},
   "outputs": [],
   "source": [
    "train_data_pca = np.concatenate((np.concatenate((train_pca1,train_pca2),axis=1),train_pca3),axis=1)\n",
    "test_data_pca = np.concatenate((np.concatenate((test_pca1,test_pca2),axis=1),test_pca3),axis=1)"
   ]
  },
  {
   "cell_type": "code",
   "execution_count": 82,
   "id": "2324dea5",
   "metadata": {},
   "outputs": [],
   "source": [
    "# Concatenating the numerical data.\n",
    "train_data_pca = np.concatenate((train_data_pca ,numer_train_data),axis = 1)\n",
    "test_data_pca = np.concatenate((test_data_pca ,numer_test_data),axis = 1)"
   ]
  },
  {
   "cell_type": "code",
   "execution_count": 83,
   "id": "9152a27a",
   "metadata": {},
   "outputs": [],
   "source": [
    "train_data_pca = pd.DataFrame(train_data_pca)\n",
    "test_data_pca = pd.DataFrame(test_data_pca)"
   ]
  },
  {
   "cell_type": "markdown",
   "id": "9259d90f",
   "metadata": {},
   "source": [
    "### Importing Logistic Regression from SKlearn"
   ]
  },
  {
   "cell_type": "code",
   "execution_count": 84,
   "id": "04dcf144",
   "metadata": {},
   "outputs": [],
   "source": [
    "from sklearn.linear_model import LogisticRegression\n",
    "lr = LogisticRegression(max_iter=10000)"
   ]
  },
  {
   "cell_type": "markdown",
   "id": "32940f6b",
   "metadata": {},
   "source": [
    "### Helper function for cross-validation"
   ]
  },
  {
   "cell_type": "code",
   "execution_count": 85,
   "id": "7dbcc1a9",
   "metadata": {},
   "outputs": [],
   "source": [
    "from sklearn.model_selection import KFold # import KFold\n",
    "from sklearn.metrics import roc_auc_score\n",
    "\n",
    "def cross_validator1(model,X1,train_data):\n",
    "    kf = KFold(n_splits=5, random_state=22, shuffle=True) # Define the split - into 5 folds \n",
    "    kf.get_n_splits(X1) # returns the number of splitting iterations in the cross-validator\n",
    "\n",
    "    pred = []\n",
    "    proba= []\n",
    "    acc = []\n",
    "    roc = []\n",
    "    \n",
    "    for ndxs in kf.split(X1):\n",
    "        model.fit(X1.iloc[ndxs[0]],train_data.iloc[ndxs[0]]['label'])\n",
    "        pred.append(model.predict(X1.iloc[ndxs[1]]))\n",
    "        acc.append(np.mean(pred[len(pred)-1] == train_data.iloc[ndxs[1]]['label']))\n",
    "        proba.append(model.predict_proba(X1.iloc[ndxs[1]]))\n",
    "        roc.append(roc_auc_score(train_data.iloc[ndxs[1]]['label'],proba[-1][:,1]))\n",
    "    \n",
    "    return pred,acc,roc\n",
    "\n",
    "def cross_validator2(model,X1,train_data):\n",
    "    kf = KFold(n_splits=5, random_state=22, shuffle=True) # Define the split - into 5 folds \n",
    "    kf.get_n_splits(X1) # returns the number of splitting iterations in the cross-validator\n",
    "\n",
    "    pred = []\n",
    "    proba= []\n",
    "    acc = []\n",
    "    roc = []\n",
    "    \n",
    "    for ndxs in kf.split(X1):\n",
    "        model.fit(X1.iloc[ndxs[0]],train_data.iloc[ndxs[0]]['label'])\n",
    "        pred.append(model.predict(X1.iloc[ndxs[1]]))\n",
    "        acc.append(np.mean(pred[len(pred)-1] == train_data.iloc[ndxs[1]]['label']))\n",
    "        proba.append(model.decision_function(X1.iloc[ndxs[1]]))\n",
    "        roc.append(roc_auc_score(train_data.iloc[ndxs[1]]['label'],proba[-1]))\n",
    "    \n",
    "    return pred,acc,roc\n",
    "\n",
    "def cross_validator3(model,X1,train_data):\n",
    "    kf = KFold(n_splits=5, random_state=22, shuffle=True) # Define the split - into 5 folds \n",
    "    kf.get_n_splits(X1) # returns the number of splitting iterations in the cross-validator\n",
    "\n",
    "    pred = []\n",
    "    proba= []\n",
    "    acc = []\n",
    "    roc = []\n",
    "    \n",
    "    for ndxs in kf.split(X1):\n",
    "        model.fit(X1[:,ndxs[0]],train_data[ndxs[0]]['label'])\n",
    "        pred.append(model.predict(X1[:,ndxs[1]]))\n",
    "        acc.append(np.mean(pred[len(pred)-1] == train_data.iloc[ndxs[1]]['label']))\n",
    "        proba.append(model.predict_proba(X1[:,ndxs[1]]))\n",
    "        roc.append(roc_auc_score(train_data.iloc[ndxs[1]]['label'],proba[-1][:,1]))\n",
    "    \n",
    "    return pred,acc,roc"
   ]
  },
  {
   "cell_type": "markdown",
   "id": "9fb13582",
   "metadata": {},
   "source": [
    "### Best Public Leaderboard Score"
   ]
  },
  {
   "cell_type": "markdown",
   "id": "0b90cfd6",
   "metadata": {},
   "source": [
    "#### Logistic Regression Along with PCA (Hyper Parameter Tuning with GridSearch)"
   ]
  },
  {
   "cell_type": "code",
   "execution_count": 86,
   "id": "74c0bed7",
   "metadata": {
    "scrolled": true
   },
   "outputs": [
    {
     "name": "stderr",
     "output_type": "stream",
     "text": [
      "/home/dhamodhar/anaconda3/lib/python3.8/site-packages/sklearn/linear_model/_logistic.py:1322: UserWarning: Setting penalty='none' will ignore the C and l1_ratio parameters\n",
      "  warnings.warn(\n",
      "/home/dhamodhar/anaconda3/lib/python3.8/site-packages/sklearn/linear_model/_logistic.py:1322: UserWarning: Setting penalty='none' will ignore the C and l1_ratio parameters\n",
      "  warnings.warn(\n",
      "/home/dhamodhar/anaconda3/lib/python3.8/site-packages/sklearn/linear_model/_logistic.py:1322: UserWarning: Setting penalty='none' will ignore the C and l1_ratio parameters\n",
      "  warnings.warn(\n",
      "/home/dhamodhar/anaconda3/lib/python3.8/site-packages/sklearn/linear_model/_logistic.py:1322: UserWarning: Setting penalty='none' will ignore the C and l1_ratio parameters\n",
      "  warnings.warn(\n",
      "/home/dhamodhar/anaconda3/lib/python3.8/site-packages/sklearn/linear_model/_logistic.py:1322: UserWarning: Setting penalty='none' will ignore the C and l1_ratio parameters\n",
      "  warnings.warn(\n",
      "/home/dhamodhar/anaconda3/lib/python3.8/site-packages/sklearn/linear_model/_logistic.py:1322: UserWarning: Setting penalty='none' will ignore the C and l1_ratio parameters\n",
      "  warnings.warn(\n",
      "/home/dhamodhar/anaconda3/lib/python3.8/site-packages/sklearn/linear_model/_logistic.py:1322: UserWarning: Setting penalty='none' will ignore the C and l1_ratio parameters\n",
      "  warnings.warn(\n",
      "/home/dhamodhar/anaconda3/lib/python3.8/site-packages/sklearn/linear_model/_logistic.py:1322: UserWarning: Setting penalty='none' will ignore the C and l1_ratio parameters\n",
      "  warnings.warn(\n",
      "/home/dhamodhar/anaconda3/lib/python3.8/site-packages/sklearn/linear_model/_logistic.py:1322: UserWarning: Setting penalty='none' will ignore the C and l1_ratio parameters\n",
      "  warnings.warn(\n",
      "/home/dhamodhar/anaconda3/lib/python3.8/site-packages/sklearn/linear_model/_logistic.py:1322: UserWarning: Setting penalty='none' will ignore the C and l1_ratio parameters\n",
      "  warnings.warn(\n",
      "/home/dhamodhar/anaconda3/lib/python3.8/site-packages/sklearn/model_selection/_validation.py:610: FitFailedWarning: Estimator fit failed. The score on this train-test partition for these parameters will be set to nan. Details: \n",
      "Traceback (most recent call last):\n",
      "  File \"/home/dhamodhar/anaconda3/lib/python3.8/site-packages/sklearn/model_selection/_validation.py\", line 593, in _fit_and_score\n",
      "    estimator.fit(X_train, y_train, **fit_params)\n",
      "  File \"/home/dhamodhar/anaconda3/lib/python3.8/site-packages/sklearn/linear_model/_logistic.py\", line 1306, in fit\n",
      "    solver = _check_solver(self.solver, self.penalty, self.dual)\n",
      "  File \"/home/dhamodhar/anaconda3/lib/python3.8/site-packages/sklearn/linear_model/_logistic.py\", line 454, in _check_solver\n",
      "    raise ValueError(\n",
      "ValueError: penalty='none' is not supported for the liblinear solver\n",
      "\n",
      "  warnings.warn(\"Estimator fit failed. The score on this train-test\"\n",
      "/home/dhamodhar/anaconda3/lib/python3.8/site-packages/sklearn/model_selection/_validation.py:610: FitFailedWarning: Estimator fit failed. The score on this train-test partition for these parameters will be set to nan. Details: \n",
      "Traceback (most recent call last):\n",
      "  File \"/home/dhamodhar/anaconda3/lib/python3.8/site-packages/sklearn/model_selection/_validation.py\", line 593, in _fit_and_score\n",
      "    estimator.fit(X_train, y_train, **fit_params)\n",
      "  File \"/home/dhamodhar/anaconda3/lib/python3.8/site-packages/sklearn/linear_model/_logistic.py\", line 1306, in fit\n",
      "    solver = _check_solver(self.solver, self.penalty, self.dual)\n",
      "  File \"/home/dhamodhar/anaconda3/lib/python3.8/site-packages/sklearn/linear_model/_logistic.py\", line 454, in _check_solver\n",
      "    raise ValueError(\n",
      "ValueError: penalty='none' is not supported for the liblinear solver\n",
      "\n",
      "  warnings.warn(\"Estimator fit failed. The score on this train-test\"\n",
      "/home/dhamodhar/anaconda3/lib/python3.8/site-packages/sklearn/model_selection/_validation.py:610: FitFailedWarning: Estimator fit failed. The score on this train-test partition for these parameters will be set to nan. Details: \n",
      "Traceback (most recent call last):\n",
      "  File \"/home/dhamodhar/anaconda3/lib/python3.8/site-packages/sklearn/model_selection/_validation.py\", line 593, in _fit_and_score\n",
      "    estimator.fit(X_train, y_train, **fit_params)\n",
      "  File \"/home/dhamodhar/anaconda3/lib/python3.8/site-packages/sklearn/linear_model/_logistic.py\", line 1306, in fit\n",
      "    solver = _check_solver(self.solver, self.penalty, self.dual)\n",
      "  File \"/home/dhamodhar/anaconda3/lib/python3.8/site-packages/sklearn/linear_model/_logistic.py\", line 454, in _check_solver\n",
      "    raise ValueError(\n",
      "ValueError: penalty='none' is not supported for the liblinear solver\n",
      "\n",
      "  warnings.warn(\"Estimator fit failed. The score on this train-test\"\n",
      "/home/dhamodhar/anaconda3/lib/python3.8/site-packages/sklearn/model_selection/_validation.py:610: FitFailedWarning: Estimator fit failed. The score on this train-test partition for these parameters will be set to nan. Details: \n",
      "Traceback (most recent call last):\n",
      "  File \"/home/dhamodhar/anaconda3/lib/python3.8/site-packages/sklearn/model_selection/_validation.py\", line 593, in _fit_and_score\n",
      "    estimator.fit(X_train, y_train, **fit_params)\n",
      "  File \"/home/dhamodhar/anaconda3/lib/python3.8/site-packages/sklearn/linear_model/_logistic.py\", line 1306, in fit\n",
      "    solver = _check_solver(self.solver, self.penalty, self.dual)\n",
      "  File \"/home/dhamodhar/anaconda3/lib/python3.8/site-packages/sklearn/linear_model/_logistic.py\", line 454, in _check_solver\n",
      "    raise ValueError(\n",
      "ValueError: penalty='none' is not supported for the liblinear solver\n",
      "\n",
      "  warnings.warn(\"Estimator fit failed. The score on this train-test\"\n",
      "/home/dhamodhar/anaconda3/lib/python3.8/site-packages/sklearn/model_selection/_validation.py:610: FitFailedWarning: Estimator fit failed. The score on this train-test partition for these parameters will be set to nan. Details: \n",
      "Traceback (most recent call last):\n",
      "  File \"/home/dhamodhar/anaconda3/lib/python3.8/site-packages/sklearn/model_selection/_validation.py\", line 593, in _fit_and_score\n",
      "    estimator.fit(X_train, y_train, **fit_params)\n",
      "  File \"/home/dhamodhar/anaconda3/lib/python3.8/site-packages/sklearn/linear_model/_logistic.py\", line 1306, in fit\n",
      "    solver = _check_solver(self.solver, self.penalty, self.dual)\n",
      "  File \"/home/dhamodhar/anaconda3/lib/python3.8/site-packages/sklearn/linear_model/_logistic.py\", line 454, in _check_solver\n",
      "    raise ValueError(\n",
      "ValueError: penalty='none' is not supported for the liblinear solver\n",
      "\n",
      "  warnings.warn(\"Estimator fit failed. The score on this train-test\"\n",
      "/home/dhamodhar/anaconda3/lib/python3.8/site-packages/sklearn/model_selection/_validation.py:610: FitFailedWarning: Estimator fit failed. The score on this train-test partition for these parameters will be set to nan. Details: \n",
      "Traceback (most recent call last):\n",
      "  File \"/home/dhamodhar/anaconda3/lib/python3.8/site-packages/sklearn/model_selection/_validation.py\", line 593, in _fit_and_score\n",
      "    estimator.fit(X_train, y_train, **fit_params)\n",
      "  File \"/home/dhamodhar/anaconda3/lib/python3.8/site-packages/sklearn/linear_model/_logistic.py\", line 1306, in fit\n",
      "    solver = _check_solver(self.solver, self.penalty, self.dual)\n",
      "  File \"/home/dhamodhar/anaconda3/lib/python3.8/site-packages/sklearn/linear_model/_logistic.py\", line 443, in _check_solver\n",
      "    raise ValueError(\"Solver %s supports only 'l2' or 'none' penalties, \"\n",
      "ValueError: Solver newton-cg supports only 'l2' or 'none' penalties, got l1 penalty.\n",
      "\n",
      "  warnings.warn(\"Estimator fit failed. The score on this train-test\"\n",
      "/home/dhamodhar/anaconda3/lib/python3.8/site-packages/sklearn/model_selection/_validation.py:610: FitFailedWarning: Estimator fit failed. The score on this train-test partition for these parameters will be set to nan. Details: \n",
      "Traceback (most recent call last):\n",
      "  File \"/home/dhamodhar/anaconda3/lib/python3.8/site-packages/sklearn/model_selection/_validation.py\", line 593, in _fit_and_score\n",
      "    estimator.fit(X_train, y_train, **fit_params)\n",
      "  File \"/home/dhamodhar/anaconda3/lib/python3.8/site-packages/sklearn/linear_model/_logistic.py\", line 1306, in fit\n",
      "    solver = _check_solver(self.solver, self.penalty, self.dual)\n",
      "  File \"/home/dhamodhar/anaconda3/lib/python3.8/site-packages/sklearn/linear_model/_logistic.py\", line 443, in _check_solver\n",
      "    raise ValueError(\"Solver %s supports only 'l2' or 'none' penalties, \"\n",
      "ValueError: Solver newton-cg supports only 'l2' or 'none' penalties, got l1 penalty.\n",
      "\n",
      "  warnings.warn(\"Estimator fit failed. The score on this train-test\"\n",
      "/home/dhamodhar/anaconda3/lib/python3.8/site-packages/sklearn/model_selection/_validation.py:610: FitFailedWarning: Estimator fit failed. The score on this train-test partition for these parameters will be set to nan. Details: \n",
      "Traceback (most recent call last):\n",
      "  File \"/home/dhamodhar/anaconda3/lib/python3.8/site-packages/sklearn/model_selection/_validation.py\", line 593, in _fit_and_score\n",
      "    estimator.fit(X_train, y_train, **fit_params)\n",
      "  File \"/home/dhamodhar/anaconda3/lib/python3.8/site-packages/sklearn/linear_model/_logistic.py\", line 1306, in fit\n",
      "    solver = _check_solver(self.solver, self.penalty, self.dual)\n",
      "  File \"/home/dhamodhar/anaconda3/lib/python3.8/site-packages/sklearn/linear_model/_logistic.py\", line 443, in _check_solver\n",
      "    raise ValueError(\"Solver %s supports only 'l2' or 'none' penalties, \"\n",
      "ValueError: Solver newton-cg supports only 'l2' or 'none' penalties, got l1 penalty.\n",
      "\n",
      "  warnings.warn(\"Estimator fit failed. The score on this train-test\"\n",
      "/home/dhamodhar/anaconda3/lib/python3.8/site-packages/sklearn/model_selection/_validation.py:610: FitFailedWarning: Estimator fit failed. The score on this train-test partition for these parameters will be set to nan. Details: \n",
      "Traceback (most recent call last):\n",
      "  File \"/home/dhamodhar/anaconda3/lib/python3.8/site-packages/sklearn/model_selection/_validation.py\", line 593, in _fit_and_score\n",
      "    estimator.fit(X_train, y_train, **fit_params)\n",
      "  File \"/home/dhamodhar/anaconda3/lib/python3.8/site-packages/sklearn/linear_model/_logistic.py\", line 1306, in fit\n",
      "    solver = _check_solver(self.solver, self.penalty, self.dual)\n",
      "  File \"/home/dhamodhar/anaconda3/lib/python3.8/site-packages/sklearn/linear_model/_logistic.py\", line 443, in _check_solver\n",
      "    raise ValueError(\"Solver %s supports only 'l2' or 'none' penalties, \"\n",
      "ValueError: Solver newton-cg supports only 'l2' or 'none' penalties, got l1 penalty.\n",
      "\n",
      "  warnings.warn(\"Estimator fit failed. The score on this train-test\"\n",
      "/home/dhamodhar/anaconda3/lib/python3.8/site-packages/sklearn/model_selection/_validation.py:610: FitFailedWarning: Estimator fit failed. The score on this train-test partition for these parameters will be set to nan. Details: \n",
      "Traceback (most recent call last):\n",
      "  File \"/home/dhamodhar/anaconda3/lib/python3.8/site-packages/sklearn/model_selection/_validation.py\", line 593, in _fit_and_score\n",
      "    estimator.fit(X_train, y_train, **fit_params)\n",
      "  File \"/home/dhamodhar/anaconda3/lib/python3.8/site-packages/sklearn/linear_model/_logistic.py\", line 1306, in fit\n",
      "    solver = _check_solver(self.solver, self.penalty, self.dual)\n",
      "  File \"/home/dhamodhar/anaconda3/lib/python3.8/site-packages/sklearn/linear_model/_logistic.py\", line 443, in _check_solver\n",
      "    raise ValueError(\"Solver %s supports only 'l2' or 'none' penalties, \"\n",
      "ValueError: Solver newton-cg supports only 'l2' or 'none' penalties, got l1 penalty.\n",
      "\n",
      "  warnings.warn(\"Estimator fit failed. The score on this train-test\"\n",
      "/home/dhamodhar/anaconda3/lib/python3.8/site-packages/sklearn/model_selection/_validation.py:610: FitFailedWarning: Estimator fit failed. The score on this train-test partition for these parameters will be set to nan. Details: \n",
      "Traceback (most recent call last):\n",
      "  File \"/home/dhamodhar/anaconda3/lib/python3.8/site-packages/sklearn/model_selection/_validation.py\", line 593, in _fit_and_score\n",
      "    estimator.fit(X_train, y_train, **fit_params)\n",
      "  File \"/home/dhamodhar/anaconda3/lib/python3.8/site-packages/sklearn/linear_model/_logistic.py\", line 1306, in fit\n",
      "    solver = _check_solver(self.solver, self.penalty, self.dual)\n",
      "  File \"/home/dhamodhar/anaconda3/lib/python3.8/site-packages/sklearn/linear_model/_logistic.py\", line 443, in _check_solver\n",
      "    raise ValueError(\"Solver %s supports only 'l2' or 'none' penalties, \"\n",
      "ValueError: Solver lbfgs supports only 'l2' or 'none' penalties, got l1 penalty.\n",
      "\n",
      "  warnings.warn(\"Estimator fit failed. The score on this train-test\"\n",
      "/home/dhamodhar/anaconda3/lib/python3.8/site-packages/sklearn/model_selection/_validation.py:610: FitFailedWarning: Estimator fit failed. The score on this train-test partition for these parameters will be set to nan. Details: \n",
      "Traceback (most recent call last):\n",
      "  File \"/home/dhamodhar/anaconda3/lib/python3.8/site-packages/sklearn/model_selection/_validation.py\", line 593, in _fit_and_score\n",
      "    estimator.fit(X_train, y_train, **fit_params)\n",
      "  File \"/home/dhamodhar/anaconda3/lib/python3.8/site-packages/sklearn/linear_model/_logistic.py\", line 1306, in fit\n",
      "    solver = _check_solver(self.solver, self.penalty, self.dual)\n",
      "  File \"/home/dhamodhar/anaconda3/lib/python3.8/site-packages/sklearn/linear_model/_logistic.py\", line 443, in _check_solver\n",
      "    raise ValueError(\"Solver %s supports only 'l2' or 'none' penalties, \"\n",
      "ValueError: Solver lbfgs supports only 'l2' or 'none' penalties, got l1 penalty.\n",
      "\n",
      "  warnings.warn(\"Estimator fit failed. The score on this train-test\"\n",
      "/home/dhamodhar/anaconda3/lib/python3.8/site-packages/sklearn/model_selection/_validation.py:610: FitFailedWarning: Estimator fit failed. The score on this train-test partition for these parameters will be set to nan. Details: \n",
      "Traceback (most recent call last):\n",
      "  File \"/home/dhamodhar/anaconda3/lib/python3.8/site-packages/sklearn/model_selection/_validation.py\", line 593, in _fit_and_score\n",
      "    estimator.fit(X_train, y_train, **fit_params)\n",
      "  File \"/home/dhamodhar/anaconda3/lib/python3.8/site-packages/sklearn/linear_model/_logistic.py\", line 1306, in fit\n",
      "    solver = _check_solver(self.solver, self.penalty, self.dual)\n",
      "  File \"/home/dhamodhar/anaconda3/lib/python3.8/site-packages/sklearn/linear_model/_logistic.py\", line 443, in _check_solver\n",
      "    raise ValueError(\"Solver %s supports only 'l2' or 'none' penalties, \"\n",
      "ValueError: Solver lbfgs supports only 'l2' or 'none' penalties, got l1 penalty.\n",
      "\n",
      "  warnings.warn(\"Estimator fit failed. The score on this train-test\"\n",
      "/home/dhamodhar/anaconda3/lib/python3.8/site-packages/sklearn/model_selection/_validation.py:610: FitFailedWarning: Estimator fit failed. The score on this train-test partition for these parameters will be set to nan. Details: \n",
      "Traceback (most recent call last):\n",
      "  File \"/home/dhamodhar/anaconda3/lib/python3.8/site-packages/sklearn/model_selection/_validation.py\", line 593, in _fit_and_score\n",
      "    estimator.fit(X_train, y_train, **fit_params)\n",
      "  File \"/home/dhamodhar/anaconda3/lib/python3.8/site-packages/sklearn/linear_model/_logistic.py\", line 1306, in fit\n",
      "    solver = _check_solver(self.solver, self.penalty, self.dual)\n",
      "  File \"/home/dhamodhar/anaconda3/lib/python3.8/site-packages/sklearn/linear_model/_logistic.py\", line 443, in _check_solver\n",
      "    raise ValueError(\"Solver %s supports only 'l2' or 'none' penalties, \"\n",
      "ValueError: Solver lbfgs supports only 'l2' or 'none' penalties, got l1 penalty.\n",
      "\n",
      "  warnings.warn(\"Estimator fit failed. The score on this train-test\"\n",
      "/home/dhamodhar/anaconda3/lib/python3.8/site-packages/sklearn/model_selection/_validation.py:610: FitFailedWarning: Estimator fit failed. The score on this train-test partition for these parameters will be set to nan. Details: \n",
      "Traceback (most recent call last):\n",
      "  File \"/home/dhamodhar/anaconda3/lib/python3.8/site-packages/sklearn/model_selection/_validation.py\", line 593, in _fit_and_score\n",
      "    estimator.fit(X_train, y_train, **fit_params)\n",
      "  File \"/home/dhamodhar/anaconda3/lib/python3.8/site-packages/sklearn/linear_model/_logistic.py\", line 1306, in fit\n",
      "    solver = _check_solver(self.solver, self.penalty, self.dual)\n",
      "  File \"/home/dhamodhar/anaconda3/lib/python3.8/site-packages/sklearn/linear_model/_logistic.py\", line 443, in _check_solver\n",
      "    raise ValueError(\"Solver %s supports only 'l2' or 'none' penalties, \"\n",
      "ValueError: Solver lbfgs supports only 'l2' or 'none' penalties, got l1 penalty.\n",
      "\n",
      "  warnings.warn(\"Estimator fit failed. The score on this train-test\"\n"
     ]
    },
    {
     "name": "stderr",
     "output_type": "stream",
     "text": [
      "/home/dhamodhar/anaconda3/lib/python3.8/site-packages/sklearn/model_selection/_validation.py:610: FitFailedWarning: Estimator fit failed. The score on this train-test partition for these parameters will be set to nan. Details: \n",
      "Traceback (most recent call last):\n",
      "  File \"/home/dhamodhar/anaconda3/lib/python3.8/site-packages/sklearn/model_selection/_validation.py\", line 593, in _fit_and_score\n",
      "    estimator.fit(X_train, y_train, **fit_params)\n",
      "  File \"/home/dhamodhar/anaconda3/lib/python3.8/site-packages/sklearn/linear_model/_logistic.py\", line 1306, in fit\n",
      "    solver = _check_solver(self.solver, self.penalty, self.dual)\n",
      "  File \"/home/dhamodhar/anaconda3/lib/python3.8/site-packages/sklearn/linear_model/_logistic.py\", line 443, in _check_solver\n",
      "    raise ValueError(\"Solver %s supports only 'l2' or 'none' penalties, \"\n",
      "ValueError: Solver newton-cg supports only 'l2' or 'none' penalties, got elasticnet penalty.\n",
      "\n",
      "  warnings.warn(\"Estimator fit failed. The score on this train-test\"\n",
      "/home/dhamodhar/anaconda3/lib/python3.8/site-packages/sklearn/model_selection/_validation.py:610: FitFailedWarning: Estimator fit failed. The score on this train-test partition for these parameters will be set to nan. Details: \n",
      "Traceback (most recent call last):\n",
      "  File \"/home/dhamodhar/anaconda3/lib/python3.8/site-packages/sklearn/model_selection/_validation.py\", line 593, in _fit_and_score\n",
      "    estimator.fit(X_train, y_train, **fit_params)\n",
      "  File \"/home/dhamodhar/anaconda3/lib/python3.8/site-packages/sklearn/linear_model/_logistic.py\", line 1306, in fit\n",
      "    solver = _check_solver(self.solver, self.penalty, self.dual)\n",
      "  File \"/home/dhamodhar/anaconda3/lib/python3.8/site-packages/sklearn/linear_model/_logistic.py\", line 443, in _check_solver\n",
      "    raise ValueError(\"Solver %s supports only 'l2' or 'none' penalties, \"\n",
      "ValueError: Solver newton-cg supports only 'l2' or 'none' penalties, got elasticnet penalty.\n",
      "\n",
      "  warnings.warn(\"Estimator fit failed. The score on this train-test\"\n",
      "/home/dhamodhar/anaconda3/lib/python3.8/site-packages/sklearn/model_selection/_validation.py:610: FitFailedWarning: Estimator fit failed. The score on this train-test partition for these parameters will be set to nan. Details: \n",
      "Traceback (most recent call last):\n",
      "  File \"/home/dhamodhar/anaconda3/lib/python3.8/site-packages/sklearn/model_selection/_validation.py\", line 593, in _fit_and_score\n",
      "    estimator.fit(X_train, y_train, **fit_params)\n",
      "  File \"/home/dhamodhar/anaconda3/lib/python3.8/site-packages/sklearn/linear_model/_logistic.py\", line 1306, in fit\n",
      "    solver = _check_solver(self.solver, self.penalty, self.dual)\n",
      "  File \"/home/dhamodhar/anaconda3/lib/python3.8/site-packages/sklearn/linear_model/_logistic.py\", line 443, in _check_solver\n",
      "    raise ValueError(\"Solver %s supports only 'l2' or 'none' penalties, \"\n",
      "ValueError: Solver newton-cg supports only 'l2' or 'none' penalties, got elasticnet penalty.\n",
      "\n",
      "  warnings.warn(\"Estimator fit failed. The score on this train-test\"\n",
      "/home/dhamodhar/anaconda3/lib/python3.8/site-packages/sklearn/model_selection/_validation.py:610: FitFailedWarning: Estimator fit failed. The score on this train-test partition for these parameters will be set to nan. Details: \n",
      "Traceback (most recent call last):\n",
      "  File \"/home/dhamodhar/anaconda3/lib/python3.8/site-packages/sklearn/model_selection/_validation.py\", line 593, in _fit_and_score\n",
      "    estimator.fit(X_train, y_train, **fit_params)\n",
      "  File \"/home/dhamodhar/anaconda3/lib/python3.8/site-packages/sklearn/linear_model/_logistic.py\", line 1306, in fit\n",
      "    solver = _check_solver(self.solver, self.penalty, self.dual)\n",
      "  File \"/home/dhamodhar/anaconda3/lib/python3.8/site-packages/sklearn/linear_model/_logistic.py\", line 443, in _check_solver\n",
      "    raise ValueError(\"Solver %s supports only 'l2' or 'none' penalties, \"\n",
      "ValueError: Solver newton-cg supports only 'l2' or 'none' penalties, got elasticnet penalty.\n",
      "\n",
      "  warnings.warn(\"Estimator fit failed. The score on this train-test\"\n",
      "/home/dhamodhar/anaconda3/lib/python3.8/site-packages/sklearn/model_selection/_validation.py:610: FitFailedWarning: Estimator fit failed. The score on this train-test partition for these parameters will be set to nan. Details: \n",
      "Traceback (most recent call last):\n",
      "  File \"/home/dhamodhar/anaconda3/lib/python3.8/site-packages/sklearn/model_selection/_validation.py\", line 593, in _fit_and_score\n",
      "    estimator.fit(X_train, y_train, **fit_params)\n",
      "  File \"/home/dhamodhar/anaconda3/lib/python3.8/site-packages/sklearn/linear_model/_logistic.py\", line 1306, in fit\n",
      "    solver = _check_solver(self.solver, self.penalty, self.dual)\n",
      "  File \"/home/dhamodhar/anaconda3/lib/python3.8/site-packages/sklearn/linear_model/_logistic.py\", line 443, in _check_solver\n",
      "    raise ValueError(\"Solver %s supports only 'l2' or 'none' penalties, \"\n",
      "ValueError: Solver newton-cg supports only 'l2' or 'none' penalties, got elasticnet penalty.\n",
      "\n",
      "  warnings.warn(\"Estimator fit failed. The score on this train-test\"\n",
      "/home/dhamodhar/anaconda3/lib/python3.8/site-packages/sklearn/model_selection/_validation.py:610: FitFailedWarning: Estimator fit failed. The score on this train-test partition for these parameters will be set to nan. Details: \n",
      "Traceback (most recent call last):\n",
      "  File \"/home/dhamodhar/anaconda3/lib/python3.8/site-packages/sklearn/model_selection/_validation.py\", line 593, in _fit_and_score\n",
      "    estimator.fit(X_train, y_train, **fit_params)\n",
      "  File \"/home/dhamodhar/anaconda3/lib/python3.8/site-packages/sklearn/linear_model/_logistic.py\", line 1306, in fit\n",
      "    solver = _check_solver(self.solver, self.penalty, self.dual)\n",
      "  File \"/home/dhamodhar/anaconda3/lib/python3.8/site-packages/sklearn/linear_model/_logistic.py\", line 443, in _check_solver\n",
      "    raise ValueError(\"Solver %s supports only 'l2' or 'none' penalties, \"\n",
      "ValueError: Solver lbfgs supports only 'l2' or 'none' penalties, got elasticnet penalty.\n",
      "\n",
      "  warnings.warn(\"Estimator fit failed. The score on this train-test\"\n",
      "/home/dhamodhar/anaconda3/lib/python3.8/site-packages/sklearn/model_selection/_validation.py:610: FitFailedWarning: Estimator fit failed. The score on this train-test partition for these parameters will be set to nan. Details: \n",
      "Traceback (most recent call last):\n",
      "  File \"/home/dhamodhar/anaconda3/lib/python3.8/site-packages/sklearn/model_selection/_validation.py\", line 593, in _fit_and_score\n",
      "    estimator.fit(X_train, y_train, **fit_params)\n",
      "  File \"/home/dhamodhar/anaconda3/lib/python3.8/site-packages/sklearn/linear_model/_logistic.py\", line 1306, in fit\n",
      "    solver = _check_solver(self.solver, self.penalty, self.dual)\n",
      "  File \"/home/dhamodhar/anaconda3/lib/python3.8/site-packages/sklearn/linear_model/_logistic.py\", line 443, in _check_solver\n",
      "    raise ValueError(\"Solver %s supports only 'l2' or 'none' penalties, \"\n",
      "ValueError: Solver lbfgs supports only 'l2' or 'none' penalties, got elasticnet penalty.\n",
      "\n",
      "  warnings.warn(\"Estimator fit failed. The score on this train-test\"\n",
      "/home/dhamodhar/anaconda3/lib/python3.8/site-packages/sklearn/model_selection/_validation.py:610: FitFailedWarning: Estimator fit failed. The score on this train-test partition for these parameters will be set to nan. Details: \n",
      "Traceback (most recent call last):\n",
      "  File \"/home/dhamodhar/anaconda3/lib/python3.8/site-packages/sklearn/model_selection/_validation.py\", line 593, in _fit_and_score\n",
      "    estimator.fit(X_train, y_train, **fit_params)\n",
      "  File \"/home/dhamodhar/anaconda3/lib/python3.8/site-packages/sklearn/linear_model/_logistic.py\", line 1306, in fit\n",
      "    solver = _check_solver(self.solver, self.penalty, self.dual)\n",
      "  File \"/home/dhamodhar/anaconda3/lib/python3.8/site-packages/sklearn/linear_model/_logistic.py\", line 443, in _check_solver\n",
      "    raise ValueError(\"Solver %s supports only 'l2' or 'none' penalties, \"\n",
      "ValueError: Solver lbfgs supports only 'l2' or 'none' penalties, got elasticnet penalty.\n",
      "\n",
      "  warnings.warn(\"Estimator fit failed. The score on this train-test\"\n",
      "/home/dhamodhar/anaconda3/lib/python3.8/site-packages/sklearn/model_selection/_validation.py:610: FitFailedWarning: Estimator fit failed. The score on this train-test partition for these parameters will be set to nan. Details: \n",
      "Traceback (most recent call last):\n",
      "  File \"/home/dhamodhar/anaconda3/lib/python3.8/site-packages/sklearn/model_selection/_validation.py\", line 593, in _fit_and_score\n",
      "    estimator.fit(X_train, y_train, **fit_params)\n",
      "  File \"/home/dhamodhar/anaconda3/lib/python3.8/site-packages/sklearn/linear_model/_logistic.py\", line 1306, in fit\n",
      "    solver = _check_solver(self.solver, self.penalty, self.dual)\n",
      "  File \"/home/dhamodhar/anaconda3/lib/python3.8/site-packages/sklearn/linear_model/_logistic.py\", line 443, in _check_solver\n",
      "    raise ValueError(\"Solver %s supports only 'l2' or 'none' penalties, \"\n",
      "ValueError: Solver lbfgs supports only 'l2' or 'none' penalties, got elasticnet penalty.\n",
      "\n",
      "  warnings.warn(\"Estimator fit failed. The score on this train-test\"\n",
      "/home/dhamodhar/anaconda3/lib/python3.8/site-packages/sklearn/model_selection/_validation.py:610: FitFailedWarning: Estimator fit failed. The score on this train-test partition for these parameters will be set to nan. Details: \n",
      "Traceback (most recent call last):\n",
      "  File \"/home/dhamodhar/anaconda3/lib/python3.8/site-packages/sklearn/model_selection/_validation.py\", line 593, in _fit_and_score\n",
      "    estimator.fit(X_train, y_train, **fit_params)\n",
      "  File \"/home/dhamodhar/anaconda3/lib/python3.8/site-packages/sklearn/linear_model/_logistic.py\", line 1306, in fit\n",
      "    solver = _check_solver(self.solver, self.penalty, self.dual)\n",
      "  File \"/home/dhamodhar/anaconda3/lib/python3.8/site-packages/sklearn/linear_model/_logistic.py\", line 443, in _check_solver\n",
      "    raise ValueError(\"Solver %s supports only 'l2' or 'none' penalties, \"\n",
      "ValueError: Solver lbfgs supports only 'l2' or 'none' penalties, got elasticnet penalty.\n",
      "\n",
      "  warnings.warn(\"Estimator fit failed. The score on this train-test\"\n",
      "/home/dhamodhar/anaconda3/lib/python3.8/site-packages/sklearn/model_selection/_validation.py:610: FitFailedWarning: Estimator fit failed. The score on this train-test partition for these parameters will be set to nan. Details: \n",
      "Traceback (most recent call last):\n",
      "  File \"/home/dhamodhar/anaconda3/lib/python3.8/site-packages/sklearn/model_selection/_validation.py\", line 593, in _fit_and_score\n",
      "    estimator.fit(X_train, y_train, **fit_params)\n",
      "  File \"/home/dhamodhar/anaconda3/lib/python3.8/site-packages/sklearn/linear_model/_logistic.py\", line 1306, in fit\n",
      "    solver = _check_solver(self.solver, self.penalty, self.dual)\n",
      "  File \"/home/dhamodhar/anaconda3/lib/python3.8/site-packages/sklearn/linear_model/_logistic.py\", line 450, in _check_solver\n",
      "    raise ValueError(\"Only 'saga' solver supports elasticnet penalty,\"\n",
      "ValueError: Only 'saga' solver supports elasticnet penalty, got solver=liblinear.\n",
      "\n",
      "  warnings.warn(\"Estimator fit failed. The score on this train-test\"\n",
      "/home/dhamodhar/anaconda3/lib/python3.8/site-packages/sklearn/model_selection/_validation.py:610: FitFailedWarning: Estimator fit failed. The score on this train-test partition for these parameters will be set to nan. Details: \n",
      "Traceback (most recent call last):\n",
      "  File \"/home/dhamodhar/anaconda3/lib/python3.8/site-packages/sklearn/model_selection/_validation.py\", line 593, in _fit_and_score\n",
      "    estimator.fit(X_train, y_train, **fit_params)\n",
      "  File \"/home/dhamodhar/anaconda3/lib/python3.8/site-packages/sklearn/linear_model/_logistic.py\", line 1306, in fit\n",
      "    solver = _check_solver(self.solver, self.penalty, self.dual)\n",
      "  File \"/home/dhamodhar/anaconda3/lib/python3.8/site-packages/sklearn/linear_model/_logistic.py\", line 450, in _check_solver\n",
      "    raise ValueError(\"Only 'saga' solver supports elasticnet penalty,\"\n",
      "ValueError: Only 'saga' solver supports elasticnet penalty, got solver=liblinear.\n",
      "\n",
      "  warnings.warn(\"Estimator fit failed. The score on this train-test\"\n",
      "/home/dhamodhar/anaconda3/lib/python3.8/site-packages/sklearn/model_selection/_validation.py:610: FitFailedWarning: Estimator fit failed. The score on this train-test partition for these parameters will be set to nan. Details: \n",
      "Traceback (most recent call last):\n",
      "  File \"/home/dhamodhar/anaconda3/lib/python3.8/site-packages/sklearn/model_selection/_validation.py\", line 593, in _fit_and_score\n",
      "    estimator.fit(X_train, y_train, **fit_params)\n",
      "  File \"/home/dhamodhar/anaconda3/lib/python3.8/site-packages/sklearn/linear_model/_logistic.py\", line 1306, in fit\n",
      "    solver = _check_solver(self.solver, self.penalty, self.dual)\n",
      "  File \"/home/dhamodhar/anaconda3/lib/python3.8/site-packages/sklearn/linear_model/_logistic.py\", line 450, in _check_solver\n",
      "    raise ValueError(\"Only 'saga' solver supports elasticnet penalty,\"\n",
      "ValueError: Only 'saga' solver supports elasticnet penalty, got solver=liblinear.\n",
      "\n",
      "  warnings.warn(\"Estimator fit failed. The score on this train-test\"\n",
      "/home/dhamodhar/anaconda3/lib/python3.8/site-packages/sklearn/model_selection/_validation.py:610: FitFailedWarning: Estimator fit failed. The score on this train-test partition for these parameters will be set to nan. Details: \n",
      "Traceback (most recent call last):\n",
      "  File \"/home/dhamodhar/anaconda3/lib/python3.8/site-packages/sklearn/model_selection/_validation.py\", line 593, in _fit_and_score\n",
      "    estimator.fit(X_train, y_train, **fit_params)\n",
      "  File \"/home/dhamodhar/anaconda3/lib/python3.8/site-packages/sklearn/linear_model/_logistic.py\", line 1306, in fit\n",
      "    solver = _check_solver(self.solver, self.penalty, self.dual)\n",
      "  File \"/home/dhamodhar/anaconda3/lib/python3.8/site-packages/sklearn/linear_model/_logistic.py\", line 450, in _check_solver\n",
      "    raise ValueError(\"Only 'saga' solver supports elasticnet penalty,\"\n",
      "ValueError: Only 'saga' solver supports elasticnet penalty, got solver=liblinear.\n",
      "\n",
      "  warnings.warn(\"Estimator fit failed. The score on this train-test\"\n",
      "/home/dhamodhar/anaconda3/lib/python3.8/site-packages/sklearn/model_selection/_validation.py:610: FitFailedWarning: Estimator fit failed. The score on this train-test partition for these parameters will be set to nan. Details: \n",
      "Traceback (most recent call last):\n",
      "  File \"/home/dhamodhar/anaconda3/lib/python3.8/site-packages/sklearn/model_selection/_validation.py\", line 593, in _fit_and_score\n",
      "    estimator.fit(X_train, y_train, **fit_params)\n",
      "  File \"/home/dhamodhar/anaconda3/lib/python3.8/site-packages/sklearn/linear_model/_logistic.py\", line 1306, in fit\n",
      "    solver = _check_solver(self.solver, self.penalty, self.dual)\n",
      "  File \"/home/dhamodhar/anaconda3/lib/python3.8/site-packages/sklearn/linear_model/_logistic.py\", line 450, in _check_solver\n",
      "    raise ValueError(\"Only 'saga' solver supports elasticnet penalty,\"\n",
      "ValueError: Only 'saga' solver supports elasticnet penalty, got solver=liblinear.\n",
      "\n",
      "  warnings.warn(\"Estimator fit failed. The score on this train-test\"\n",
      "/home/dhamodhar/anaconda3/lib/python3.8/site-packages/sklearn/linear_model/_logistic.py:1322: UserWarning: Setting penalty='none' will ignore the C and l1_ratio parameters\n",
      "  warnings.warn(\n"
     ]
    },
    {
     "name": "stderr",
     "output_type": "stream",
     "text": [
      "/home/dhamodhar/anaconda3/lib/python3.8/site-packages/sklearn/linear_model/_logistic.py:1322: UserWarning: Setting penalty='none' will ignore the C and l1_ratio parameters\n",
      "  warnings.warn(\n",
      "/home/dhamodhar/anaconda3/lib/python3.8/site-packages/sklearn/linear_model/_logistic.py:1322: UserWarning: Setting penalty='none' will ignore the C and l1_ratio parameters\n",
      "  warnings.warn(\n",
      "/home/dhamodhar/anaconda3/lib/python3.8/site-packages/sklearn/linear_model/_logistic.py:1322: UserWarning: Setting penalty='none' will ignore the C and l1_ratio parameters\n",
      "  warnings.warn(\n",
      "/home/dhamodhar/anaconda3/lib/python3.8/site-packages/sklearn/linear_model/_logistic.py:1322: UserWarning: Setting penalty='none' will ignore the C and l1_ratio parameters\n",
      "  warnings.warn(\n",
      "/home/dhamodhar/anaconda3/lib/python3.8/site-packages/sklearn/linear_model/_logistic.py:1322: UserWarning: Setting penalty='none' will ignore the C and l1_ratio parameters\n",
      "  warnings.warn(\n",
      "/home/dhamodhar/anaconda3/lib/python3.8/site-packages/sklearn/linear_model/_logistic.py:1322: UserWarning: Setting penalty='none' will ignore the C and l1_ratio parameters\n",
      "  warnings.warn(\n",
      "/home/dhamodhar/anaconda3/lib/python3.8/site-packages/sklearn/linear_model/_logistic.py:1322: UserWarning: Setting penalty='none' will ignore the C and l1_ratio parameters\n",
      "  warnings.warn(\n",
      "/home/dhamodhar/anaconda3/lib/python3.8/site-packages/sklearn/linear_model/_logistic.py:1322: UserWarning: Setting penalty='none' will ignore the C and l1_ratio parameters\n",
      "  warnings.warn(\n",
      "/home/dhamodhar/anaconda3/lib/python3.8/site-packages/sklearn/linear_model/_logistic.py:1322: UserWarning: Setting penalty='none' will ignore the C and l1_ratio parameters\n",
      "  warnings.warn(\n",
      "/home/dhamodhar/anaconda3/lib/python3.8/site-packages/sklearn/model_selection/_validation.py:610: FitFailedWarning: Estimator fit failed. The score on this train-test partition for these parameters will be set to nan. Details: \n",
      "Traceback (most recent call last):\n",
      "  File \"/home/dhamodhar/anaconda3/lib/python3.8/site-packages/sklearn/model_selection/_validation.py\", line 593, in _fit_and_score\n",
      "    estimator.fit(X_train, y_train, **fit_params)\n",
      "  File \"/home/dhamodhar/anaconda3/lib/python3.8/site-packages/sklearn/linear_model/_logistic.py\", line 1306, in fit\n",
      "    solver = _check_solver(self.solver, self.penalty, self.dual)\n",
      "  File \"/home/dhamodhar/anaconda3/lib/python3.8/site-packages/sklearn/linear_model/_logistic.py\", line 454, in _check_solver\n",
      "    raise ValueError(\n",
      "ValueError: penalty='none' is not supported for the liblinear solver\n",
      "\n",
      "  warnings.warn(\"Estimator fit failed. The score on this train-test\"\n",
      "/home/dhamodhar/anaconda3/lib/python3.8/site-packages/sklearn/model_selection/_validation.py:610: FitFailedWarning: Estimator fit failed. The score on this train-test partition for these parameters will be set to nan. Details: \n",
      "Traceback (most recent call last):\n",
      "  File \"/home/dhamodhar/anaconda3/lib/python3.8/site-packages/sklearn/model_selection/_validation.py\", line 593, in _fit_and_score\n",
      "    estimator.fit(X_train, y_train, **fit_params)\n",
      "  File \"/home/dhamodhar/anaconda3/lib/python3.8/site-packages/sklearn/linear_model/_logistic.py\", line 1306, in fit\n",
      "    solver = _check_solver(self.solver, self.penalty, self.dual)\n",
      "  File \"/home/dhamodhar/anaconda3/lib/python3.8/site-packages/sklearn/linear_model/_logistic.py\", line 454, in _check_solver\n",
      "    raise ValueError(\n",
      "ValueError: penalty='none' is not supported for the liblinear solver\n",
      "\n",
      "  warnings.warn(\"Estimator fit failed. The score on this train-test\"\n",
      "/home/dhamodhar/anaconda3/lib/python3.8/site-packages/sklearn/model_selection/_validation.py:610: FitFailedWarning: Estimator fit failed. The score on this train-test partition for these parameters will be set to nan. Details: \n",
      "Traceback (most recent call last):\n",
      "  File \"/home/dhamodhar/anaconda3/lib/python3.8/site-packages/sklearn/model_selection/_validation.py\", line 593, in _fit_and_score\n",
      "    estimator.fit(X_train, y_train, **fit_params)\n",
      "  File \"/home/dhamodhar/anaconda3/lib/python3.8/site-packages/sklearn/linear_model/_logistic.py\", line 1306, in fit\n",
      "    solver = _check_solver(self.solver, self.penalty, self.dual)\n",
      "  File \"/home/dhamodhar/anaconda3/lib/python3.8/site-packages/sklearn/linear_model/_logistic.py\", line 454, in _check_solver\n",
      "    raise ValueError(\n",
      "ValueError: penalty='none' is not supported for the liblinear solver\n",
      "\n",
      "  warnings.warn(\"Estimator fit failed. The score on this train-test\"\n",
      "/home/dhamodhar/anaconda3/lib/python3.8/site-packages/sklearn/model_selection/_validation.py:610: FitFailedWarning: Estimator fit failed. The score on this train-test partition for these parameters will be set to nan. Details: \n",
      "Traceback (most recent call last):\n",
      "  File \"/home/dhamodhar/anaconda3/lib/python3.8/site-packages/sklearn/model_selection/_validation.py\", line 593, in _fit_and_score\n",
      "    estimator.fit(X_train, y_train, **fit_params)\n",
      "  File \"/home/dhamodhar/anaconda3/lib/python3.8/site-packages/sklearn/linear_model/_logistic.py\", line 1306, in fit\n",
      "    solver = _check_solver(self.solver, self.penalty, self.dual)\n",
      "  File \"/home/dhamodhar/anaconda3/lib/python3.8/site-packages/sklearn/linear_model/_logistic.py\", line 454, in _check_solver\n",
      "    raise ValueError(\n",
      "ValueError: penalty='none' is not supported for the liblinear solver\n",
      "\n",
      "  warnings.warn(\"Estimator fit failed. The score on this train-test\"\n",
      "/home/dhamodhar/anaconda3/lib/python3.8/site-packages/sklearn/model_selection/_validation.py:610: FitFailedWarning: Estimator fit failed. The score on this train-test partition for these parameters will be set to nan. Details: \n",
      "Traceback (most recent call last):\n",
      "  File \"/home/dhamodhar/anaconda3/lib/python3.8/site-packages/sklearn/model_selection/_validation.py\", line 593, in _fit_and_score\n",
      "    estimator.fit(X_train, y_train, **fit_params)\n",
      "  File \"/home/dhamodhar/anaconda3/lib/python3.8/site-packages/sklearn/linear_model/_logistic.py\", line 1306, in fit\n",
      "    solver = _check_solver(self.solver, self.penalty, self.dual)\n",
      "  File \"/home/dhamodhar/anaconda3/lib/python3.8/site-packages/sklearn/linear_model/_logistic.py\", line 454, in _check_solver\n",
      "    raise ValueError(\n",
      "ValueError: penalty='none' is not supported for the liblinear solver\n",
      "\n",
      "  warnings.warn(\"Estimator fit failed. The score on this train-test\"\n",
      "/home/dhamodhar/anaconda3/lib/python3.8/site-packages/sklearn/model_selection/_validation.py:610: FitFailedWarning: Estimator fit failed. The score on this train-test partition for these parameters will be set to nan. Details: \n",
      "Traceback (most recent call last):\n",
      "  File \"/home/dhamodhar/anaconda3/lib/python3.8/site-packages/sklearn/model_selection/_validation.py\", line 593, in _fit_and_score\n",
      "    estimator.fit(X_train, y_train, **fit_params)\n",
      "  File \"/home/dhamodhar/anaconda3/lib/python3.8/site-packages/sklearn/linear_model/_logistic.py\", line 1306, in fit\n",
      "    solver = _check_solver(self.solver, self.penalty, self.dual)\n",
      "  File \"/home/dhamodhar/anaconda3/lib/python3.8/site-packages/sklearn/linear_model/_logistic.py\", line 443, in _check_solver\n",
      "    raise ValueError(\"Solver %s supports only 'l2' or 'none' penalties, \"\n",
      "ValueError: Solver newton-cg supports only 'l2' or 'none' penalties, got l1 penalty.\n",
      "\n",
      "  warnings.warn(\"Estimator fit failed. The score on this train-test\"\n",
      "/home/dhamodhar/anaconda3/lib/python3.8/site-packages/sklearn/model_selection/_validation.py:610: FitFailedWarning: Estimator fit failed. The score on this train-test partition for these parameters will be set to nan. Details: \n",
      "Traceback (most recent call last):\n",
      "  File \"/home/dhamodhar/anaconda3/lib/python3.8/site-packages/sklearn/model_selection/_validation.py\", line 593, in _fit_and_score\n",
      "    estimator.fit(X_train, y_train, **fit_params)\n",
      "  File \"/home/dhamodhar/anaconda3/lib/python3.8/site-packages/sklearn/linear_model/_logistic.py\", line 1306, in fit\n",
      "    solver = _check_solver(self.solver, self.penalty, self.dual)\n",
      "  File \"/home/dhamodhar/anaconda3/lib/python3.8/site-packages/sklearn/linear_model/_logistic.py\", line 443, in _check_solver\n",
      "    raise ValueError(\"Solver %s supports only 'l2' or 'none' penalties, \"\n",
      "ValueError: Solver newton-cg supports only 'l2' or 'none' penalties, got l1 penalty.\n",
      "\n",
      "  warnings.warn(\"Estimator fit failed. The score on this train-test\"\n",
      "/home/dhamodhar/anaconda3/lib/python3.8/site-packages/sklearn/model_selection/_validation.py:610: FitFailedWarning: Estimator fit failed. The score on this train-test partition for these parameters will be set to nan. Details: \n",
      "Traceback (most recent call last):\n",
      "  File \"/home/dhamodhar/anaconda3/lib/python3.8/site-packages/sklearn/model_selection/_validation.py\", line 593, in _fit_and_score\n",
      "    estimator.fit(X_train, y_train, **fit_params)\n",
      "  File \"/home/dhamodhar/anaconda3/lib/python3.8/site-packages/sklearn/linear_model/_logistic.py\", line 1306, in fit\n",
      "    solver = _check_solver(self.solver, self.penalty, self.dual)\n",
      "  File \"/home/dhamodhar/anaconda3/lib/python3.8/site-packages/sklearn/linear_model/_logistic.py\", line 443, in _check_solver\n",
      "    raise ValueError(\"Solver %s supports only 'l2' or 'none' penalties, \"\n",
      "ValueError: Solver newton-cg supports only 'l2' or 'none' penalties, got l1 penalty.\n",
      "\n",
      "  warnings.warn(\"Estimator fit failed. The score on this train-test\"\n",
      "/home/dhamodhar/anaconda3/lib/python3.8/site-packages/sklearn/model_selection/_validation.py:610: FitFailedWarning: Estimator fit failed. The score on this train-test partition for these parameters will be set to nan. Details: \n",
      "Traceback (most recent call last):\n",
      "  File \"/home/dhamodhar/anaconda3/lib/python3.8/site-packages/sklearn/model_selection/_validation.py\", line 593, in _fit_and_score\n",
      "    estimator.fit(X_train, y_train, **fit_params)\n",
      "  File \"/home/dhamodhar/anaconda3/lib/python3.8/site-packages/sklearn/linear_model/_logistic.py\", line 1306, in fit\n",
      "    solver = _check_solver(self.solver, self.penalty, self.dual)\n",
      "  File \"/home/dhamodhar/anaconda3/lib/python3.8/site-packages/sklearn/linear_model/_logistic.py\", line 443, in _check_solver\n",
      "    raise ValueError(\"Solver %s supports only 'l2' or 'none' penalties, \"\n",
      "ValueError: Solver newton-cg supports only 'l2' or 'none' penalties, got l1 penalty.\n",
      "\n",
      "  warnings.warn(\"Estimator fit failed. The score on this train-test\"\n",
      "/home/dhamodhar/anaconda3/lib/python3.8/site-packages/sklearn/model_selection/_validation.py:610: FitFailedWarning: Estimator fit failed. The score on this train-test partition for these parameters will be set to nan. Details: \n",
      "Traceback (most recent call last):\n",
      "  File \"/home/dhamodhar/anaconda3/lib/python3.8/site-packages/sklearn/model_selection/_validation.py\", line 593, in _fit_and_score\n",
      "    estimator.fit(X_train, y_train, **fit_params)\n",
      "  File \"/home/dhamodhar/anaconda3/lib/python3.8/site-packages/sklearn/linear_model/_logistic.py\", line 1306, in fit\n",
      "    solver = _check_solver(self.solver, self.penalty, self.dual)\n",
      "  File \"/home/dhamodhar/anaconda3/lib/python3.8/site-packages/sklearn/linear_model/_logistic.py\", line 443, in _check_solver\n",
      "    raise ValueError(\"Solver %s supports only 'l2' or 'none' penalties, \"\n",
      "ValueError: Solver newton-cg supports only 'l2' or 'none' penalties, got l1 penalty.\n",
      "\n",
      "  warnings.warn(\"Estimator fit failed. The score on this train-test\"\n",
      "/home/dhamodhar/anaconda3/lib/python3.8/site-packages/sklearn/model_selection/_validation.py:610: FitFailedWarning: Estimator fit failed. The score on this train-test partition for these parameters will be set to nan. Details: \n",
      "Traceback (most recent call last):\n",
      "  File \"/home/dhamodhar/anaconda3/lib/python3.8/site-packages/sklearn/model_selection/_validation.py\", line 593, in _fit_and_score\n",
      "    estimator.fit(X_train, y_train, **fit_params)\n",
      "  File \"/home/dhamodhar/anaconda3/lib/python3.8/site-packages/sklearn/linear_model/_logistic.py\", line 1306, in fit\n",
      "    solver = _check_solver(self.solver, self.penalty, self.dual)\n",
      "  File \"/home/dhamodhar/anaconda3/lib/python3.8/site-packages/sklearn/linear_model/_logistic.py\", line 443, in _check_solver\n",
      "    raise ValueError(\"Solver %s supports only 'l2' or 'none' penalties, \"\n",
      "ValueError: Solver lbfgs supports only 'l2' or 'none' penalties, got l1 penalty.\n",
      "\n",
      "  warnings.warn(\"Estimator fit failed. The score on this train-test\"\n",
      "/home/dhamodhar/anaconda3/lib/python3.8/site-packages/sklearn/model_selection/_validation.py:610: FitFailedWarning: Estimator fit failed. The score on this train-test partition for these parameters will be set to nan. Details: \n",
      "Traceback (most recent call last):\n",
      "  File \"/home/dhamodhar/anaconda3/lib/python3.8/site-packages/sklearn/model_selection/_validation.py\", line 593, in _fit_and_score\n",
      "    estimator.fit(X_train, y_train, **fit_params)\n",
      "  File \"/home/dhamodhar/anaconda3/lib/python3.8/site-packages/sklearn/linear_model/_logistic.py\", line 1306, in fit\n",
      "    solver = _check_solver(self.solver, self.penalty, self.dual)\n",
      "  File \"/home/dhamodhar/anaconda3/lib/python3.8/site-packages/sklearn/linear_model/_logistic.py\", line 443, in _check_solver\n",
      "    raise ValueError(\"Solver %s supports only 'l2' or 'none' penalties, \"\n",
      "ValueError: Solver lbfgs supports only 'l2' or 'none' penalties, got l1 penalty.\n",
      "\n",
      "  warnings.warn(\"Estimator fit failed. The score on this train-test\"\n",
      "/home/dhamodhar/anaconda3/lib/python3.8/site-packages/sklearn/model_selection/_validation.py:610: FitFailedWarning: Estimator fit failed. The score on this train-test partition for these parameters will be set to nan. Details: \n",
      "Traceback (most recent call last):\n",
      "  File \"/home/dhamodhar/anaconda3/lib/python3.8/site-packages/sklearn/model_selection/_validation.py\", line 593, in _fit_and_score\n",
      "    estimator.fit(X_train, y_train, **fit_params)\n",
      "  File \"/home/dhamodhar/anaconda3/lib/python3.8/site-packages/sklearn/linear_model/_logistic.py\", line 1306, in fit\n",
      "    solver = _check_solver(self.solver, self.penalty, self.dual)\n",
      "  File \"/home/dhamodhar/anaconda3/lib/python3.8/site-packages/sklearn/linear_model/_logistic.py\", line 443, in _check_solver\n",
      "    raise ValueError(\"Solver %s supports only 'l2' or 'none' penalties, \"\n",
      "ValueError: Solver lbfgs supports only 'l2' or 'none' penalties, got l1 penalty.\n",
      "\n",
      "  warnings.warn(\"Estimator fit failed. The score on this train-test\"\n",
      "/home/dhamodhar/anaconda3/lib/python3.8/site-packages/sklearn/model_selection/_validation.py:610: FitFailedWarning: Estimator fit failed. The score on this train-test partition for these parameters will be set to nan. Details: \n",
      "Traceback (most recent call last):\n",
      "  File \"/home/dhamodhar/anaconda3/lib/python3.8/site-packages/sklearn/model_selection/_validation.py\", line 593, in _fit_and_score\n",
      "    estimator.fit(X_train, y_train, **fit_params)\n",
      "  File \"/home/dhamodhar/anaconda3/lib/python3.8/site-packages/sklearn/linear_model/_logistic.py\", line 1306, in fit\n",
      "    solver = _check_solver(self.solver, self.penalty, self.dual)\n",
      "  File \"/home/dhamodhar/anaconda3/lib/python3.8/site-packages/sklearn/linear_model/_logistic.py\", line 443, in _check_solver\n",
      "    raise ValueError(\"Solver %s supports only 'l2' or 'none' penalties, \"\n",
      "ValueError: Solver lbfgs supports only 'l2' or 'none' penalties, got l1 penalty.\n",
      "\n",
      "  warnings.warn(\"Estimator fit failed. The score on this train-test\"\n",
      "/home/dhamodhar/anaconda3/lib/python3.8/site-packages/sklearn/model_selection/_validation.py:610: FitFailedWarning: Estimator fit failed. The score on this train-test partition for these parameters will be set to nan. Details: \n",
      "Traceback (most recent call last):\n",
      "  File \"/home/dhamodhar/anaconda3/lib/python3.8/site-packages/sklearn/model_selection/_validation.py\", line 593, in _fit_and_score\n",
      "    estimator.fit(X_train, y_train, **fit_params)\n",
      "  File \"/home/dhamodhar/anaconda3/lib/python3.8/site-packages/sklearn/linear_model/_logistic.py\", line 1306, in fit\n",
      "    solver = _check_solver(self.solver, self.penalty, self.dual)\n",
      "  File \"/home/dhamodhar/anaconda3/lib/python3.8/site-packages/sklearn/linear_model/_logistic.py\", line 443, in _check_solver\n",
      "    raise ValueError(\"Solver %s supports only 'l2' or 'none' penalties, \"\n",
      "ValueError: Solver lbfgs supports only 'l2' or 'none' penalties, got l1 penalty.\n",
      "\n",
      "  warnings.warn(\"Estimator fit failed. The score on this train-test\"\n"
     ]
    },
    {
     "name": "stderr",
     "output_type": "stream",
     "text": [
      "/home/dhamodhar/anaconda3/lib/python3.8/site-packages/sklearn/model_selection/_validation.py:610: FitFailedWarning: Estimator fit failed. The score on this train-test partition for these parameters will be set to nan. Details: \n",
      "Traceback (most recent call last):\n",
      "  File \"/home/dhamodhar/anaconda3/lib/python3.8/site-packages/sklearn/model_selection/_validation.py\", line 593, in _fit_and_score\n",
      "    estimator.fit(X_train, y_train, **fit_params)\n",
      "  File \"/home/dhamodhar/anaconda3/lib/python3.8/site-packages/sklearn/linear_model/_logistic.py\", line 1306, in fit\n",
      "    solver = _check_solver(self.solver, self.penalty, self.dual)\n",
      "  File \"/home/dhamodhar/anaconda3/lib/python3.8/site-packages/sklearn/linear_model/_logistic.py\", line 443, in _check_solver\n",
      "    raise ValueError(\"Solver %s supports only 'l2' or 'none' penalties, \"\n",
      "ValueError: Solver newton-cg supports only 'l2' or 'none' penalties, got elasticnet penalty.\n",
      "\n",
      "  warnings.warn(\"Estimator fit failed. The score on this train-test\"\n",
      "/home/dhamodhar/anaconda3/lib/python3.8/site-packages/sklearn/model_selection/_validation.py:610: FitFailedWarning: Estimator fit failed. The score on this train-test partition for these parameters will be set to nan. Details: \n",
      "Traceback (most recent call last):\n",
      "  File \"/home/dhamodhar/anaconda3/lib/python3.8/site-packages/sklearn/model_selection/_validation.py\", line 593, in _fit_and_score\n",
      "    estimator.fit(X_train, y_train, **fit_params)\n",
      "  File \"/home/dhamodhar/anaconda3/lib/python3.8/site-packages/sklearn/linear_model/_logistic.py\", line 1306, in fit\n",
      "    solver = _check_solver(self.solver, self.penalty, self.dual)\n",
      "  File \"/home/dhamodhar/anaconda3/lib/python3.8/site-packages/sklearn/linear_model/_logistic.py\", line 443, in _check_solver\n",
      "    raise ValueError(\"Solver %s supports only 'l2' or 'none' penalties, \"\n",
      "ValueError: Solver newton-cg supports only 'l2' or 'none' penalties, got elasticnet penalty.\n",
      "\n",
      "  warnings.warn(\"Estimator fit failed. The score on this train-test\"\n",
      "/home/dhamodhar/anaconda3/lib/python3.8/site-packages/sklearn/model_selection/_validation.py:610: FitFailedWarning: Estimator fit failed. The score on this train-test partition for these parameters will be set to nan. Details: \n",
      "Traceback (most recent call last):\n",
      "  File \"/home/dhamodhar/anaconda3/lib/python3.8/site-packages/sklearn/model_selection/_validation.py\", line 593, in _fit_and_score\n",
      "    estimator.fit(X_train, y_train, **fit_params)\n",
      "  File \"/home/dhamodhar/anaconda3/lib/python3.8/site-packages/sklearn/linear_model/_logistic.py\", line 1306, in fit\n",
      "    solver = _check_solver(self.solver, self.penalty, self.dual)\n",
      "  File \"/home/dhamodhar/anaconda3/lib/python3.8/site-packages/sklearn/linear_model/_logistic.py\", line 443, in _check_solver\n",
      "    raise ValueError(\"Solver %s supports only 'l2' or 'none' penalties, \"\n",
      "ValueError: Solver newton-cg supports only 'l2' or 'none' penalties, got elasticnet penalty.\n",
      "\n",
      "  warnings.warn(\"Estimator fit failed. The score on this train-test\"\n",
      "/home/dhamodhar/anaconda3/lib/python3.8/site-packages/sklearn/model_selection/_validation.py:610: FitFailedWarning: Estimator fit failed. The score on this train-test partition for these parameters will be set to nan. Details: \n",
      "Traceback (most recent call last):\n",
      "  File \"/home/dhamodhar/anaconda3/lib/python3.8/site-packages/sklearn/model_selection/_validation.py\", line 593, in _fit_and_score\n",
      "    estimator.fit(X_train, y_train, **fit_params)\n",
      "  File \"/home/dhamodhar/anaconda3/lib/python3.8/site-packages/sklearn/linear_model/_logistic.py\", line 1306, in fit\n",
      "    solver = _check_solver(self.solver, self.penalty, self.dual)\n",
      "  File \"/home/dhamodhar/anaconda3/lib/python3.8/site-packages/sklearn/linear_model/_logistic.py\", line 443, in _check_solver\n",
      "    raise ValueError(\"Solver %s supports only 'l2' or 'none' penalties, \"\n",
      "ValueError: Solver newton-cg supports only 'l2' or 'none' penalties, got elasticnet penalty.\n",
      "\n",
      "  warnings.warn(\"Estimator fit failed. The score on this train-test\"\n",
      "/home/dhamodhar/anaconda3/lib/python3.8/site-packages/sklearn/model_selection/_validation.py:610: FitFailedWarning: Estimator fit failed. The score on this train-test partition for these parameters will be set to nan. Details: \n",
      "Traceback (most recent call last):\n",
      "  File \"/home/dhamodhar/anaconda3/lib/python3.8/site-packages/sklearn/model_selection/_validation.py\", line 593, in _fit_and_score\n",
      "    estimator.fit(X_train, y_train, **fit_params)\n",
      "  File \"/home/dhamodhar/anaconda3/lib/python3.8/site-packages/sklearn/linear_model/_logistic.py\", line 1306, in fit\n",
      "    solver = _check_solver(self.solver, self.penalty, self.dual)\n",
      "  File \"/home/dhamodhar/anaconda3/lib/python3.8/site-packages/sklearn/linear_model/_logistic.py\", line 443, in _check_solver\n",
      "    raise ValueError(\"Solver %s supports only 'l2' or 'none' penalties, \"\n",
      "ValueError: Solver newton-cg supports only 'l2' or 'none' penalties, got elasticnet penalty.\n",
      "\n",
      "  warnings.warn(\"Estimator fit failed. The score on this train-test\"\n",
      "/home/dhamodhar/anaconda3/lib/python3.8/site-packages/sklearn/model_selection/_validation.py:610: FitFailedWarning: Estimator fit failed. The score on this train-test partition for these parameters will be set to nan. Details: \n",
      "Traceback (most recent call last):\n",
      "  File \"/home/dhamodhar/anaconda3/lib/python3.8/site-packages/sklearn/model_selection/_validation.py\", line 593, in _fit_and_score\n",
      "    estimator.fit(X_train, y_train, **fit_params)\n",
      "  File \"/home/dhamodhar/anaconda3/lib/python3.8/site-packages/sklearn/linear_model/_logistic.py\", line 1306, in fit\n",
      "    solver = _check_solver(self.solver, self.penalty, self.dual)\n",
      "  File \"/home/dhamodhar/anaconda3/lib/python3.8/site-packages/sklearn/linear_model/_logistic.py\", line 443, in _check_solver\n",
      "    raise ValueError(\"Solver %s supports only 'l2' or 'none' penalties, \"\n",
      "ValueError: Solver lbfgs supports only 'l2' or 'none' penalties, got elasticnet penalty.\n",
      "\n",
      "  warnings.warn(\"Estimator fit failed. The score on this train-test\"\n",
      "/home/dhamodhar/anaconda3/lib/python3.8/site-packages/sklearn/model_selection/_validation.py:610: FitFailedWarning: Estimator fit failed. The score on this train-test partition for these parameters will be set to nan. Details: \n",
      "Traceback (most recent call last):\n",
      "  File \"/home/dhamodhar/anaconda3/lib/python3.8/site-packages/sklearn/model_selection/_validation.py\", line 593, in _fit_and_score\n",
      "    estimator.fit(X_train, y_train, **fit_params)\n",
      "  File \"/home/dhamodhar/anaconda3/lib/python3.8/site-packages/sklearn/linear_model/_logistic.py\", line 1306, in fit\n",
      "    solver = _check_solver(self.solver, self.penalty, self.dual)\n",
      "  File \"/home/dhamodhar/anaconda3/lib/python3.8/site-packages/sklearn/linear_model/_logistic.py\", line 443, in _check_solver\n",
      "    raise ValueError(\"Solver %s supports only 'l2' or 'none' penalties, \"\n",
      "ValueError: Solver lbfgs supports only 'l2' or 'none' penalties, got elasticnet penalty.\n",
      "\n",
      "  warnings.warn(\"Estimator fit failed. The score on this train-test\"\n",
      "/home/dhamodhar/anaconda3/lib/python3.8/site-packages/sklearn/model_selection/_validation.py:610: FitFailedWarning: Estimator fit failed. The score on this train-test partition for these parameters will be set to nan. Details: \n",
      "Traceback (most recent call last):\n",
      "  File \"/home/dhamodhar/anaconda3/lib/python3.8/site-packages/sklearn/model_selection/_validation.py\", line 593, in _fit_and_score\n",
      "    estimator.fit(X_train, y_train, **fit_params)\n",
      "  File \"/home/dhamodhar/anaconda3/lib/python3.8/site-packages/sklearn/linear_model/_logistic.py\", line 1306, in fit\n",
      "    solver = _check_solver(self.solver, self.penalty, self.dual)\n",
      "  File \"/home/dhamodhar/anaconda3/lib/python3.8/site-packages/sklearn/linear_model/_logistic.py\", line 443, in _check_solver\n",
      "    raise ValueError(\"Solver %s supports only 'l2' or 'none' penalties, \"\n",
      "ValueError: Solver lbfgs supports only 'l2' or 'none' penalties, got elasticnet penalty.\n",
      "\n",
      "  warnings.warn(\"Estimator fit failed. The score on this train-test\"\n",
      "/home/dhamodhar/anaconda3/lib/python3.8/site-packages/sklearn/model_selection/_validation.py:610: FitFailedWarning: Estimator fit failed. The score on this train-test partition for these parameters will be set to nan. Details: \n",
      "Traceback (most recent call last):\n",
      "  File \"/home/dhamodhar/anaconda3/lib/python3.8/site-packages/sklearn/model_selection/_validation.py\", line 593, in _fit_and_score\n",
      "    estimator.fit(X_train, y_train, **fit_params)\n",
      "  File \"/home/dhamodhar/anaconda3/lib/python3.8/site-packages/sklearn/linear_model/_logistic.py\", line 1306, in fit\n",
      "    solver = _check_solver(self.solver, self.penalty, self.dual)\n",
      "  File \"/home/dhamodhar/anaconda3/lib/python3.8/site-packages/sklearn/linear_model/_logistic.py\", line 443, in _check_solver\n",
      "    raise ValueError(\"Solver %s supports only 'l2' or 'none' penalties, \"\n",
      "ValueError: Solver lbfgs supports only 'l2' or 'none' penalties, got elasticnet penalty.\n",
      "\n",
      "  warnings.warn(\"Estimator fit failed. The score on this train-test\"\n",
      "/home/dhamodhar/anaconda3/lib/python3.8/site-packages/sklearn/model_selection/_validation.py:610: FitFailedWarning: Estimator fit failed. The score on this train-test partition for these parameters will be set to nan. Details: \n",
      "Traceback (most recent call last):\n",
      "  File \"/home/dhamodhar/anaconda3/lib/python3.8/site-packages/sklearn/model_selection/_validation.py\", line 593, in _fit_and_score\n",
      "    estimator.fit(X_train, y_train, **fit_params)\n",
      "  File \"/home/dhamodhar/anaconda3/lib/python3.8/site-packages/sklearn/linear_model/_logistic.py\", line 1306, in fit\n",
      "    solver = _check_solver(self.solver, self.penalty, self.dual)\n",
      "  File \"/home/dhamodhar/anaconda3/lib/python3.8/site-packages/sklearn/linear_model/_logistic.py\", line 443, in _check_solver\n",
      "    raise ValueError(\"Solver %s supports only 'l2' or 'none' penalties, \"\n",
      "ValueError: Solver lbfgs supports only 'l2' or 'none' penalties, got elasticnet penalty.\n",
      "\n",
      "  warnings.warn(\"Estimator fit failed. The score on this train-test\"\n",
      "/home/dhamodhar/anaconda3/lib/python3.8/site-packages/sklearn/model_selection/_validation.py:610: FitFailedWarning: Estimator fit failed. The score on this train-test partition for these parameters will be set to nan. Details: \n",
      "Traceback (most recent call last):\n",
      "  File \"/home/dhamodhar/anaconda3/lib/python3.8/site-packages/sklearn/model_selection/_validation.py\", line 593, in _fit_and_score\n",
      "    estimator.fit(X_train, y_train, **fit_params)\n",
      "  File \"/home/dhamodhar/anaconda3/lib/python3.8/site-packages/sklearn/linear_model/_logistic.py\", line 1306, in fit\n",
      "    solver = _check_solver(self.solver, self.penalty, self.dual)\n",
      "  File \"/home/dhamodhar/anaconda3/lib/python3.8/site-packages/sklearn/linear_model/_logistic.py\", line 450, in _check_solver\n",
      "    raise ValueError(\"Only 'saga' solver supports elasticnet penalty,\"\n",
      "ValueError: Only 'saga' solver supports elasticnet penalty, got solver=liblinear.\n",
      "\n",
      "  warnings.warn(\"Estimator fit failed. The score on this train-test\"\n",
      "/home/dhamodhar/anaconda3/lib/python3.8/site-packages/sklearn/model_selection/_validation.py:610: FitFailedWarning: Estimator fit failed. The score on this train-test partition for these parameters will be set to nan. Details: \n",
      "Traceback (most recent call last):\n",
      "  File \"/home/dhamodhar/anaconda3/lib/python3.8/site-packages/sklearn/model_selection/_validation.py\", line 593, in _fit_and_score\n",
      "    estimator.fit(X_train, y_train, **fit_params)\n",
      "  File \"/home/dhamodhar/anaconda3/lib/python3.8/site-packages/sklearn/linear_model/_logistic.py\", line 1306, in fit\n",
      "    solver = _check_solver(self.solver, self.penalty, self.dual)\n",
      "  File \"/home/dhamodhar/anaconda3/lib/python3.8/site-packages/sklearn/linear_model/_logistic.py\", line 450, in _check_solver\n",
      "    raise ValueError(\"Only 'saga' solver supports elasticnet penalty,\"\n",
      "ValueError: Only 'saga' solver supports elasticnet penalty, got solver=liblinear.\n",
      "\n",
      "  warnings.warn(\"Estimator fit failed. The score on this train-test\"\n",
      "/home/dhamodhar/anaconda3/lib/python3.8/site-packages/sklearn/model_selection/_validation.py:610: FitFailedWarning: Estimator fit failed. The score on this train-test partition for these parameters will be set to nan. Details: \n",
      "Traceback (most recent call last):\n",
      "  File \"/home/dhamodhar/anaconda3/lib/python3.8/site-packages/sklearn/model_selection/_validation.py\", line 593, in _fit_and_score\n",
      "    estimator.fit(X_train, y_train, **fit_params)\n",
      "  File \"/home/dhamodhar/anaconda3/lib/python3.8/site-packages/sklearn/linear_model/_logistic.py\", line 1306, in fit\n",
      "    solver = _check_solver(self.solver, self.penalty, self.dual)\n",
      "  File \"/home/dhamodhar/anaconda3/lib/python3.8/site-packages/sklearn/linear_model/_logistic.py\", line 450, in _check_solver\n",
      "    raise ValueError(\"Only 'saga' solver supports elasticnet penalty,\"\n",
      "ValueError: Only 'saga' solver supports elasticnet penalty, got solver=liblinear.\n",
      "\n",
      "  warnings.warn(\"Estimator fit failed. The score on this train-test\"\n",
      "/home/dhamodhar/anaconda3/lib/python3.8/site-packages/sklearn/model_selection/_validation.py:610: FitFailedWarning: Estimator fit failed. The score on this train-test partition for these parameters will be set to nan. Details: \n",
      "Traceback (most recent call last):\n",
      "  File \"/home/dhamodhar/anaconda3/lib/python3.8/site-packages/sklearn/model_selection/_validation.py\", line 593, in _fit_and_score\n",
      "    estimator.fit(X_train, y_train, **fit_params)\n",
      "  File \"/home/dhamodhar/anaconda3/lib/python3.8/site-packages/sklearn/linear_model/_logistic.py\", line 1306, in fit\n",
      "    solver = _check_solver(self.solver, self.penalty, self.dual)\n",
      "  File \"/home/dhamodhar/anaconda3/lib/python3.8/site-packages/sklearn/linear_model/_logistic.py\", line 450, in _check_solver\n",
      "    raise ValueError(\"Only 'saga' solver supports elasticnet penalty,\"\n",
      "ValueError: Only 'saga' solver supports elasticnet penalty, got solver=liblinear.\n",
      "\n",
      "  warnings.warn(\"Estimator fit failed. The score on this train-test\"\n",
      "/home/dhamodhar/anaconda3/lib/python3.8/site-packages/sklearn/model_selection/_validation.py:610: FitFailedWarning: Estimator fit failed. The score on this train-test partition for these parameters will be set to nan. Details: \n",
      "Traceback (most recent call last):\n",
      "  File \"/home/dhamodhar/anaconda3/lib/python3.8/site-packages/sklearn/model_selection/_validation.py\", line 593, in _fit_and_score\n",
      "    estimator.fit(X_train, y_train, **fit_params)\n",
      "  File \"/home/dhamodhar/anaconda3/lib/python3.8/site-packages/sklearn/linear_model/_logistic.py\", line 1306, in fit\n",
      "    solver = _check_solver(self.solver, self.penalty, self.dual)\n",
      "  File \"/home/dhamodhar/anaconda3/lib/python3.8/site-packages/sklearn/linear_model/_logistic.py\", line 450, in _check_solver\n",
      "    raise ValueError(\"Only 'saga' solver supports elasticnet penalty,\"\n",
      "ValueError: Only 'saga' solver supports elasticnet penalty, got solver=liblinear.\n",
      "\n",
      "  warnings.warn(\"Estimator fit failed. The score on this train-test\"\n"
     ]
    },
    {
     "name": "stderr",
     "output_type": "stream",
     "text": [
      "/home/dhamodhar/anaconda3/lib/python3.8/site-packages/sklearn/model_selection/_validation.py:610: FitFailedWarning: Estimator fit failed. The score on this train-test partition for these parameters will be set to nan. Details: \n",
      "Traceback (most recent call last):\n",
      "  File \"/home/dhamodhar/anaconda3/lib/python3.8/site-packages/sklearn/model_selection/_validation.py\", line 593, in _fit_and_score\n",
      "    estimator.fit(X_train, y_train, **fit_params)\n",
      "  File \"/home/dhamodhar/anaconda3/lib/python3.8/site-packages/sklearn/linear_model/_logistic.py\", line 1306, in fit\n",
      "    solver = _check_solver(self.solver, self.penalty, self.dual)\n",
      "  File \"/home/dhamodhar/anaconda3/lib/python3.8/site-packages/sklearn/linear_model/_logistic.py\", line 454, in _check_solver\n",
      "    raise ValueError(\n",
      "ValueError: penalty='none' is not supported for the liblinear solver\n",
      "\n",
      "  warnings.warn(\"Estimator fit failed. The score on this train-test\"\n",
      "/home/dhamodhar/anaconda3/lib/python3.8/site-packages/sklearn/model_selection/_validation.py:610: FitFailedWarning: Estimator fit failed. The score on this train-test partition for these parameters will be set to nan. Details: \n",
      "Traceback (most recent call last):\n",
      "  File \"/home/dhamodhar/anaconda3/lib/python3.8/site-packages/sklearn/model_selection/_validation.py\", line 593, in _fit_and_score\n",
      "    estimator.fit(X_train, y_train, **fit_params)\n",
      "  File \"/home/dhamodhar/anaconda3/lib/python3.8/site-packages/sklearn/linear_model/_logistic.py\", line 1306, in fit\n",
      "    solver = _check_solver(self.solver, self.penalty, self.dual)\n",
      "  File \"/home/dhamodhar/anaconda3/lib/python3.8/site-packages/sklearn/linear_model/_logistic.py\", line 454, in _check_solver\n",
      "    raise ValueError(\n",
      "ValueError: penalty='none' is not supported for the liblinear solver\n",
      "\n",
      "  warnings.warn(\"Estimator fit failed. The score on this train-test\"\n",
      "/home/dhamodhar/anaconda3/lib/python3.8/site-packages/sklearn/model_selection/_validation.py:610: FitFailedWarning: Estimator fit failed. The score on this train-test partition for these parameters will be set to nan. Details: \n",
      "Traceback (most recent call last):\n",
      "  File \"/home/dhamodhar/anaconda3/lib/python3.8/site-packages/sklearn/model_selection/_validation.py\", line 593, in _fit_and_score\n",
      "    estimator.fit(X_train, y_train, **fit_params)\n",
      "  File \"/home/dhamodhar/anaconda3/lib/python3.8/site-packages/sklearn/linear_model/_logistic.py\", line 1306, in fit\n",
      "    solver = _check_solver(self.solver, self.penalty, self.dual)\n",
      "  File \"/home/dhamodhar/anaconda3/lib/python3.8/site-packages/sklearn/linear_model/_logistic.py\", line 454, in _check_solver\n",
      "    raise ValueError(\n",
      "ValueError: penalty='none' is not supported for the liblinear solver\n",
      "\n",
      "  warnings.warn(\"Estimator fit failed. The score on this train-test\"\n",
      "/home/dhamodhar/anaconda3/lib/python3.8/site-packages/sklearn/model_selection/_validation.py:610: FitFailedWarning: Estimator fit failed. The score on this train-test partition for these parameters will be set to nan. Details: \n",
      "Traceback (most recent call last):\n",
      "  File \"/home/dhamodhar/anaconda3/lib/python3.8/site-packages/sklearn/model_selection/_validation.py\", line 593, in _fit_and_score\n",
      "    estimator.fit(X_train, y_train, **fit_params)\n",
      "  File \"/home/dhamodhar/anaconda3/lib/python3.8/site-packages/sklearn/linear_model/_logistic.py\", line 1306, in fit\n",
      "    solver = _check_solver(self.solver, self.penalty, self.dual)\n",
      "  File \"/home/dhamodhar/anaconda3/lib/python3.8/site-packages/sklearn/linear_model/_logistic.py\", line 454, in _check_solver\n",
      "    raise ValueError(\n",
      "ValueError: penalty='none' is not supported for the liblinear solver\n",
      "\n",
      "  warnings.warn(\"Estimator fit failed. The score on this train-test\"\n",
      "/home/dhamodhar/anaconda3/lib/python3.8/site-packages/sklearn/model_selection/_validation.py:610: FitFailedWarning: Estimator fit failed. The score on this train-test partition for these parameters will be set to nan. Details: \n",
      "Traceback (most recent call last):\n",
      "  File \"/home/dhamodhar/anaconda3/lib/python3.8/site-packages/sklearn/model_selection/_validation.py\", line 593, in _fit_and_score\n",
      "    estimator.fit(X_train, y_train, **fit_params)\n",
      "  File \"/home/dhamodhar/anaconda3/lib/python3.8/site-packages/sklearn/linear_model/_logistic.py\", line 1306, in fit\n",
      "    solver = _check_solver(self.solver, self.penalty, self.dual)\n",
      "  File \"/home/dhamodhar/anaconda3/lib/python3.8/site-packages/sklearn/linear_model/_logistic.py\", line 454, in _check_solver\n",
      "    raise ValueError(\n",
      "ValueError: penalty='none' is not supported for the liblinear solver\n",
      "\n",
      "  warnings.warn(\"Estimator fit failed. The score on this train-test\"\n",
      "/home/dhamodhar/anaconda3/lib/python3.8/site-packages/sklearn/model_selection/_validation.py:610: FitFailedWarning: Estimator fit failed. The score on this train-test partition for these parameters will be set to nan. Details: \n",
      "Traceback (most recent call last):\n",
      "  File \"/home/dhamodhar/anaconda3/lib/python3.8/site-packages/sklearn/model_selection/_validation.py\", line 593, in _fit_and_score\n",
      "    estimator.fit(X_train, y_train, **fit_params)\n",
      "  File \"/home/dhamodhar/anaconda3/lib/python3.8/site-packages/sklearn/linear_model/_logistic.py\", line 1306, in fit\n",
      "    solver = _check_solver(self.solver, self.penalty, self.dual)\n",
      "  File \"/home/dhamodhar/anaconda3/lib/python3.8/site-packages/sklearn/linear_model/_logistic.py\", line 443, in _check_solver\n",
      "    raise ValueError(\"Solver %s supports only 'l2' or 'none' penalties, \"\n",
      "ValueError: Solver newton-cg supports only 'l2' or 'none' penalties, got l1 penalty.\n",
      "\n",
      "  warnings.warn(\"Estimator fit failed. The score on this train-test\"\n",
      "/home/dhamodhar/anaconda3/lib/python3.8/site-packages/sklearn/model_selection/_validation.py:610: FitFailedWarning: Estimator fit failed. The score on this train-test partition for these parameters will be set to nan. Details: \n",
      "Traceback (most recent call last):\n",
      "  File \"/home/dhamodhar/anaconda3/lib/python3.8/site-packages/sklearn/model_selection/_validation.py\", line 593, in _fit_and_score\n",
      "    estimator.fit(X_train, y_train, **fit_params)\n",
      "  File \"/home/dhamodhar/anaconda3/lib/python3.8/site-packages/sklearn/linear_model/_logistic.py\", line 1306, in fit\n",
      "    solver = _check_solver(self.solver, self.penalty, self.dual)\n",
      "  File \"/home/dhamodhar/anaconda3/lib/python3.8/site-packages/sklearn/linear_model/_logistic.py\", line 443, in _check_solver\n",
      "    raise ValueError(\"Solver %s supports only 'l2' or 'none' penalties, \"\n",
      "ValueError: Solver newton-cg supports only 'l2' or 'none' penalties, got l1 penalty.\n",
      "\n",
      "  warnings.warn(\"Estimator fit failed. The score on this train-test\"\n",
      "/home/dhamodhar/anaconda3/lib/python3.8/site-packages/sklearn/model_selection/_validation.py:610: FitFailedWarning: Estimator fit failed. The score on this train-test partition for these parameters will be set to nan. Details: \n",
      "Traceback (most recent call last):\n",
      "  File \"/home/dhamodhar/anaconda3/lib/python3.8/site-packages/sklearn/model_selection/_validation.py\", line 593, in _fit_and_score\n",
      "    estimator.fit(X_train, y_train, **fit_params)\n",
      "  File \"/home/dhamodhar/anaconda3/lib/python3.8/site-packages/sklearn/linear_model/_logistic.py\", line 1306, in fit\n",
      "    solver = _check_solver(self.solver, self.penalty, self.dual)\n",
      "  File \"/home/dhamodhar/anaconda3/lib/python3.8/site-packages/sklearn/linear_model/_logistic.py\", line 443, in _check_solver\n",
      "    raise ValueError(\"Solver %s supports only 'l2' or 'none' penalties, \"\n",
      "ValueError: Solver newton-cg supports only 'l2' or 'none' penalties, got l1 penalty.\n",
      "\n",
      "  warnings.warn(\"Estimator fit failed. The score on this train-test\"\n",
      "/home/dhamodhar/anaconda3/lib/python3.8/site-packages/sklearn/model_selection/_validation.py:610: FitFailedWarning: Estimator fit failed. The score on this train-test partition for these parameters will be set to nan. Details: \n",
      "Traceback (most recent call last):\n",
      "  File \"/home/dhamodhar/anaconda3/lib/python3.8/site-packages/sklearn/model_selection/_validation.py\", line 593, in _fit_and_score\n",
      "    estimator.fit(X_train, y_train, **fit_params)\n",
      "  File \"/home/dhamodhar/anaconda3/lib/python3.8/site-packages/sklearn/linear_model/_logistic.py\", line 1306, in fit\n",
      "    solver = _check_solver(self.solver, self.penalty, self.dual)\n",
      "  File \"/home/dhamodhar/anaconda3/lib/python3.8/site-packages/sklearn/linear_model/_logistic.py\", line 443, in _check_solver\n",
      "    raise ValueError(\"Solver %s supports only 'l2' or 'none' penalties, \"\n",
      "ValueError: Solver newton-cg supports only 'l2' or 'none' penalties, got l1 penalty.\n",
      "\n",
      "  warnings.warn(\"Estimator fit failed. The score on this train-test\"\n",
      "/home/dhamodhar/anaconda3/lib/python3.8/site-packages/sklearn/model_selection/_validation.py:610: FitFailedWarning: Estimator fit failed. The score on this train-test partition for these parameters will be set to nan. Details: \n",
      "Traceback (most recent call last):\n",
      "  File \"/home/dhamodhar/anaconda3/lib/python3.8/site-packages/sklearn/model_selection/_validation.py\", line 593, in _fit_and_score\n",
      "    estimator.fit(X_train, y_train, **fit_params)\n",
      "  File \"/home/dhamodhar/anaconda3/lib/python3.8/site-packages/sklearn/linear_model/_logistic.py\", line 1306, in fit\n",
      "    solver = _check_solver(self.solver, self.penalty, self.dual)\n",
      "  File \"/home/dhamodhar/anaconda3/lib/python3.8/site-packages/sklearn/linear_model/_logistic.py\", line 443, in _check_solver\n",
      "    raise ValueError(\"Solver %s supports only 'l2' or 'none' penalties, \"\n",
      "ValueError: Solver newton-cg supports only 'l2' or 'none' penalties, got l1 penalty.\n",
      "\n",
      "  warnings.warn(\"Estimator fit failed. The score on this train-test\"\n",
      "/home/dhamodhar/anaconda3/lib/python3.8/site-packages/sklearn/model_selection/_validation.py:610: FitFailedWarning: Estimator fit failed. The score on this train-test partition for these parameters will be set to nan. Details: \n",
      "Traceback (most recent call last):\n",
      "  File \"/home/dhamodhar/anaconda3/lib/python3.8/site-packages/sklearn/model_selection/_validation.py\", line 593, in _fit_and_score\n",
      "    estimator.fit(X_train, y_train, **fit_params)\n",
      "  File \"/home/dhamodhar/anaconda3/lib/python3.8/site-packages/sklearn/linear_model/_logistic.py\", line 1306, in fit\n",
      "    solver = _check_solver(self.solver, self.penalty, self.dual)\n",
      "  File \"/home/dhamodhar/anaconda3/lib/python3.8/site-packages/sklearn/linear_model/_logistic.py\", line 443, in _check_solver\n",
      "    raise ValueError(\"Solver %s supports only 'l2' or 'none' penalties, \"\n",
      "ValueError: Solver lbfgs supports only 'l2' or 'none' penalties, got l1 penalty.\n",
      "\n",
      "  warnings.warn(\"Estimator fit failed. The score on this train-test\"\n",
      "/home/dhamodhar/anaconda3/lib/python3.8/site-packages/sklearn/model_selection/_validation.py:610: FitFailedWarning: Estimator fit failed. The score on this train-test partition for these parameters will be set to nan. Details: \n",
      "Traceback (most recent call last):\n",
      "  File \"/home/dhamodhar/anaconda3/lib/python3.8/site-packages/sklearn/model_selection/_validation.py\", line 593, in _fit_and_score\n",
      "    estimator.fit(X_train, y_train, **fit_params)\n",
      "  File \"/home/dhamodhar/anaconda3/lib/python3.8/site-packages/sklearn/linear_model/_logistic.py\", line 1306, in fit\n",
      "    solver = _check_solver(self.solver, self.penalty, self.dual)\n",
      "  File \"/home/dhamodhar/anaconda3/lib/python3.8/site-packages/sklearn/linear_model/_logistic.py\", line 443, in _check_solver\n",
      "    raise ValueError(\"Solver %s supports only 'l2' or 'none' penalties, \"\n",
      "ValueError: Solver lbfgs supports only 'l2' or 'none' penalties, got l1 penalty.\n",
      "\n",
      "  warnings.warn(\"Estimator fit failed. The score on this train-test\"\n",
      "/home/dhamodhar/anaconda3/lib/python3.8/site-packages/sklearn/model_selection/_validation.py:610: FitFailedWarning: Estimator fit failed. The score on this train-test partition for these parameters will be set to nan. Details: \n",
      "Traceback (most recent call last):\n",
      "  File \"/home/dhamodhar/anaconda3/lib/python3.8/site-packages/sklearn/model_selection/_validation.py\", line 593, in _fit_and_score\n",
      "    estimator.fit(X_train, y_train, **fit_params)\n",
      "  File \"/home/dhamodhar/anaconda3/lib/python3.8/site-packages/sklearn/linear_model/_logistic.py\", line 1306, in fit\n",
      "    solver = _check_solver(self.solver, self.penalty, self.dual)\n",
      "  File \"/home/dhamodhar/anaconda3/lib/python3.8/site-packages/sklearn/linear_model/_logistic.py\", line 443, in _check_solver\n",
      "    raise ValueError(\"Solver %s supports only 'l2' or 'none' penalties, \"\n",
      "ValueError: Solver lbfgs supports only 'l2' or 'none' penalties, got l1 penalty.\n",
      "\n",
      "  warnings.warn(\"Estimator fit failed. The score on this train-test\"\n",
      "/home/dhamodhar/anaconda3/lib/python3.8/site-packages/sklearn/model_selection/_validation.py:610: FitFailedWarning: Estimator fit failed. The score on this train-test partition for these parameters will be set to nan. Details: \n",
      "Traceback (most recent call last):\n",
      "  File \"/home/dhamodhar/anaconda3/lib/python3.8/site-packages/sklearn/model_selection/_validation.py\", line 593, in _fit_and_score\n",
      "    estimator.fit(X_train, y_train, **fit_params)\n",
      "  File \"/home/dhamodhar/anaconda3/lib/python3.8/site-packages/sklearn/linear_model/_logistic.py\", line 1306, in fit\n",
      "    solver = _check_solver(self.solver, self.penalty, self.dual)\n",
      "  File \"/home/dhamodhar/anaconda3/lib/python3.8/site-packages/sklearn/linear_model/_logistic.py\", line 443, in _check_solver\n",
      "    raise ValueError(\"Solver %s supports only 'l2' or 'none' penalties, \"\n",
      "ValueError: Solver lbfgs supports only 'l2' or 'none' penalties, got l1 penalty.\n",
      "\n",
      "  warnings.warn(\"Estimator fit failed. The score on this train-test\"\n",
      "/home/dhamodhar/anaconda3/lib/python3.8/site-packages/sklearn/model_selection/_validation.py:610: FitFailedWarning: Estimator fit failed. The score on this train-test partition for these parameters will be set to nan. Details: \n",
      "Traceback (most recent call last):\n",
      "  File \"/home/dhamodhar/anaconda3/lib/python3.8/site-packages/sklearn/model_selection/_validation.py\", line 593, in _fit_and_score\n",
      "    estimator.fit(X_train, y_train, **fit_params)\n",
      "  File \"/home/dhamodhar/anaconda3/lib/python3.8/site-packages/sklearn/linear_model/_logistic.py\", line 1306, in fit\n",
      "    solver = _check_solver(self.solver, self.penalty, self.dual)\n",
      "  File \"/home/dhamodhar/anaconda3/lib/python3.8/site-packages/sklearn/linear_model/_logistic.py\", line 443, in _check_solver\n",
      "    raise ValueError(\"Solver %s supports only 'l2' or 'none' penalties, \"\n",
      "ValueError: Solver lbfgs supports only 'l2' or 'none' penalties, got l1 penalty.\n",
      "\n",
      "  warnings.warn(\"Estimator fit failed. The score on this train-test\"\n"
     ]
    },
    {
     "name": "stderr",
     "output_type": "stream",
     "text": [
      "/home/dhamodhar/anaconda3/lib/python3.8/site-packages/sklearn/model_selection/_validation.py:610: FitFailedWarning: Estimator fit failed. The score on this train-test partition for these parameters will be set to nan. Details: \n",
      "Traceback (most recent call last):\n",
      "  File \"/home/dhamodhar/anaconda3/lib/python3.8/site-packages/sklearn/model_selection/_validation.py\", line 593, in _fit_and_score\n",
      "    estimator.fit(X_train, y_train, **fit_params)\n",
      "  File \"/home/dhamodhar/anaconda3/lib/python3.8/site-packages/sklearn/linear_model/_logistic.py\", line 1306, in fit\n",
      "    solver = _check_solver(self.solver, self.penalty, self.dual)\n",
      "  File \"/home/dhamodhar/anaconda3/lib/python3.8/site-packages/sklearn/linear_model/_logistic.py\", line 443, in _check_solver\n",
      "    raise ValueError(\"Solver %s supports only 'l2' or 'none' penalties, \"\n",
      "ValueError: Solver newton-cg supports only 'l2' or 'none' penalties, got elasticnet penalty.\n",
      "\n",
      "  warnings.warn(\"Estimator fit failed. The score on this train-test\"\n",
      "/home/dhamodhar/anaconda3/lib/python3.8/site-packages/sklearn/model_selection/_validation.py:610: FitFailedWarning: Estimator fit failed. The score on this train-test partition for these parameters will be set to nan. Details: \n",
      "Traceback (most recent call last):\n",
      "  File \"/home/dhamodhar/anaconda3/lib/python3.8/site-packages/sklearn/model_selection/_validation.py\", line 593, in _fit_and_score\n",
      "    estimator.fit(X_train, y_train, **fit_params)\n",
      "  File \"/home/dhamodhar/anaconda3/lib/python3.8/site-packages/sklearn/linear_model/_logistic.py\", line 1306, in fit\n",
      "    solver = _check_solver(self.solver, self.penalty, self.dual)\n",
      "  File \"/home/dhamodhar/anaconda3/lib/python3.8/site-packages/sklearn/linear_model/_logistic.py\", line 443, in _check_solver\n",
      "    raise ValueError(\"Solver %s supports only 'l2' or 'none' penalties, \"\n",
      "ValueError: Solver newton-cg supports only 'l2' or 'none' penalties, got elasticnet penalty.\n",
      "\n",
      "  warnings.warn(\"Estimator fit failed. The score on this train-test\"\n",
      "/home/dhamodhar/anaconda3/lib/python3.8/site-packages/sklearn/model_selection/_validation.py:610: FitFailedWarning: Estimator fit failed. The score on this train-test partition for these parameters will be set to nan. Details: \n",
      "Traceback (most recent call last):\n",
      "  File \"/home/dhamodhar/anaconda3/lib/python3.8/site-packages/sklearn/model_selection/_validation.py\", line 593, in _fit_and_score\n",
      "    estimator.fit(X_train, y_train, **fit_params)\n",
      "  File \"/home/dhamodhar/anaconda3/lib/python3.8/site-packages/sklearn/linear_model/_logistic.py\", line 1306, in fit\n",
      "    solver = _check_solver(self.solver, self.penalty, self.dual)\n",
      "  File \"/home/dhamodhar/anaconda3/lib/python3.8/site-packages/sklearn/linear_model/_logistic.py\", line 443, in _check_solver\n",
      "    raise ValueError(\"Solver %s supports only 'l2' or 'none' penalties, \"\n",
      "ValueError: Solver newton-cg supports only 'l2' or 'none' penalties, got elasticnet penalty.\n",
      "\n",
      "  warnings.warn(\"Estimator fit failed. The score on this train-test\"\n",
      "/home/dhamodhar/anaconda3/lib/python3.8/site-packages/sklearn/model_selection/_validation.py:610: FitFailedWarning: Estimator fit failed. The score on this train-test partition for these parameters will be set to nan. Details: \n",
      "Traceback (most recent call last):\n",
      "  File \"/home/dhamodhar/anaconda3/lib/python3.8/site-packages/sklearn/model_selection/_validation.py\", line 593, in _fit_and_score\n",
      "    estimator.fit(X_train, y_train, **fit_params)\n",
      "  File \"/home/dhamodhar/anaconda3/lib/python3.8/site-packages/sklearn/linear_model/_logistic.py\", line 1306, in fit\n",
      "    solver = _check_solver(self.solver, self.penalty, self.dual)\n",
      "  File \"/home/dhamodhar/anaconda3/lib/python3.8/site-packages/sklearn/linear_model/_logistic.py\", line 443, in _check_solver\n",
      "    raise ValueError(\"Solver %s supports only 'l2' or 'none' penalties, \"\n",
      "ValueError: Solver newton-cg supports only 'l2' or 'none' penalties, got elasticnet penalty.\n",
      "\n",
      "  warnings.warn(\"Estimator fit failed. The score on this train-test\"\n",
      "/home/dhamodhar/anaconda3/lib/python3.8/site-packages/sklearn/model_selection/_validation.py:610: FitFailedWarning: Estimator fit failed. The score on this train-test partition for these parameters will be set to nan. Details: \n",
      "Traceback (most recent call last):\n",
      "  File \"/home/dhamodhar/anaconda3/lib/python3.8/site-packages/sklearn/model_selection/_validation.py\", line 593, in _fit_and_score\n",
      "    estimator.fit(X_train, y_train, **fit_params)\n",
      "  File \"/home/dhamodhar/anaconda3/lib/python3.8/site-packages/sklearn/linear_model/_logistic.py\", line 1306, in fit\n",
      "    solver = _check_solver(self.solver, self.penalty, self.dual)\n",
      "  File \"/home/dhamodhar/anaconda3/lib/python3.8/site-packages/sklearn/linear_model/_logistic.py\", line 443, in _check_solver\n",
      "    raise ValueError(\"Solver %s supports only 'l2' or 'none' penalties, \"\n",
      "ValueError: Solver newton-cg supports only 'l2' or 'none' penalties, got elasticnet penalty.\n",
      "\n",
      "  warnings.warn(\"Estimator fit failed. The score on this train-test\"\n",
      "/home/dhamodhar/anaconda3/lib/python3.8/site-packages/sklearn/model_selection/_validation.py:610: FitFailedWarning: Estimator fit failed. The score on this train-test partition for these parameters will be set to nan. Details: \n",
      "Traceback (most recent call last):\n",
      "  File \"/home/dhamodhar/anaconda3/lib/python3.8/site-packages/sklearn/model_selection/_validation.py\", line 593, in _fit_and_score\n",
      "    estimator.fit(X_train, y_train, **fit_params)\n",
      "  File \"/home/dhamodhar/anaconda3/lib/python3.8/site-packages/sklearn/linear_model/_logistic.py\", line 1306, in fit\n",
      "    solver = _check_solver(self.solver, self.penalty, self.dual)\n",
      "  File \"/home/dhamodhar/anaconda3/lib/python3.8/site-packages/sklearn/linear_model/_logistic.py\", line 443, in _check_solver\n",
      "    raise ValueError(\"Solver %s supports only 'l2' or 'none' penalties, \"\n",
      "ValueError: Solver lbfgs supports only 'l2' or 'none' penalties, got elasticnet penalty.\n",
      "\n",
      "  warnings.warn(\"Estimator fit failed. The score on this train-test\"\n",
      "/home/dhamodhar/anaconda3/lib/python3.8/site-packages/sklearn/model_selection/_validation.py:610: FitFailedWarning: Estimator fit failed. The score on this train-test partition for these parameters will be set to nan. Details: \n",
      "Traceback (most recent call last):\n",
      "  File \"/home/dhamodhar/anaconda3/lib/python3.8/site-packages/sklearn/model_selection/_validation.py\", line 593, in _fit_and_score\n",
      "    estimator.fit(X_train, y_train, **fit_params)\n",
      "  File \"/home/dhamodhar/anaconda3/lib/python3.8/site-packages/sklearn/linear_model/_logistic.py\", line 1306, in fit\n",
      "    solver = _check_solver(self.solver, self.penalty, self.dual)\n",
      "  File \"/home/dhamodhar/anaconda3/lib/python3.8/site-packages/sklearn/linear_model/_logistic.py\", line 443, in _check_solver\n",
      "    raise ValueError(\"Solver %s supports only 'l2' or 'none' penalties, \"\n",
      "ValueError: Solver lbfgs supports only 'l2' or 'none' penalties, got elasticnet penalty.\n",
      "\n",
      "  warnings.warn(\"Estimator fit failed. The score on this train-test\"\n",
      "/home/dhamodhar/anaconda3/lib/python3.8/site-packages/sklearn/model_selection/_validation.py:610: FitFailedWarning: Estimator fit failed. The score on this train-test partition for these parameters will be set to nan. Details: \n",
      "Traceback (most recent call last):\n",
      "  File \"/home/dhamodhar/anaconda3/lib/python3.8/site-packages/sklearn/model_selection/_validation.py\", line 593, in _fit_and_score\n",
      "    estimator.fit(X_train, y_train, **fit_params)\n",
      "  File \"/home/dhamodhar/anaconda3/lib/python3.8/site-packages/sklearn/linear_model/_logistic.py\", line 1306, in fit\n",
      "    solver = _check_solver(self.solver, self.penalty, self.dual)\n",
      "  File \"/home/dhamodhar/anaconda3/lib/python3.8/site-packages/sklearn/linear_model/_logistic.py\", line 443, in _check_solver\n",
      "    raise ValueError(\"Solver %s supports only 'l2' or 'none' penalties, \"\n",
      "ValueError: Solver lbfgs supports only 'l2' or 'none' penalties, got elasticnet penalty.\n",
      "\n",
      "  warnings.warn(\"Estimator fit failed. The score on this train-test\"\n",
      "/home/dhamodhar/anaconda3/lib/python3.8/site-packages/sklearn/model_selection/_validation.py:610: FitFailedWarning: Estimator fit failed. The score on this train-test partition for these parameters will be set to nan. Details: \n",
      "Traceback (most recent call last):\n",
      "  File \"/home/dhamodhar/anaconda3/lib/python3.8/site-packages/sklearn/model_selection/_validation.py\", line 593, in _fit_and_score\n",
      "    estimator.fit(X_train, y_train, **fit_params)\n",
      "  File \"/home/dhamodhar/anaconda3/lib/python3.8/site-packages/sklearn/linear_model/_logistic.py\", line 1306, in fit\n",
      "    solver = _check_solver(self.solver, self.penalty, self.dual)\n",
      "  File \"/home/dhamodhar/anaconda3/lib/python3.8/site-packages/sklearn/linear_model/_logistic.py\", line 443, in _check_solver\n",
      "    raise ValueError(\"Solver %s supports only 'l2' or 'none' penalties, \"\n",
      "ValueError: Solver lbfgs supports only 'l2' or 'none' penalties, got elasticnet penalty.\n",
      "\n",
      "  warnings.warn(\"Estimator fit failed. The score on this train-test\"\n",
      "/home/dhamodhar/anaconda3/lib/python3.8/site-packages/sklearn/model_selection/_validation.py:610: FitFailedWarning: Estimator fit failed. The score on this train-test partition for these parameters will be set to nan. Details: \n",
      "Traceback (most recent call last):\n",
      "  File \"/home/dhamodhar/anaconda3/lib/python3.8/site-packages/sklearn/model_selection/_validation.py\", line 593, in _fit_and_score\n",
      "    estimator.fit(X_train, y_train, **fit_params)\n",
      "  File \"/home/dhamodhar/anaconda3/lib/python3.8/site-packages/sklearn/linear_model/_logistic.py\", line 1306, in fit\n",
      "    solver = _check_solver(self.solver, self.penalty, self.dual)\n",
      "  File \"/home/dhamodhar/anaconda3/lib/python3.8/site-packages/sklearn/linear_model/_logistic.py\", line 443, in _check_solver\n",
      "    raise ValueError(\"Solver %s supports only 'l2' or 'none' penalties, \"\n",
      "ValueError: Solver lbfgs supports only 'l2' or 'none' penalties, got elasticnet penalty.\n",
      "\n",
      "  warnings.warn(\"Estimator fit failed. The score on this train-test\"\n",
      "/home/dhamodhar/anaconda3/lib/python3.8/site-packages/sklearn/model_selection/_validation.py:610: FitFailedWarning: Estimator fit failed. The score on this train-test partition for these parameters will be set to nan. Details: \n",
      "Traceback (most recent call last):\n",
      "  File \"/home/dhamodhar/anaconda3/lib/python3.8/site-packages/sklearn/model_selection/_validation.py\", line 593, in _fit_and_score\n",
      "    estimator.fit(X_train, y_train, **fit_params)\n",
      "  File \"/home/dhamodhar/anaconda3/lib/python3.8/site-packages/sklearn/linear_model/_logistic.py\", line 1306, in fit\n",
      "    solver = _check_solver(self.solver, self.penalty, self.dual)\n",
      "  File \"/home/dhamodhar/anaconda3/lib/python3.8/site-packages/sklearn/linear_model/_logistic.py\", line 450, in _check_solver\n",
      "    raise ValueError(\"Only 'saga' solver supports elasticnet penalty,\"\n",
      "ValueError: Only 'saga' solver supports elasticnet penalty, got solver=liblinear.\n",
      "\n",
      "  warnings.warn(\"Estimator fit failed. The score on this train-test\"\n",
      "/home/dhamodhar/anaconda3/lib/python3.8/site-packages/sklearn/model_selection/_validation.py:610: FitFailedWarning: Estimator fit failed. The score on this train-test partition for these parameters will be set to nan. Details: \n",
      "Traceback (most recent call last):\n",
      "  File \"/home/dhamodhar/anaconda3/lib/python3.8/site-packages/sklearn/model_selection/_validation.py\", line 593, in _fit_and_score\n",
      "    estimator.fit(X_train, y_train, **fit_params)\n",
      "  File \"/home/dhamodhar/anaconda3/lib/python3.8/site-packages/sklearn/linear_model/_logistic.py\", line 1306, in fit\n",
      "    solver = _check_solver(self.solver, self.penalty, self.dual)\n",
      "  File \"/home/dhamodhar/anaconda3/lib/python3.8/site-packages/sklearn/linear_model/_logistic.py\", line 450, in _check_solver\n",
      "    raise ValueError(\"Only 'saga' solver supports elasticnet penalty,\"\n",
      "ValueError: Only 'saga' solver supports elasticnet penalty, got solver=liblinear.\n",
      "\n",
      "  warnings.warn(\"Estimator fit failed. The score on this train-test\"\n",
      "/home/dhamodhar/anaconda3/lib/python3.8/site-packages/sklearn/model_selection/_validation.py:610: FitFailedWarning: Estimator fit failed. The score on this train-test partition for these parameters will be set to nan. Details: \n",
      "Traceback (most recent call last):\n",
      "  File \"/home/dhamodhar/anaconda3/lib/python3.8/site-packages/sklearn/model_selection/_validation.py\", line 593, in _fit_and_score\n",
      "    estimator.fit(X_train, y_train, **fit_params)\n",
      "  File \"/home/dhamodhar/anaconda3/lib/python3.8/site-packages/sklearn/linear_model/_logistic.py\", line 1306, in fit\n",
      "    solver = _check_solver(self.solver, self.penalty, self.dual)\n",
      "  File \"/home/dhamodhar/anaconda3/lib/python3.8/site-packages/sklearn/linear_model/_logistic.py\", line 450, in _check_solver\n",
      "    raise ValueError(\"Only 'saga' solver supports elasticnet penalty,\"\n",
      "ValueError: Only 'saga' solver supports elasticnet penalty, got solver=liblinear.\n",
      "\n",
      "  warnings.warn(\"Estimator fit failed. The score on this train-test\"\n",
      "/home/dhamodhar/anaconda3/lib/python3.8/site-packages/sklearn/model_selection/_validation.py:610: FitFailedWarning: Estimator fit failed. The score on this train-test partition for these parameters will be set to nan. Details: \n",
      "Traceback (most recent call last):\n",
      "  File \"/home/dhamodhar/anaconda3/lib/python3.8/site-packages/sklearn/model_selection/_validation.py\", line 593, in _fit_and_score\n",
      "    estimator.fit(X_train, y_train, **fit_params)\n",
      "  File \"/home/dhamodhar/anaconda3/lib/python3.8/site-packages/sklearn/linear_model/_logistic.py\", line 1306, in fit\n",
      "    solver = _check_solver(self.solver, self.penalty, self.dual)\n",
      "  File \"/home/dhamodhar/anaconda3/lib/python3.8/site-packages/sklearn/linear_model/_logistic.py\", line 450, in _check_solver\n",
      "    raise ValueError(\"Only 'saga' solver supports elasticnet penalty,\"\n",
      "ValueError: Only 'saga' solver supports elasticnet penalty, got solver=liblinear.\n",
      "\n",
      "  warnings.warn(\"Estimator fit failed. The score on this train-test\"\n",
      "/home/dhamodhar/anaconda3/lib/python3.8/site-packages/sklearn/model_selection/_validation.py:610: FitFailedWarning: Estimator fit failed. The score on this train-test partition for these parameters will be set to nan. Details: \n",
      "Traceback (most recent call last):\n",
      "  File \"/home/dhamodhar/anaconda3/lib/python3.8/site-packages/sklearn/model_selection/_validation.py\", line 593, in _fit_and_score\n",
      "    estimator.fit(X_train, y_train, **fit_params)\n",
      "  File \"/home/dhamodhar/anaconda3/lib/python3.8/site-packages/sklearn/linear_model/_logistic.py\", line 1306, in fit\n",
      "    solver = _check_solver(self.solver, self.penalty, self.dual)\n",
      "  File \"/home/dhamodhar/anaconda3/lib/python3.8/site-packages/sklearn/linear_model/_logistic.py\", line 450, in _check_solver\n",
      "    raise ValueError(\"Only 'saga' solver supports elasticnet penalty,\"\n",
      "ValueError: Only 'saga' solver supports elasticnet penalty, got solver=liblinear.\n",
      "\n",
      "  warnings.warn(\"Estimator fit failed. The score on this train-test\"\n"
     ]
    },
    {
     "name": "stderr",
     "output_type": "stream",
     "text": [
      "/home/dhamodhar/anaconda3/lib/python3.8/site-packages/sklearn/model_selection/_search.py:918: UserWarning: One or more of the test scores are non-finite: [0.75073809 0.74999872        nan        nan        nan 0.78788332\n",
      " 0.77882653 0.77882653 0.77864152        nan        nan        nan\n",
      " 0.75073809 0.74999872        nan        nan        nan 0.80432665\n",
      " 0.80635856 0.80635856 0.80635856        nan        nan        nan\n",
      " 0.75073809 0.74999872        nan        nan        nan 0.80635822\n",
      " 0.80783645 0.80783645 0.80783645        nan        nan        nan]\n",
      "  warnings.warn(\n"
     ]
    },
    {
     "data": {
      "text/plain": [
       "GridSearchCV(estimator=LogisticRegression(max_iter=10000),\n",
       "             param_grid={'C': [0.1, 0.5, 1],\n",
       "                         'penalty': ['none', 'l1', 'l2', 'elasticnet'],\n",
       "                         'solver': ['newton-cg', 'lbfgs', 'liblinear']})"
      ]
     },
     "execution_count": 86,
     "metadata": {},
     "output_type": "execute_result"
    }
   ],
   "source": [
    "from sklearn.linear_model import LogisticRegression\n",
    "from sklearn.model_selection import GridSearchCV\n",
    "\n",
    "lr = LogisticRegression(max_iter = 10000)\n",
    "\n",
    "space = {}\n",
    "space['solver'] = ['newton-cg', 'lbfgs', 'liblinear']\n",
    "space['penalty'] = ['none', 'l1', 'l2', 'elasticnet']\n",
    "space['C'] = [0.1,0.5,1]\n",
    "\n",
    "#define search\n",
    "grid = GridSearchCV(lr, space)\n",
    "grid.fit(train_data_pca,train_data['label'])"
   ]
  },
  {
   "cell_type": "code",
   "execution_count": 87,
   "id": "d92c7788",
   "metadata": {},
   "outputs": [
    {
     "data": {
      "text/plain": [
       "{'C': 1, 'penalty': 'l2', 'solver': 'newton-cg'}"
      ]
     },
     "execution_count": 87,
     "metadata": {},
     "output_type": "execute_result"
    }
   ],
   "source": [
    "grid.best_params_"
   ]
  },
  {
   "cell_type": "code",
   "execution_count": 88,
   "id": "34d3fd92",
   "metadata": {},
   "outputs": [
    {
     "data": {
      "text/plain": [
       "0.807836450743553"
      ]
     },
     "execution_count": 88,
     "metadata": {},
     "output_type": "execute_result"
    }
   ],
   "source": [
    "grid.best_score_"
   ]
  },
  {
   "cell_type": "code",
   "execution_count": null,
   "id": "859ada1e",
   "metadata": {},
   "outputs": [],
   "source": [
    "test_id = pd.read_csv('test_data.csv')\n",
    "out = pd.DataFrame()\n",
    "out['id'] = test_id['id']\n",
    "out['label']= proba[:,1]\n",
    "out.to_csv('sub31.csv',index=False)"
   ]
  },
  {
   "cell_type": "markdown",
   "id": "ce2f63a9",
   "metadata": {},
   "source": [
    "#### Kaggle Public Score : 0.88352\n",
    "#### Kaggle Private Score : 0.86791"
   ]
  },
  {
   "cell_type": "markdown",
   "id": "e7b09f3c",
   "metadata": {},
   "source": [
    "### Best Private Leaderboard Score"
   ]
  },
  {
   "cell_type": "markdown",
   "id": "7e7910a3",
   "metadata": {},
   "source": [
    "#### SVM with Word2Vec vectorizer and Linear Kernal"
   ]
  },
  {
   "cell_type": "code",
   "execution_count": 89,
   "id": "6d50f167",
   "metadata": {},
   "outputs": [],
   "source": [
    "def sentense_to_vec(sentence, embeddings, dim=300):\n",
    "    vec = np.zeros((dim,), dtype=np.float32)\n",
    "    count = 0\n",
    "    for w in sentence.split():\n",
    "        if w == \" \":\n",
    "            continue\n",
    "        if w in embeddings:\n",
    "            count += 1\n",
    "            vec += embeddings[w]\n",
    "    if count == 0:\n",
    "        return vec\n",
    "    return vec/count"
   ]
  },
  {
   "cell_type": "code",
   "execution_count": 90,
   "id": "71f5af51",
   "metadata": {},
   "outputs": [],
   "source": [
    "# import gensim\n",
    "\n",
    "# encodings = gensim.models.KeyedVectors.load_word2vec_format('../../../../Downloads/GoogleNews-vectors-negative300.bin', binary=True)"
   ]
  },
  {
   "cell_type": "code",
   "execution_count": 91,
   "id": "9b1a2f5e",
   "metadata": {},
   "outputs": [],
   "source": [
    "# X1_body = train_data['body_new'].apply(lambda x : sentense_to_vec(x,encodings))\n",
    "# X2_body = test_data['body_new'].apply(lambda x : sentense_to_vec(x,encodings))\n",
    "\n",
    "# X1_url = train_data['url_new'].apply(lambda x : sentense_to_vec(x,encodings))\n",
    "# X2_url = test_data['url_new'].apply(lambda x : sentense_to_vec(x,encodings))\n",
    "\n",
    "# X1_title = train_data['title_new'].apply(lambda x : sentense_to_vec(x,encodings))\n",
    "# X2_title = test_data['title_new'].apply(lambda x : sentense_to_vec(x,encodings))"
   ]
  },
  {
   "cell_type": "code",
   "execution_count": 119,
   "id": "4966df16",
   "metadata": {},
   "outputs": [],
   "source": [
    "# X1_body = pd.DataFrame.from_dict(dict(zip(X1_body.index, X1_body.values))).T\n",
    "# X1_url = pd.DataFrame.from_dict(dict(zip(X1_url.index, X1_url.values))).T\n",
    "# X1_title = pd.DataFrame.from_dict(dict(zip(X1_title.index, X1_title.values))).T\n",
    "# X1_url= X1_url.add_suffix(\"url\")\n",
    "\n",
    "# X2_body = pd.DataFrame.from_dict(dict(zip(X2_body.index, X2_body.values))).T\n",
    "# X2_url = pd.DataFrame.from_dict(dict(zip(X2_url.index, X2_url.values))).T\n",
    "# X2_title = pd.DataFrame.from_dict(dict(zip(X2_title.index, X2_title.values))).T\n",
    "# X2_url= X2_url.add_suffix(\"url\")\n",
    "\n",
    "# numer_train_data = pd.DataFrame(numer_train_data)\n",
    "# numer_train_data = numer_train_data.add_suffix(\"_numer\")\n",
    "\n",
    "# numer_test_data = pd.DataFrame(numer_test_data)\n",
    "# numer_test_data = numer_test_data.add_suffix(\"_numer\")\n",
    "\n",
    "# word2vec_train = X1_body.join( X1_title, lsuffix=\"_title\")\n",
    "# word2vec_train = word2vec_train.join(X1_url,lsuffix=\"_url\")\n",
    "\n",
    "# word2vec_test = X2_body.join( X2_title, lsuffix=\"_title\")\n",
    "# word2vec_test = word2vec_test.join(X2_url,lsuffix=\"_url\")"
   ]
  },
  {
   "cell_type": "code",
   "execution_count": 121,
   "id": "b0f638d4",
   "metadata": {},
   "outputs": [],
   "source": [
    "# word2vec_train.to_csv('word2vec_train.csv')\n",
    "# word2vec_test.to_csv('word2vec_test.csv')"
   ]
  },
  {
   "cell_type": "code",
   "execution_count": 122,
   "id": "543a5690",
   "metadata": {},
   "outputs": [],
   "source": [
    "word2vec_train = pd.read_csv('word2vec_train.csv')\n",
    "word2vec_test = pd.read_csv('word2vec_test.csv')"
   ]
  },
  {
   "cell_type": "code",
   "execution_count": 123,
   "id": "132935b4",
   "metadata": {},
   "outputs": [
    {
     "name": "stdout",
     "output_type": "stream",
     "text": [
      "Accuracy : [0.8116343490304709, 0.7922437673130194, 0.7791127541589649, 0.7744916820702403, 0.7726432532347505]\n",
      "Roc Auc Scores : [0.8818580808977108, 0.8469735342102928, 0.836767986949116, 0.8339028875713659, 0.8260552904517986]\n"
     ]
    }
   ],
   "source": [
    "from sklearn import svm\n",
    "svc = svm.SVC(kernel = 'linear', C = 1) # Linear Kernel\n",
    "\n",
    "pred,acc,roc  = cross_validator2(svc,word2vec_train,train_data)\n",
    "print(\"Accuracy :\", acc)\n",
    "print(\"Roc Auc Scores :\", roc)"
   ]
  },
  {
   "cell_type": "markdown",
   "id": "9104f4a5",
   "metadata": {},
   "source": [
    "#### Kaggle Public Score : 0.86969\n",
    "#### Kaggle Private Score : 0.89194"
   ]
  },
  {
   "cell_type": "code",
   "execution_count": null,
   "id": "0b2cbc89",
   "metadata": {},
   "outputs": [],
   "source": []
  }
 ],
 "metadata": {
  "kernelspec": {
   "display_name": "Python 3",
   "language": "python",
   "name": "python3"
  },
  "language_info": {
   "codemirror_mode": {
    "name": "ipython",
    "version": 3
   },
   "file_extension": ".py",
   "mimetype": "text/x-python",
   "name": "python",
   "nbconvert_exporter": "python",
   "pygments_lexer": "ipython3",
   "version": "3.8.8"
  }
 },
 "nbformat": 4,
 "nbformat_minor": 5
}
